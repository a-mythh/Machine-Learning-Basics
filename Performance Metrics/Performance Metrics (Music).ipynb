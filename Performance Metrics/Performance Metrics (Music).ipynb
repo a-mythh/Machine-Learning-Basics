{
 "cells": [
  {
   "cell_type": "markdown",
   "id": "9286a9b8",
   "metadata": {},
   "source": [
    "#### Load the necessary libraries"
   ]
  },
  {
   "cell_type": "code",
   "execution_count": 2,
   "id": "f0401ec0",
   "metadata": {},
   "outputs": [],
   "source": [
    "import pandas as pd\n",
    "import numpy as np\n",
    "import matplotlib.pyplot as plt"
   ]
  },
  {
   "cell_type": "markdown",
   "id": "a6c9a701",
   "metadata": {},
   "source": [
    "#### Load the dataset"
   ]
  },
  {
   "cell_type": "code",
   "execution_count": 3,
   "id": "f4f66690",
   "metadata": {},
   "outputs": [
    {
     "data": {
      "text/html": [
       "<div>\n",
       "<style scoped>\n",
       "    .dataframe tbody tr th:only-of-type {\n",
       "        vertical-align: middle;\n",
       "    }\n",
       "\n",
       "    .dataframe tbody tr th {\n",
       "        vertical-align: top;\n",
       "    }\n",
       "\n",
       "    .dataframe thead th {\n",
       "        text-align: right;\n",
       "    }\n",
       "</style>\n",
       "<table border=\"1\" class=\"dataframe\">\n",
       "  <thead>\n",
       "    <tr style=\"text-align: right;\">\n",
       "      <th></th>\n",
       "      <th>Class</th>\n",
       "      <th>_RMSenergy_Mean</th>\n",
       "      <th>_Lowenergy_Mean</th>\n",
       "      <th>_Fluctuation_Mean</th>\n",
       "      <th>_Tempo_Mean</th>\n",
       "      <th>_MFCC_Mean_1</th>\n",
       "      <th>_MFCC_Mean_2</th>\n",
       "      <th>_MFCC_Mean_3</th>\n",
       "      <th>_MFCC_Mean_4</th>\n",
       "      <th>_MFCC_Mean_5</th>\n",
       "      <th>...</th>\n",
       "      <th>_Chromagram_Mean_9</th>\n",
       "      <th>_Chromagram_Mean_10</th>\n",
       "      <th>_Chromagram_Mean_11</th>\n",
       "      <th>_Chromagram_Mean_12</th>\n",
       "      <th>_HarmonicChangeDetectionFunction_Mean</th>\n",
       "      <th>_HarmonicChangeDetectionFunction_Std</th>\n",
       "      <th>_HarmonicChangeDetectionFunction_Slope</th>\n",
       "      <th>_HarmonicChangeDetectionFunction_PeriodFreq</th>\n",
       "      <th>_HarmonicChangeDetectionFunction_PeriodAmp</th>\n",
       "      <th>_HarmonicChangeDetectionFunction_PeriodEntropy</th>\n",
       "    </tr>\n",
       "  </thead>\n",
       "  <tbody>\n",
       "    <tr>\n",
       "      <th>0</th>\n",
       "      <td>relax</td>\n",
       "      <td>0.052</td>\n",
       "      <td>0.591</td>\n",
       "      <td>9.136</td>\n",
       "      <td>130.043</td>\n",
       "      <td>3.997</td>\n",
       "      <td>0.363</td>\n",
       "      <td>0.887</td>\n",
       "      <td>0.078</td>\n",
       "      <td>0.221</td>\n",
       "      <td>...</td>\n",
       "      <td>0.426</td>\n",
       "      <td>1.000</td>\n",
       "      <td>0.008</td>\n",
       "      <td>0.101</td>\n",
       "      <td>0.316</td>\n",
       "      <td>0.261</td>\n",
       "      <td>0.018</td>\n",
       "      <td>1.035</td>\n",
       "      <td>0.593</td>\n",
       "      <td>0.970</td>\n",
       "    </tr>\n",
       "    <tr>\n",
       "      <th>1</th>\n",
       "      <td>relax</td>\n",
       "      <td>0.125</td>\n",
       "      <td>0.439</td>\n",
       "      <td>6.680</td>\n",
       "      <td>142.240</td>\n",
       "      <td>4.058</td>\n",
       "      <td>0.516</td>\n",
       "      <td>0.785</td>\n",
       "      <td>0.397</td>\n",
       "      <td>0.556</td>\n",
       "      <td>...</td>\n",
       "      <td>0.002</td>\n",
       "      <td>1.000</td>\n",
       "      <td>0.000</td>\n",
       "      <td>0.984</td>\n",
       "      <td>0.285</td>\n",
       "      <td>0.211</td>\n",
       "      <td>-0.082</td>\n",
       "      <td>3.364</td>\n",
       "      <td>0.702</td>\n",
       "      <td>0.967</td>\n",
       "    </tr>\n",
       "    <tr>\n",
       "      <th>2</th>\n",
       "      <td>relax</td>\n",
       "      <td>0.046</td>\n",
       "      <td>0.639</td>\n",
       "      <td>10.578</td>\n",
       "      <td>188.154</td>\n",
       "      <td>2.775</td>\n",
       "      <td>0.903</td>\n",
       "      <td>0.502</td>\n",
       "      <td>0.329</td>\n",
       "      <td>0.287</td>\n",
       "      <td>...</td>\n",
       "      <td>0.184</td>\n",
       "      <td>0.746</td>\n",
       "      <td>0.016</td>\n",
       "      <td>1.000</td>\n",
       "      <td>0.413</td>\n",
       "      <td>0.299</td>\n",
       "      <td>0.134</td>\n",
       "      <td>1.682</td>\n",
       "      <td>0.692</td>\n",
       "      <td>0.963</td>\n",
       "    </tr>\n",
       "    <tr>\n",
       "      <th>3</th>\n",
       "      <td>relax</td>\n",
       "      <td>0.135</td>\n",
       "      <td>0.603</td>\n",
       "      <td>10.442</td>\n",
       "      <td>65.991</td>\n",
       "      <td>2.841</td>\n",
       "      <td>1.552</td>\n",
       "      <td>0.612</td>\n",
       "      <td>0.351</td>\n",
       "      <td>0.011</td>\n",
       "      <td>...</td>\n",
       "      <td>0.038</td>\n",
       "      <td>1.000</td>\n",
       "      <td>0.161</td>\n",
       "      <td>0.757</td>\n",
       "      <td>0.422</td>\n",
       "      <td>0.265</td>\n",
       "      <td>0.042</td>\n",
       "      <td>0.354</td>\n",
       "      <td>0.743</td>\n",
       "      <td>0.968</td>\n",
       "    </tr>\n",
       "    <tr>\n",
       "      <th>4</th>\n",
       "      <td>relax</td>\n",
       "      <td>0.066</td>\n",
       "      <td>0.591</td>\n",
       "      <td>9.769</td>\n",
       "      <td>88.890</td>\n",
       "      <td>3.217</td>\n",
       "      <td>0.228</td>\n",
       "      <td>0.814</td>\n",
       "      <td>0.096</td>\n",
       "      <td>0.434</td>\n",
       "      <td>...</td>\n",
       "      <td>0.004</td>\n",
       "      <td>0.404</td>\n",
       "      <td>1.000</td>\n",
       "      <td>0.001</td>\n",
       "      <td>0.345</td>\n",
       "      <td>0.261</td>\n",
       "      <td>0.089</td>\n",
       "      <td>0.748</td>\n",
       "      <td>0.674</td>\n",
       "      <td>0.957</td>\n",
       "    </tr>\n",
       "  </tbody>\n",
       "</table>\n",
       "<p>5 rows × 51 columns</p>\n",
       "</div>"
      ],
      "text/plain": [
       "   Class  _RMSenergy_Mean  _Lowenergy_Mean  _Fluctuation_Mean  _Tempo_Mean   \n",
       "0  relax            0.052            0.591              9.136      130.043  \\\n",
       "1  relax            0.125            0.439              6.680      142.240   \n",
       "2  relax            0.046            0.639             10.578      188.154   \n",
       "3  relax            0.135            0.603             10.442       65.991   \n",
       "4  relax            0.066            0.591              9.769       88.890   \n",
       "\n",
       "   _MFCC_Mean_1  _MFCC_Mean_2  _MFCC_Mean_3  _MFCC_Mean_4  _MFCC_Mean_5  ...   \n",
       "0         3.997         0.363         0.887         0.078         0.221  ...  \\\n",
       "1         4.058         0.516         0.785         0.397         0.556  ...   \n",
       "2         2.775         0.903         0.502         0.329         0.287  ...   \n",
       "3         2.841         1.552         0.612         0.351         0.011  ...   \n",
       "4         3.217         0.228         0.814         0.096         0.434  ...   \n",
       "\n",
       "   _Chromagram_Mean_9  _Chromagram_Mean_10  _Chromagram_Mean_11   \n",
       "0               0.426                1.000                0.008  \\\n",
       "1               0.002                1.000                0.000   \n",
       "2               0.184                0.746                0.016   \n",
       "3               0.038                1.000                0.161   \n",
       "4               0.004                0.404                1.000   \n",
       "\n",
       "   _Chromagram_Mean_12  _HarmonicChangeDetectionFunction_Mean   \n",
       "0                0.101                                  0.316  \\\n",
       "1                0.984                                  0.285   \n",
       "2                1.000                                  0.413   \n",
       "3                0.757                                  0.422   \n",
       "4                0.001                                  0.345   \n",
       "\n",
       "   _HarmonicChangeDetectionFunction_Std   \n",
       "0                                 0.261  \\\n",
       "1                                 0.211   \n",
       "2                                 0.299   \n",
       "3                                 0.265   \n",
       "4                                 0.261   \n",
       "\n",
       "   _HarmonicChangeDetectionFunction_Slope   \n",
       "0                                   0.018  \\\n",
       "1                                  -0.082   \n",
       "2                                   0.134   \n",
       "3                                   0.042   \n",
       "4                                   0.089   \n",
       "\n",
       "   _HarmonicChangeDetectionFunction_PeriodFreq   \n",
       "0                                        1.035  \\\n",
       "1                                        3.364   \n",
       "2                                        1.682   \n",
       "3                                        0.354   \n",
       "4                                        0.748   \n",
       "\n",
       "   _HarmonicChangeDetectionFunction_PeriodAmp   \n",
       "0                                       0.593  \\\n",
       "1                                       0.702   \n",
       "2                                       0.692   \n",
       "3                                       0.743   \n",
       "4                                       0.674   \n",
       "\n",
       "   _HarmonicChangeDetectionFunction_PeriodEntropy  \n",
       "0                                           0.970  \n",
       "1                                           0.967  \n",
       "2                                           0.963  \n",
       "3                                           0.968  \n",
       "4                                           0.957  \n",
       "\n",
       "[5 rows x 51 columns]"
      ]
     },
     "execution_count": 3,
     "metadata": {},
     "output_type": "execute_result"
    }
   ],
   "source": [
    "data = pd.read_csv('music.csv')\n",
    "\n",
    "data.head()"
   ]
  },
  {
   "cell_type": "markdown",
   "id": "82fa0e3c",
   "metadata": {},
   "source": [
    "#### Check for null values in the dataset"
   ]
  },
  {
   "cell_type": "code",
   "execution_count": 4,
   "id": "a91a037f",
   "metadata": {},
   "outputs": [
    {
     "data": {
      "text/plain": [
       "Class                                             0\n",
       "_RMSenergy_Mean                                   0\n",
       "_Lowenergy_Mean                                   0\n",
       "_Fluctuation_Mean                                 0\n",
       "_Tempo_Mean                                       0\n",
       "_MFCC_Mean_1                                      0\n",
       "_MFCC_Mean_2                                      0\n",
       "_MFCC_Mean_3                                      0\n",
       "_MFCC_Mean_4                                      0\n",
       "_MFCC_Mean_5                                      0\n",
       "_MFCC_Mean_6                                      0\n",
       "_MFCC_Mean_7                                      0\n",
       "_MFCC_Mean_8                                      0\n",
       "_MFCC_Mean_9                                      0\n",
       "_MFCC_Mean_10                                     0\n",
       "_MFCC_Mean_11                                     0\n",
       "_MFCC_Mean_12                                     0\n",
       "_MFCC_Mean_13                                     0\n",
       "_Roughness_Mean                                   0\n",
       "_Roughness_Slope                                  0\n",
       "_Zero-crossingrate_Mean                           0\n",
       "_AttackTime_Mean                                  0\n",
       "_AttackTime_Slope                                 0\n",
       "_Rolloff_Mean                                     0\n",
       "_Eventdensity_Mean                                0\n",
       "_Pulseclarity_Mean                                0\n",
       "_Brightness_Mean                                  0\n",
       "_Spectralcentroid_Mean                            0\n",
       "_Spectralspread_Mean                              0\n",
       "_Spectralskewness_Mean                            0\n",
       "_Spectralkurtosis_Mean                            0\n",
       "_Spectralflatness_Mean                            0\n",
       "_EntropyofSpectrum_Mean                           0\n",
       "_Chromagram_Mean_1                                0\n",
       "_Chromagram_Mean_2                                0\n",
       "_Chromagram_Mean_3                                0\n",
       "_Chromagram_Mean_4                                0\n",
       "_Chromagram_Mean_5                                0\n",
       "_Chromagram_Mean_6                                0\n",
       "_Chromagram_Mean_7                                0\n",
       "_Chromagram_Mean_8                                0\n",
       "_Chromagram_Mean_9                                0\n",
       "_Chromagram_Mean_10                               0\n",
       "_Chromagram_Mean_11                               0\n",
       "_Chromagram_Mean_12                               0\n",
       "_HarmonicChangeDetectionFunction_Mean             0\n",
       "_HarmonicChangeDetectionFunction_Std              0\n",
       "_HarmonicChangeDetectionFunction_Slope            0\n",
       "_HarmonicChangeDetectionFunction_PeriodFreq       0\n",
       "_HarmonicChangeDetectionFunction_PeriodAmp        0\n",
       "_HarmonicChangeDetectionFunction_PeriodEntropy    0\n",
       "dtype: int64"
      ]
     },
     "execution_count": 4,
     "metadata": {},
     "output_type": "execute_result"
    }
   ],
   "source": [
    "data.isnull().sum()"
   ]
  },
  {
   "cell_type": "markdown",
   "id": "8a121ef8",
   "metadata": {},
   "source": [
    "***There are no null values present in the data***"
   ]
  },
  {
   "cell_type": "markdown",
   "id": "c4a3ae40",
   "metadata": {},
   "source": [
    "#### Separate data into features and target"
   ]
  },
  {
   "cell_type": "code",
   "execution_count": 8,
   "id": "3f50e647",
   "metadata": {},
   "outputs": [],
   "source": [
    "x, y = data.drop('Class', axis = 1), data.Class"
   ]
  },
  {
   "cell_type": "markdown",
   "id": "11e515d0",
   "metadata": {},
   "source": [
    "### Encode the labels"
   ]
  },
  {
   "cell_type": "code",
   "execution_count": 18,
   "id": "7806818c",
   "metadata": {},
   "outputs": [],
   "source": [
    "# load the module for encoding\n",
    "from sklearn.preprocessing import LabelEncoder\n",
    "\n",
    "# creating instance of the encoder\n",
    "encoder = LabelEncoder()\n",
    "\n",
    "# transform values of target\n",
    "y_encoded = encoder.fit_transform(y)"
   ]
  },
  {
   "cell_type": "code",
   "execution_count": 27,
   "id": "25cf1a5d",
   "metadata": {},
   "outputs": [
    {
     "data": {
      "text/plain": [
       "array([2, 2, 2, 2, 2, 2, 2, 2, 2, 2, 2, 2, 2, 2, 2, 2, 2, 2, 2, 2, 2, 2,\n",
       "       2, 2, 2, 2, 2, 2, 2, 2, 2, 2, 2, 2, 2, 2, 2, 2, 2, 2, 2, 2, 2, 2,\n",
       "       2, 2, 2, 2, 2, 2, 2, 2, 2, 2, 2, 2, 2, 2, 2, 2, 2, 2, 2, 2, 2, 2,\n",
       "       2, 2, 2, 2, 2, 2, 2, 2, 2, 2, 2, 2, 2, 2, 2, 2, 2, 2, 2, 2, 2, 2,\n",
       "       2, 2, 2, 2, 2, 2, 2, 2, 2, 2, 2, 2, 1, 1, 1, 1, 1, 1, 1, 1, 1, 1,\n",
       "       1, 1, 1, 1, 1, 1, 1, 1, 1, 1, 1, 1, 1, 1, 1, 1, 1, 1, 1, 1, 1, 1,\n",
       "       1, 1, 1, 1, 1, 1, 1, 1, 1, 1, 1, 1, 1, 1, 1, 1, 1, 1, 1, 1, 1, 1,\n",
       "       1, 1, 1, 1, 1, 1, 1, 1, 1, 1, 1, 1, 1, 1, 1, 1, 1, 1, 1, 1, 1, 1,\n",
       "       1, 1, 1, 1, 1, 1, 1, 1, 1, 1, 1, 1, 1, 1, 1, 1, 1, 1, 1, 1, 1, 1,\n",
       "       1, 1, 3, 3, 3, 3, 3, 3, 3, 3, 3, 3, 3, 3, 3, 3, 3, 3, 3, 3, 3, 3,\n",
       "       3, 3, 3, 3, 3, 3, 3, 3, 3, 3, 3, 3, 3, 3, 3, 3, 3, 3, 3, 3, 3, 3,\n",
       "       3, 3, 3, 3, 3, 3, 3, 3, 3, 3, 3, 3, 3, 3, 3, 3, 3, 3, 3, 3, 3, 3,\n",
       "       3, 3, 3, 3, 3, 3, 3, 3, 3, 3, 3, 3, 3, 3, 3, 3, 3, 3, 3, 3, 3, 3,\n",
       "       3, 3, 3, 3, 3, 3, 3, 3, 3, 3, 3, 3, 3, 3, 0, 0, 0, 0, 0, 0, 0, 0,\n",
       "       0, 0, 0, 0, 0, 0, 0, 0, 0, 0, 0, 0, 0, 0, 0, 0, 0, 0, 0, 0, 0, 0,\n",
       "       0, 0, 0, 0, 0, 0, 0, 0, 0, 0, 0, 0, 0, 0, 0, 0, 0, 0, 0, 0, 0, 0,\n",
       "       0, 0, 0, 0, 0, 0, 0, 0, 0, 0, 0, 0, 0, 0, 0, 0, 0, 0, 0, 0, 0, 0,\n",
       "       0, 0, 0, 0, 0, 0, 0, 0, 0, 0, 0, 0, 0, 0, 0, 0, 0, 0, 0, 0, 0, 0,\n",
       "       0, 0, 0, 0])"
      ]
     },
     "execution_count": 27,
     "metadata": {},
     "output_type": "execute_result"
    }
   ],
   "source": [
    "y_encoded"
   ]
  },
  {
   "cell_type": "markdown",
   "id": "b8b0c94b",
   "metadata": {},
   "source": [
    "### Split data into training and testing datasets"
   ]
  },
  {
   "cell_type": "code",
   "execution_count": 17,
   "id": "a69d37f1",
   "metadata": {},
   "outputs": [
    {
     "data": {
      "text/plain": [
       "array([2, 1, 2, 3, 2, 1, 3, 2, 3, 0, 2, 2, 3, 2, 1, 1, 0, 1, 3, 1, 0, 0,\n",
       "       2, 0, 3, 2, 1, 0, 2, 2, 2, 1, 2, 3, 3, 0, 3, 3, 2, 3, 2, 1, 3, 1,\n",
       "       1, 3, 1, 1, 1, 2, 0, 1, 3, 3, 2, 0, 0, 3, 2, 2, 3, 0, 3, 0, 0, 3,\n",
       "       0, 3, 0, 2, 1, 2, 2, 0, 1, 1, 1, 3, 2, 2, 1, 0, 2, 0, 3, 2, 3, 0,\n",
       "       0, 3, 1, 0, 1, 0, 2, 0, 3, 3, 1, 1, 2, 3, 3, 1, 2, 0, 0, 0, 3, 2,\n",
       "       3, 3, 0, 0, 2, 1, 2, 1, 2, 1, 0, 1, 0, 3, 0, 1, 1, 1, 2, 1, 2, 0,\n",
       "       2, 0, 0, 1, 2, 3, 2, 3, 0, 1, 0, 3, 2, 0, 3, 3, 2, 1, 2, 2, 3, 1,\n",
       "       1, 0, 2, 2, 1, 3, 2, 3, 2, 2, 0, 1, 3, 0, 1, 0, 1, 1, 2, 2, 0, 0,\n",
       "       3, 2, 2, 0, 3, 1, 2, 0, 0, 1, 2, 2, 1, 3, 1, 0, 2, 0, 0, 0, 3, 2,\n",
       "       3, 2, 0, 3, 1, 0, 1, 2, 1, 3, 1, 1, 3, 0, 3, 0, 0, 0, 0, 2, 0, 3,\n",
       "       1, 3, 0, 1, 2, 3, 1, 3, 0, 2, 1, 1, 3, 0, 1, 3, 0, 1, 1, 3, 1, 1,\n",
       "       3, 3, 0, 3, 3, 3, 0, 0, 3, 3, 1, 3, 0, 1, 3, 0, 3, 0, 1, 0, 0, 3,\n",
       "       1, 2, 2, 0, 3, 1, 1, 0, 1, 1, 2, 3, 0, 1, 3, 1, 2, 2, 3, 1, 0, 2,\n",
       "       2, 0, 0, 0, 3, 0, 3, 3, 2, 3, 2, 3, 3, 1, 3, 0, 0, 1, 0, 1, 3, 2,\n",
       "       3, 2, 0, 3, 2, 2, 2, 0, 1, 3, 1, 0])"
      ]
     },
     "execution_count": 17,
     "metadata": {},
     "output_type": "execute_result"
    }
   ],
   "source": [
    "from sklearn.model_selection import train_test_split\n",
    "\n",
    "## we will keep 20% for testing and rest for training\n",
    "\n",
    "x_train, x_test, y_train, y_test = train_test_split(x, y_encoded, test_size = 0.2)\n",
    "\n",
    "y_train"
   ]
  },
  {
   "cell_type": "markdown",
   "id": "ec802c77",
   "metadata": {},
   "source": [
    "## Gaussian Naive Bayes"
   ]
  },
  {
   "cell_type": "markdown",
   "id": "c3702747",
   "metadata": {},
   "source": [
    "Let's use Naive Bayes algorithm to predict if the person will have heart disease"
   ]
  },
  {
   "cell_type": "markdown",
   "id": "15b3da48",
   "metadata": {},
   "source": [
    "#### Load the libraries"
   ]
  },
  {
   "cell_type": "code",
   "execution_count": 19,
   "id": "bd9bef90",
   "metadata": {},
   "outputs": [],
   "source": [
    "from sklearn.naive_bayes import GaussianNB"
   ]
  },
  {
   "cell_type": "markdown",
   "id": "096d61bb",
   "metadata": {},
   "source": [
    "#### Create an instance of the model"
   ]
  },
  {
   "cell_type": "code",
   "execution_count": 20,
   "id": "b2c77a1b",
   "metadata": {},
   "outputs": [],
   "source": [
    "gaussian = GaussianNB()"
   ]
  },
  {
   "cell_type": "markdown",
   "id": "8e8ca305",
   "metadata": {},
   "source": [
    "#### Train the model"
   ]
  },
  {
   "cell_type": "code",
   "execution_count": 21,
   "id": "e5db5c00",
   "metadata": {},
   "outputs": [
    {
     "data": {
      "text/html": [
       "<style>#sk-container-id-1 {color: black;background-color: white;}#sk-container-id-1 pre{padding: 0;}#sk-container-id-1 div.sk-toggleable {background-color: white;}#sk-container-id-1 label.sk-toggleable__label {cursor: pointer;display: block;width: 100%;margin-bottom: 0;padding: 0.3em;box-sizing: border-box;text-align: center;}#sk-container-id-1 label.sk-toggleable__label-arrow:before {content: \"▸\";float: left;margin-right: 0.25em;color: #696969;}#sk-container-id-1 label.sk-toggleable__label-arrow:hover:before {color: black;}#sk-container-id-1 div.sk-estimator:hover label.sk-toggleable__label-arrow:before {color: black;}#sk-container-id-1 div.sk-toggleable__content {max-height: 0;max-width: 0;overflow: hidden;text-align: left;background-color: #f0f8ff;}#sk-container-id-1 div.sk-toggleable__content pre {margin: 0.2em;color: black;border-radius: 0.25em;background-color: #f0f8ff;}#sk-container-id-1 input.sk-toggleable__control:checked~div.sk-toggleable__content {max-height: 200px;max-width: 100%;overflow: auto;}#sk-container-id-1 input.sk-toggleable__control:checked~label.sk-toggleable__label-arrow:before {content: \"▾\";}#sk-container-id-1 div.sk-estimator input.sk-toggleable__control:checked~label.sk-toggleable__label {background-color: #d4ebff;}#sk-container-id-1 div.sk-label input.sk-toggleable__control:checked~label.sk-toggleable__label {background-color: #d4ebff;}#sk-container-id-1 input.sk-hidden--visually {border: 0;clip: rect(1px 1px 1px 1px);clip: rect(1px, 1px, 1px, 1px);height: 1px;margin: -1px;overflow: hidden;padding: 0;position: absolute;width: 1px;}#sk-container-id-1 div.sk-estimator {font-family: monospace;background-color: #f0f8ff;border: 1px dotted black;border-radius: 0.25em;box-sizing: border-box;margin-bottom: 0.5em;}#sk-container-id-1 div.sk-estimator:hover {background-color: #d4ebff;}#sk-container-id-1 div.sk-parallel-item::after {content: \"\";width: 100%;border-bottom: 1px solid gray;flex-grow: 1;}#sk-container-id-1 div.sk-label:hover label.sk-toggleable__label {background-color: #d4ebff;}#sk-container-id-1 div.sk-serial::before {content: \"\";position: absolute;border-left: 1px solid gray;box-sizing: border-box;top: 0;bottom: 0;left: 50%;z-index: 0;}#sk-container-id-1 div.sk-serial {display: flex;flex-direction: column;align-items: center;background-color: white;padding-right: 0.2em;padding-left: 0.2em;position: relative;}#sk-container-id-1 div.sk-item {position: relative;z-index: 1;}#sk-container-id-1 div.sk-parallel {display: flex;align-items: stretch;justify-content: center;background-color: white;position: relative;}#sk-container-id-1 div.sk-item::before, #sk-container-id-1 div.sk-parallel-item::before {content: \"\";position: absolute;border-left: 1px solid gray;box-sizing: border-box;top: 0;bottom: 0;left: 50%;z-index: -1;}#sk-container-id-1 div.sk-parallel-item {display: flex;flex-direction: column;z-index: 1;position: relative;background-color: white;}#sk-container-id-1 div.sk-parallel-item:first-child::after {align-self: flex-end;width: 50%;}#sk-container-id-1 div.sk-parallel-item:last-child::after {align-self: flex-start;width: 50%;}#sk-container-id-1 div.sk-parallel-item:only-child::after {width: 0;}#sk-container-id-1 div.sk-dashed-wrapped {border: 1px dashed gray;margin: 0 0.4em 0.5em 0.4em;box-sizing: border-box;padding-bottom: 0.4em;background-color: white;}#sk-container-id-1 div.sk-label label {font-family: monospace;font-weight: bold;display: inline-block;line-height: 1.2em;}#sk-container-id-1 div.sk-label-container {text-align: center;}#sk-container-id-1 div.sk-container {/* jupyter's `normalize.less` sets `[hidden] { display: none; }` but bootstrap.min.css set `[hidden] { display: none !important; }` so we also need the `!important` here to be able to override the default hidden behavior on the sphinx rendered scikit-learn.org. See: https://github.com/scikit-learn/scikit-learn/issues/21755 */display: inline-block !important;position: relative;}#sk-container-id-1 div.sk-text-repr-fallback {display: none;}</style><div id=\"sk-container-id-1\" class=\"sk-top-container\"><div class=\"sk-text-repr-fallback\"><pre>GaussianNB()</pre><b>In a Jupyter environment, please rerun this cell to show the HTML representation or trust the notebook. <br />On GitHub, the HTML representation is unable to render, please try loading this page with nbviewer.org.</b></div><div class=\"sk-container\" hidden><div class=\"sk-item\"><div class=\"sk-estimator sk-toggleable\"><input class=\"sk-toggleable__control sk-hidden--visually\" id=\"sk-estimator-id-1\" type=\"checkbox\" checked><label for=\"sk-estimator-id-1\" class=\"sk-toggleable__label sk-toggleable__label-arrow\">GaussianNB</label><div class=\"sk-toggleable__content\"><pre>GaussianNB()</pre></div></div></div></div></div>"
      ],
      "text/plain": [
       "GaussianNB()"
      ]
     },
     "execution_count": 21,
     "metadata": {},
     "output_type": "execute_result"
    }
   ],
   "source": [
    "gaussian.fit(x_train, y_train)"
   ]
  },
  {
   "cell_type": "markdown",
   "id": "6891966d",
   "metadata": {},
   "source": [
    "#### Make predictions on test data"
   ]
  },
  {
   "cell_type": "code",
   "execution_count": 22,
   "id": "f2ae7c37",
   "metadata": {},
   "outputs": [],
   "source": [
    "predictions = gaussian.predict(x_test)"
   ]
  },
  {
   "cell_type": "markdown",
   "id": "86efc098",
   "metadata": {},
   "source": [
    "#### Define function to make confusion matrix"
   ]
  },
  {
   "cell_type": "code",
   "execution_count": 35,
   "id": "4fa2d9df",
   "metadata": {},
   "outputs": [],
   "source": [
    "# load the sklearn module for confusion matrix\n",
    "from sklearn.metrics import confusion_matrix, ConfusionMatrixDisplay\n",
    "\n",
    "def get_ConfusionMatrix(y_test, predictions):\n",
    "    # get the confusion matrix\n",
    "    conf_mat = confusion_matrix(y_test, predictions, labels = gaussian.classes_)\n",
    "\n",
    "    # display the confusion matrix\n",
    "    display_mat = ConfusionMatrixDisplay(conf_mat, display_labels = ['relax', 'happy', 'sad', 'angry'])\n",
    "\n",
    "    display_mat.plot()\n",
    "\n",
    "    plt.show()"
   ]
  },
  {
   "cell_type": "markdown",
   "id": "3baef40b",
   "metadata": {},
   "source": [
    "### Make Confusion Matrix"
   ]
  },
  {
   "cell_type": "code",
   "execution_count": 36,
   "id": "cf402a14",
   "metadata": {},
   "outputs": [
    {
     "data": {
      "image/png": "[encoded data removed]",
      "text/plain": [
       "<Figure size 640x480 with 2 Axes>"
      ]
     },
     "metadata": {},
     "output_type": "display_data"
    }
   ],
   "source": [
    "get_ConfusionMatrix(y_test, predictions)"
   ]
  },
  {
   "cell_type": "markdown",
   "id": "4f9ac8a2",
   "metadata": {},
   "source": [
    "#### Define function to make the classification report"
   ]
  },
  {
   "cell_type": "code",
   "execution_count": 28,
   "id": "56414eb5",
   "metadata": {},
   "outputs": [],
   "source": [
    "from sklearn.metrics import classification_report\n",
    "\n",
    "def get_report(y_test, predictions):\n",
    "    target_names = ['relax', 'happy', 'sad', 'angry']\n",
    "\n",
    "    report = classification_report(y_test, predictions, target_names = target_names)\n",
    "\n",
    "    print(report)"
   ]
  },
  {
   "cell_type": "markdown",
   "id": "3b5cc858",
   "metadata": {},
   "source": [
    "### Make the classification report"
   ]
  },
  {
   "cell_type": "code",
   "execution_count": 29,
   "id": "16559b58",
   "metadata": {},
   "outputs": [
    {
     "name": "stdout",
     "output_type": "stream",
     "text": [
      "              precision    recall  f1-score   support\n",
      "\n",
      "       relax       0.58      0.88      0.70        16\n",
      "       happy       0.61      0.91      0.73        22\n",
      "         sad       0.82      0.56      0.67        25\n",
      "       angry       0.50      0.18      0.26        17\n",
      "\n",
      "    accuracy                           0.64        80\n",
      "   macro avg       0.63      0.63      0.59        80\n",
      "weighted avg       0.65      0.64      0.60        80\n",
      "\n"
     ]
    }
   ],
   "source": [
    "get_report(y_test, predictions)"
   ]
  },
  {
   "cell_type": "markdown",
   "id": "38e39a4f",
   "metadata": {},
   "source": [
    "## Decision Tree"
   ]
  },
  {
   "cell_type": "markdown",
   "id": "a63e4a5a",
   "metadata": {},
   "source": [
    "Let's use Decision Tree classifier to predict if person will have heart disease or not"
   ]
  },
  {
   "cell_type": "markdown",
   "id": "5937e0c0",
   "metadata": {},
   "source": [
    "#### Load the libraries"
   ]
  },
  {
   "cell_type": "code",
   "execution_count": 37,
   "id": "6f39a461",
   "metadata": {},
   "outputs": [],
   "source": [
    "from sklearn.tree import DecisionTreeClassifier"
   ]
  },
  {
   "cell_type": "markdown",
   "id": "75d7ac82",
   "metadata": {},
   "source": [
    "#### Create an instance of the model"
   ]
  },
  {
   "cell_type": "code",
   "execution_count": 38,
   "id": "4bc1f5cb",
   "metadata": {},
   "outputs": [],
   "source": [
    "treeClassifier = DecisionTreeClassifier()"
   ]
  },
  {
   "cell_type": "markdown",
   "id": "d0997426",
   "metadata": {},
   "source": [
    "#### Train the model"
   ]
  },
  {
   "cell_type": "code",
   "execution_count": 39,
   "id": "d53f7a74",
   "metadata": {},
   "outputs": [
    {
     "data": {
      "text/html": [
       "<style>#sk-container-id-2 {color: black;background-color: white;}#sk-container-id-2 pre{padding: 0;}#sk-container-id-2 div.sk-toggleable {background-color: white;}#sk-container-id-2 label.sk-toggleable__label {cursor: pointer;display: block;width: 100%;margin-bottom: 0;padding: 0.3em;box-sizing: border-box;text-align: center;}#sk-container-id-2 label.sk-toggleable__label-arrow:before {content: \"▸\";float: left;margin-right: 0.25em;color: #696969;}#sk-container-id-2 label.sk-toggleable__label-arrow:hover:before {color: black;}#sk-container-id-2 div.sk-estimator:hover label.sk-toggleable__label-arrow:before {color: black;}#sk-container-id-2 div.sk-toggleable__content {max-height: 0;max-width: 0;overflow: hidden;text-align: left;background-color: #f0f8ff;}#sk-container-id-2 div.sk-toggleable__content pre {margin: 0.2em;color: black;border-radius: 0.25em;background-color: #f0f8ff;}#sk-container-id-2 input.sk-toggleable__control:checked~div.sk-toggleable__content {max-height: 200px;max-width: 100%;overflow: auto;}#sk-container-id-2 input.sk-toggleable__control:checked~label.sk-toggleable__label-arrow:before {content: \"▾\";}#sk-container-id-2 div.sk-estimator input.sk-toggleable__control:checked~label.sk-toggleable__label {background-color: #d4ebff;}#sk-container-id-2 div.sk-label input.sk-toggleable__control:checked~label.sk-toggleable__label {background-color: #d4ebff;}#sk-container-id-2 input.sk-hidden--visually {border: 0;clip: rect(1px 1px 1px 1px);clip: rect(1px, 1px, 1px, 1px);height: 1px;margin: -1px;overflow: hidden;padding: 0;position: absolute;width: 1px;}#sk-container-id-2 div.sk-estimator {font-family: monospace;background-color: #f0f8ff;border: 1px dotted black;border-radius: 0.25em;box-sizing: border-box;margin-bottom: 0.5em;}#sk-container-id-2 div.sk-estimator:hover {background-color: #d4ebff;}#sk-container-id-2 div.sk-parallel-item::after {content: \"\";width: 100%;border-bottom: 1px solid gray;flex-grow: 1;}#sk-container-id-2 div.sk-label:hover label.sk-toggleable__label {background-color: #d4ebff;}#sk-container-id-2 div.sk-serial::before {content: \"\";position: absolute;border-left: 1px solid gray;box-sizing: border-box;top: 0;bottom: 0;left: 50%;z-index: 0;}#sk-container-id-2 div.sk-serial {display: flex;flex-direction: column;align-items: center;background-color: white;padding-right: 0.2em;padding-left: 0.2em;position: relative;}#sk-container-id-2 div.sk-item {position: relative;z-index: 1;}#sk-container-id-2 div.sk-parallel {display: flex;align-items: stretch;justify-content: center;background-color: white;position: relative;}#sk-container-id-2 div.sk-item::before, #sk-container-id-2 div.sk-parallel-item::before {content: \"\";position: absolute;border-left: 1px solid gray;box-sizing: border-box;top: 0;bottom: 0;left: 50%;z-index: -1;}#sk-container-id-2 div.sk-parallel-item {display: flex;flex-direction: column;z-index: 1;position: relative;background-color: white;}#sk-container-id-2 div.sk-parallel-item:first-child::after {align-self: flex-end;width: 50%;}#sk-container-id-2 div.sk-parallel-item:last-child::after {align-self: flex-start;width: 50%;}#sk-container-id-2 div.sk-parallel-item:only-child::after {width: 0;}#sk-container-id-2 div.sk-dashed-wrapped {border: 1px dashed gray;margin: 0 0.4em 0.5em 0.4em;box-sizing: border-box;padding-bottom: 0.4em;background-color: white;}#sk-container-id-2 div.sk-label label {font-family: monospace;font-weight: bold;display: inline-block;line-height: 1.2em;}#sk-container-id-2 div.sk-label-container {text-align: center;}#sk-container-id-2 div.sk-container {/* jupyter's `normalize.less` sets `[hidden] { display: none; }` but bootstrap.min.css set `[hidden] { display: none !important; }` so we also need the `!important` here to be able to override the default hidden behavior on the sphinx rendered scikit-learn.org. See: https://github.com/scikit-learn/scikit-learn/issues/21755 */display: inline-block !important;position: relative;}#sk-container-id-2 div.sk-text-repr-fallback {display: none;}</style><div id=\"sk-container-id-2\" class=\"sk-top-container\"><div class=\"sk-text-repr-fallback\"><pre>DecisionTreeClassifier()</pre><b>In a Jupyter environment, please rerun this cell to show the HTML representation or trust the notebook. <br />On GitHub, the HTML representation is unable to render, please try loading this page with nbviewer.org.</b></div><div class=\"sk-container\" hidden><div class=\"sk-item\"><div class=\"sk-estimator sk-toggleable\"><input class=\"sk-toggleable__control sk-hidden--visually\" id=\"sk-estimator-id-2\" type=\"checkbox\" checked><label for=\"sk-estimator-id-2\" class=\"sk-toggleable__label sk-toggleable__label-arrow\">DecisionTreeClassifier</label><div class=\"sk-toggleable__content\"><pre>DecisionTreeClassifier()</pre></div></div></div></div></div>"
      ],
      "text/plain": [
       "DecisionTreeClassifier()"
      ]
     },
     "execution_count": 39,
     "metadata": {},
     "output_type": "execute_result"
    }
   ],
   "source": [
    "treeClassifier.fit(x_train, y_train)"
   ]
  },
  {
   "cell_type": "markdown",
   "id": "616dd46c",
   "metadata": {},
   "source": [
    "#### Make predictions on the test data"
   ]
  },
  {
   "cell_type": "code",
   "execution_count": 40,
   "id": "dc85ac8d",
   "metadata": {},
   "outputs": [],
   "source": [
    "predictions = treeClassifier.predict(x_test)"
   ]
  },
  {
   "cell_type": "markdown",
   "id": "f7308da5",
   "metadata": {},
   "source": [
    "### Make the Confusion Matrix"
   ]
  },
  {
   "cell_type": "code",
   "execution_count": 41,
   "id": "0103e7c6",
   "metadata": {},
   "outputs": [
    {
     "data": {
      "image/png": "[encoded data removed]",
      "text/plain": [
       "<Figure size 640x480 with 2 Axes>"
      ]
     },
     "metadata": {},
     "output_type": "display_data"
    }
   ],
   "source": [
    "get_ConfusionMatrix(y_test, predictions)"
   ]
  },
  {
   "cell_type": "markdown",
   "id": "30613f52",
   "metadata": {},
   "source": [
    "### Get the Classification report"
   ]
  },
  {
   "cell_type": "code",
   "execution_count": 42,
   "id": "e2300502",
   "metadata": {},
   "outputs": [
    {
     "name": "stdout",
     "output_type": "stream",
     "text": [
      "              precision    recall  f1-score   support\n",
      "\n",
      "       relax       0.72      0.81      0.76        16\n",
      "       happy       0.81      0.77      0.79        22\n",
      "         sad       0.79      0.76      0.78        25\n",
      "       angry       0.53      0.53      0.53        17\n",
      "\n",
      "    accuracy                           0.73        80\n",
      "   macro avg       0.71      0.72      0.72        80\n",
      "weighted avg       0.73      0.72      0.73        80\n",
      "\n"
     ]
    }
   ],
   "source": [
    "get_report(y_test, predictions)"
   ]
  },
  {
   "cell_type": "markdown",
   "id": "2631092a",
   "metadata": {},
   "source": [
    "## Logistic Regression"
   ]
  },
  {
   "cell_type": "markdown",
   "id": "abf1377b",
   "metadata": {},
   "source": [
    "Let's use Logistic Regression to predict if a person will have heart disease or not"
   ]
  },
  {
   "cell_type": "markdown",
   "id": "38c5878a",
   "metadata": {},
   "source": [
    "#### Load the libraries"
   ]
  },
  {
   "cell_type": "code",
   "execution_count": 43,
   "id": "2d7f2079",
   "metadata": {},
   "outputs": [],
   "source": [
    "from sklearn.linear_model import LogisticRegression"
   ]
  },
  {
   "cell_type": "markdown",
   "id": "68925615",
   "metadata": {},
   "source": [
    "#### Create an instance of the model"
   ]
  },
  {
   "cell_type": "code",
   "execution_count": 44,
   "id": "87f27154",
   "metadata": {},
   "outputs": [],
   "source": [
    "logisticClassifier = LogisticRegression()"
   ]
  },
  {
   "cell_type": "markdown",
   "id": "270c7f44",
   "metadata": {},
   "source": [
    "### Normalize the data"
   ]
  },
  {
   "cell_type": "code",
   "execution_count": 45,
   "id": "78762d36",
   "metadata": {},
   "outputs": [
    {
     "data": {
      "text/plain": [
       "array([[-1.28562787,  0.73777505,  0.87387422, ..., -0.78271248,\n",
       "        -2.45344953,  0.85686847],\n",
       "       [-0.15010658, -2.26106992, -0.20459929, ...,  1.72377548,\n",
       "        -0.93991736,  0.07493527],\n",
       "       [-1.37895839,  1.68477873,  1.5070822 , ..., -0.08640603,\n",
       "        -1.07877352, -0.96764234],\n",
       "       ...,\n",
       "       [ 0.81430876,  0.06698078, -1.06351386, ...,  1.72377548,\n",
       "         0.68469974, -1.22828674],\n",
       "       [ 0.08321971,  0.38264867, -1.17504981, ...,  1.72377548,\n",
       "         0.57361481,  0.59622407],\n",
       "       [-0.75675494, -1.55081717, -0.7916999 , ..., -1.20673835,\n",
       "         1.08738261, -0.44635354]])"
      ]
     },
     "execution_count": 45,
     "metadata": {},
     "output_type": "execute_result"
    }
   ],
   "source": [
    "# load the normalizer module\n",
    "from sklearn.preprocessing import StandardScaler\n",
    "\n",
    "scaler = StandardScaler()\n",
    "\n",
    "# separate the data to be normalized\n",
    "x_to_normalize = x\n",
    "scaler.fit(x_to_normalize)\n",
    "\n",
    "# transform the data\n",
    "x_normalized = scaler.transform(x_to_normalize)\n",
    "\n",
    "x_normalized"
   ]
  },
  {
   "cell_type": "markdown",
   "id": "fa5df944",
   "metadata": {},
   "source": [
    "#### Get the dataframe back after normalization"
   ]
  },
  {
   "cell_type": "code",
   "execution_count": 46,
   "id": "35d7df4a",
   "metadata": {},
   "outputs": [
    {
     "data": {
      "text/html": [
       "<div>\n",
       "<style scoped>\n",
       "    .dataframe tbody tr th:only-of-type {\n",
       "        vertical-align: middle;\n",
       "    }\n",
       "\n",
       "    .dataframe tbody tr th {\n",
       "        vertical-align: top;\n",
       "    }\n",
       "\n",
       "    .dataframe thead th {\n",
       "        text-align: right;\n",
       "    }\n",
       "</style>\n",
       "<table border=\"1\" class=\"dataframe\">\n",
       "  <thead>\n",
       "    <tr style=\"text-align: right;\">\n",
       "      <th></th>\n",
       "      <th>_RMSenergy_Mean</th>\n",
       "      <th>_Lowenergy_Mean</th>\n",
       "      <th>_Fluctuation_Mean</th>\n",
       "      <th>_Tempo_Mean</th>\n",
       "      <th>_MFCC_Mean_1</th>\n",
       "      <th>_MFCC_Mean_2</th>\n",
       "      <th>_MFCC_Mean_3</th>\n",
       "      <th>_MFCC_Mean_4</th>\n",
       "      <th>_MFCC_Mean_5</th>\n",
       "      <th>_MFCC_Mean_6</th>\n",
       "      <th>...</th>\n",
       "      <th>_Chromagram_Mean_9</th>\n",
       "      <th>_Chromagram_Mean_10</th>\n",
       "      <th>_Chromagram_Mean_11</th>\n",
       "      <th>_Chromagram_Mean_12</th>\n",
       "      <th>_HarmonicChangeDetectionFunction_Mean</th>\n",
       "      <th>_HarmonicChangeDetectionFunction_Std</th>\n",
       "      <th>_HarmonicChangeDetectionFunction_Slope</th>\n",
       "      <th>_HarmonicChangeDetectionFunction_PeriodFreq</th>\n",
       "      <th>_HarmonicChangeDetectionFunction_PeriodAmp</th>\n",
       "      <th>_HarmonicChangeDetectionFunction_PeriodEntropy</th>\n",
       "    </tr>\n",
       "  </thead>\n",
       "  <tbody>\n",
       "    <tr>\n",
       "      <th>0</th>\n",
       "      <td>-1.285628</td>\n",
       "      <td>0.737775</td>\n",
       "      <td>0.873874</td>\n",
       "      <td>0.186040</td>\n",
       "      <td>1.929915</td>\n",
       "      <td>0.541910</td>\n",
       "      <td>1.355820</td>\n",
       "      <td>0.172545</td>\n",
       "      <td>0.215926</td>\n",
       "      <td>0.391612</td>\n",
       "      <td>...</td>\n",
       "      <td>0.213319</td>\n",
       "      <td>1.144018</td>\n",
       "      <td>-1.060005</td>\n",
       "      <td>-0.818623</td>\n",
       "      <td>-0.220241</td>\n",
       "      <td>1.445837</td>\n",
       "      <td>0.173571</td>\n",
       "      <td>-0.782712</td>\n",
       "      <td>-2.453450</td>\n",
       "      <td>0.856868</td>\n",
       "    </tr>\n",
       "    <tr>\n",
       "      <th>1</th>\n",
       "      <td>-0.150107</td>\n",
       "      <td>-2.261070</td>\n",
       "      <td>-0.204599</td>\n",
       "      <td>0.542765</td>\n",
       "      <td>2.006331</td>\n",
       "      <td>0.826724</td>\n",
       "      <td>1.009163</td>\n",
       "      <td>1.330466</td>\n",
       "      <td>1.933997</td>\n",
       "      <td>3.738068</td>\n",
       "      <td>...</td>\n",
       "      <td>-1.054027</td>\n",
       "      <td>1.144018</td>\n",
       "      <td>-1.085369</td>\n",
       "      <td>1.721059</td>\n",
       "      <td>-0.779298</td>\n",
       "      <td>0.382761</td>\n",
       "      <td>-0.782346</td>\n",
       "      <td>1.723775</td>\n",
       "      <td>-0.939917</td>\n",
       "      <td>0.074935</td>\n",
       "    </tr>\n",
       "    <tr>\n",
       "      <th>2</th>\n",
       "      <td>-1.378958</td>\n",
       "      <td>1.684779</td>\n",
       "      <td>1.507082</td>\n",
       "      <td>1.885613</td>\n",
       "      <td>0.399089</td>\n",
       "      <td>1.547136</td>\n",
       "      <td>0.047359</td>\n",
       "      <td>1.083636</td>\n",
       "      <td>0.554411</td>\n",
       "      <td>0.499720</td>\n",
       "      <td>...</td>\n",
       "      <td>-0.510025</td>\n",
       "      <td>0.433595</td>\n",
       "      <td>-1.034642</td>\n",
       "      <td>1.767078</td>\n",
       "      <td>1.529065</td>\n",
       "      <td>2.253775</td>\n",
       "      <td>1.282434</td>\n",
       "      <td>-0.086406</td>\n",
       "      <td>-1.078774</td>\n",
       "      <td>-0.967642</td>\n",
       "    </tr>\n",
       "    <tr>\n",
       "      <th>3</th>\n",
       "      <td>0.005444</td>\n",
       "      <td>0.974526</td>\n",
       "      <td>1.447362</td>\n",
       "      <td>-1.687290</td>\n",
       "      <td>0.481769</td>\n",
       "      <td>2.755269</td>\n",
       "      <td>0.421205</td>\n",
       "      <td>1.163493</td>\n",
       "      <td>-0.861074</td>\n",
       "      <td>0.514462</td>\n",
       "      <td>...</td>\n",
       "      <td>-0.946422</td>\n",
       "      <td>1.144018</td>\n",
       "      <td>-0.574928</td>\n",
       "      <td>1.068162</td>\n",
       "      <td>1.691372</td>\n",
       "      <td>1.530883</td>\n",
       "      <td>0.402990</td>\n",
       "      <td>-1.515610</td>\n",
       "      <td>-0.370607</td>\n",
       "      <td>0.335580</td>\n",
       "    </tr>\n",
       "    <tr>\n",
       "      <th>4</th>\n",
       "      <td>-1.067857</td>\n",
       "      <td>0.737775</td>\n",
       "      <td>1.151836</td>\n",
       "      <td>-1.017563</td>\n",
       "      <td>0.952792</td>\n",
       "      <td>0.290603</td>\n",
       "      <td>1.107723</td>\n",
       "      <td>0.237882</td>\n",
       "      <td>1.308311</td>\n",
       "      <td>1.212255</td>\n",
       "      <td>...</td>\n",
       "      <td>-1.048049</td>\n",
       "      <td>-0.522958</td>\n",
       "      <td>2.085073</td>\n",
       "      <td>-1.106243</td>\n",
       "      <td>0.302747</td>\n",
       "      <td>1.445837</td>\n",
       "      <td>0.852271</td>\n",
       "      <td>-1.091584</td>\n",
       "      <td>-1.328715</td>\n",
       "      <td>-2.531509</td>\n",
       "    </tr>\n",
       "  </tbody>\n",
       "</table>\n",
       "<p>5 rows × 50 columns</p>\n",
       "</div>"
      ],
      "text/plain": [
       "   _RMSenergy_Mean  _Lowenergy_Mean  _Fluctuation_Mean  _Tempo_Mean   \n",
       "0        -1.285628         0.737775           0.873874     0.186040  \\\n",
       "1        -0.150107        -2.261070          -0.204599     0.542765   \n",
       "2        -1.378958         1.684779           1.507082     1.885613   \n",
       "3         0.005444         0.974526           1.447362    -1.687290   \n",
       "4        -1.067857         0.737775           1.151836    -1.017563   \n",
       "\n",
       "   _MFCC_Mean_1  _MFCC_Mean_2  _MFCC_Mean_3  _MFCC_Mean_4  _MFCC_Mean_5   \n",
       "0      1.929915      0.541910      1.355820      0.172545      0.215926  \\\n",
       "1      2.006331      0.826724      1.009163      1.330466      1.933997   \n",
       "2      0.399089      1.547136      0.047359      1.083636      0.554411   \n",
       "3      0.481769      2.755269      0.421205      1.163493     -0.861074   \n",
       "4      0.952792      0.290603      1.107723      0.237882      1.308311   \n",
       "\n",
       "   _MFCC_Mean_6  ...  _Chromagram_Mean_9  _Chromagram_Mean_10   \n",
       "0      0.391612  ...            0.213319             1.144018  \\\n",
       "1      3.738068  ...           -1.054027             1.144018   \n",
       "2      0.499720  ...           -0.510025             0.433595   \n",
       "3      0.514462  ...           -0.946422             1.144018   \n",
       "4      1.212255  ...           -1.048049            -0.522958   \n",
       "\n",
       "   _Chromagram_Mean_11  _Chromagram_Mean_12   \n",
       "0            -1.060005            -0.818623  \\\n",
       "1            -1.085369             1.721059   \n",
       "2            -1.034642             1.767078   \n",
       "3            -0.574928             1.068162   \n",
       "4             2.085073            -1.106243   \n",
       "\n",
       "   _HarmonicChangeDetectionFunction_Mean   \n",
       "0                              -0.220241  \\\n",
       "1                              -0.779298   \n",
       "2                               1.529065   \n",
       "3                               1.691372   \n",
       "4                               0.302747   \n",
       "\n",
       "   _HarmonicChangeDetectionFunction_Std   \n",
       "0                              1.445837  \\\n",
       "1                              0.382761   \n",
       "2                              2.253775   \n",
       "3                              1.530883   \n",
       "4                              1.445837   \n",
       "\n",
       "   _HarmonicChangeDetectionFunction_Slope   \n",
       "0                                0.173571  \\\n",
       "1                               -0.782346   \n",
       "2                                1.282434   \n",
       "3                                0.402990   \n",
       "4                                0.852271   \n",
       "\n",
       "   _HarmonicChangeDetectionFunction_PeriodFreq   \n",
       "0                                    -0.782712  \\\n",
       "1                                     1.723775   \n",
       "2                                    -0.086406   \n",
       "3                                    -1.515610   \n",
       "4                                    -1.091584   \n",
       "\n",
       "   _HarmonicChangeDetectionFunction_PeriodAmp   \n",
       "0                                   -2.453450  \\\n",
       "1                                   -0.939917   \n",
       "2                                   -1.078774   \n",
       "3                                   -0.370607   \n",
       "4                                   -1.328715   \n",
       "\n",
       "   _HarmonicChangeDetectionFunction_PeriodEntropy  \n",
       "0                                        0.856868  \n",
       "1                                        0.074935  \n",
       "2                                       -0.967642  \n",
       "3                                        0.335580  \n",
       "4                                       -2.531509  \n",
       "\n",
       "[5 rows x 50 columns]"
      ]
     },
     "execution_count": 46,
     "metadata": {},
     "output_type": "execute_result"
    }
   ],
   "source": [
    "x_transformed = pd.DataFrame(x_normalized, columns = x.columns)\n",
    "\n",
    "x_transformed.head()"
   ]
  },
  {
   "cell_type": "markdown",
   "id": "07a29e70",
   "metadata": {},
   "source": [
    "### Split data into training and testing dataset"
   ]
  },
  {
   "cell_type": "code",
   "execution_count": 55,
   "id": "41666699",
   "metadata": {},
   "outputs": [
    {
     "data": {
      "text/html": [
       "<div>\n",
       "<style scoped>\n",
       "    .dataframe tbody tr th:only-of-type {\n",
       "        vertical-align: middle;\n",
       "    }\n",
       "\n",
       "    .dataframe tbody tr th {\n",
       "        vertical-align: top;\n",
       "    }\n",
       "\n",
       "    .dataframe thead th {\n",
       "        text-align: right;\n",
       "    }\n",
       "</style>\n",
       "<table border=\"1\" class=\"dataframe\">\n",
       "  <thead>\n",
       "    <tr style=\"text-align: right;\">\n",
       "      <th></th>\n",
       "      <th>_RMSenergy_Mean</th>\n",
       "      <th>_Lowenergy_Mean</th>\n",
       "      <th>_Fluctuation_Mean</th>\n",
       "      <th>_Tempo_Mean</th>\n",
       "      <th>_MFCC_Mean_1</th>\n",
       "      <th>_MFCC_Mean_2</th>\n",
       "      <th>_MFCC_Mean_3</th>\n",
       "      <th>_MFCC_Mean_4</th>\n",
       "      <th>_MFCC_Mean_5</th>\n",
       "      <th>_MFCC_Mean_6</th>\n",
       "      <th>...</th>\n",
       "      <th>_Chromagram_Mean_9</th>\n",
       "      <th>_Chromagram_Mean_10</th>\n",
       "      <th>_Chromagram_Mean_11</th>\n",
       "      <th>_Chromagram_Mean_12</th>\n",
       "      <th>_HarmonicChangeDetectionFunction_Mean</th>\n",
       "      <th>_HarmonicChangeDetectionFunction_Std</th>\n",
       "      <th>_HarmonicChangeDetectionFunction_Slope</th>\n",
       "      <th>_HarmonicChangeDetectionFunction_PeriodFreq</th>\n",
       "      <th>_HarmonicChangeDetectionFunction_PeriodAmp</th>\n",
       "      <th>_HarmonicChangeDetectionFunction_PeriodEntropy</th>\n",
       "    </tr>\n",
       "  </thead>\n",
       "  <tbody>\n",
       "    <tr>\n",
       "      <th>68</th>\n",
       "      <td>-0.321213</td>\n",
       "      <td>0.086710</td>\n",
       "      <td>0.836110</td>\n",
       "      <td>1.208574</td>\n",
       "      <td>-0.793502</td>\n",
       "      <td>0.413464</td>\n",
       "      <td>0.448394</td>\n",
       "      <td>0.375816</td>\n",
       "      <td>-0.281546</td>\n",
       "      <td>-1.451151</td>\n",
       "      <td>...</td>\n",
       "      <td>-0.270903</td>\n",
       "      <td>1.144018</td>\n",
       "      <td>-0.318122</td>\n",
       "      <td>0.889838</td>\n",
       "      <td>1.186418</td>\n",
       "      <td>0.361499</td>\n",
       "      <td>0.986100</td>\n",
       "      <td>-0.580385</td>\n",
       "      <td>0.309788</td>\n",
       "      <td>-0.706998</td>\n",
       "    </tr>\n",
       "    <tr>\n",
       "      <th>233</th>\n",
       "      <td>0.705423</td>\n",
       "      <td>0.027522</td>\n",
       "      <td>-0.122484</td>\n",
       "      <td>1.120628</td>\n",
       "      <td>1.891081</td>\n",
       "      <td>0.508402</td>\n",
       "      <td>0.003178</td>\n",
       "      <td>1.406693</td>\n",
       "      <td>0.354397</td>\n",
       "      <td>1.487441</td>\n",
       "      <td>...</td>\n",
       "      <td>1.426863</td>\n",
       "      <td>0.841949</td>\n",
       "      <td>0.731294</td>\n",
       "      <td>1.767078</td>\n",
       "      <td>0.501122</td>\n",
       "      <td>0.637899</td>\n",
       "      <td>-0.543367</td>\n",
       "      <td>-0.287657</td>\n",
       "      <td>-0.356721</td>\n",
       "      <td>0.856868</td>\n",
       "    </tr>\n",
       "    <tr>\n",
       "      <th>277</th>\n",
       "      <td>-0.585649</td>\n",
       "      <td>-0.228958</td>\n",
       "      <td>3.689059</td>\n",
       "      <td>-1.711799</td>\n",
       "      <td>-0.628143</td>\n",
       "      <td>-0.709038</td>\n",
       "      <td>2.066128</td>\n",
       "      <td>0.662574</td>\n",
       "      <td>0.523640</td>\n",
       "      <td>0.558689</td>\n",
       "      <td>...</td>\n",
       "      <td>-1.048049</td>\n",
       "      <td>-1.650124</td>\n",
       "      <td>-0.169111</td>\n",
       "      <td>-1.086110</td>\n",
       "      <td>-1.139980</td>\n",
       "      <td>0.446545</td>\n",
       "      <td>-0.486012</td>\n",
       "      <td>-0.287657</td>\n",
       "      <td>-1.287058</td>\n",
       "      <td>0.596224</td>\n",
       "    </tr>\n",
       "    <tr>\n",
       "      <th>24</th>\n",
       "      <td>-1.161187</td>\n",
       "      <td>-0.228958</td>\n",
       "      <td>0.269648</td>\n",
       "      <td>0.199932</td>\n",
       "      <td>-0.605594</td>\n",
       "      <td>1.357260</td>\n",
       "      <td>0.761065</td>\n",
       "      <td>1.533737</td>\n",
       "      <td>1.210868</td>\n",
       "      <td>3.197524</td>\n",
       "      <td>...</td>\n",
       "      <td>-0.309760</td>\n",
       "      <td>-0.738322</td>\n",
       "      <td>-0.327633</td>\n",
       "      <td>-0.916414</td>\n",
       "      <td>0.663429</td>\n",
       "      <td>0.382761</td>\n",
       "      <td>-1.145594</td>\n",
       "      <td>-0.690159</td>\n",
       "      <td>0.434759</td>\n",
       "      <td>0.596224</td>\n",
       "    </tr>\n",
       "    <tr>\n",
       "      <th>55</th>\n",
       "      <td>-0.647869</td>\n",
       "      <td>-0.209229</td>\n",
       "      <td>1.308601</td>\n",
       "      <td>1.708317</td>\n",
       "      <td>0.156061</td>\n",
       "      <td>1.796581</td>\n",
       "      <td>0.281863</td>\n",
       "      <td>-0.789365</td>\n",
       "      <td>-0.214874</td>\n",
       "      <td>-1.136653</td>\n",
       "      <td>...</td>\n",
       "      <td>-0.997236</td>\n",
       "      <td>1.144018</td>\n",
       "      <td>-1.085369</td>\n",
       "      <td>0.101760</td>\n",
       "      <td>-0.707162</td>\n",
       "      <td>1.807283</td>\n",
       "      <td>1.196401</td>\n",
       "      <td>-0.086406</td>\n",
       "      <td>-2.981103</td>\n",
       "      <td>-0.706998</td>\n",
       "    </tr>\n",
       "    <tr>\n",
       "      <th>...</th>\n",
       "      <td>...</td>\n",
       "      <td>...</td>\n",
       "      <td>...</td>\n",
       "      <td>...</td>\n",
       "      <td>...</td>\n",
       "      <td>...</td>\n",
       "      <td>...</td>\n",
       "      <td>...</td>\n",
       "      <td>...</td>\n",
       "      <td>...</td>\n",
       "      <td>...</td>\n",
       "      <td>...</td>\n",
       "      <td>...</td>\n",
       "      <td>...</td>\n",
       "      <td>...</td>\n",
       "      <td>...</td>\n",
       "      <td>...</td>\n",
       "      <td>...</td>\n",
       "      <td>...</td>\n",
       "      <td>...</td>\n",
       "      <td>...</td>\n",
       "    </tr>\n",
       "    <tr>\n",
       "      <th>345</th>\n",
       "      <td>-0.554539</td>\n",
       "      <td>1.053443</td>\n",
       "      <td>-0.704315</td>\n",
       "      <td>-0.084261</td>\n",
       "      <td>-1.059079</td>\n",
       "      <td>0.139820</td>\n",
       "      <td>0.478982</td>\n",
       "      <td>0.364927</td>\n",
       "      <td>1.000597</td>\n",
       "      <td>0.686453</td>\n",
       "      <td>...</td>\n",
       "      <td>1.582292</td>\n",
       "      <td>0.509113</td>\n",
       "      <td>1.989959</td>\n",
       "      <td>1.327020</td>\n",
       "      <td>1.366759</td>\n",
       "      <td>-0.531485</td>\n",
       "      <td>1.961134</td>\n",
       "      <td>-0.287657</td>\n",
       "      <td>0.906870</td>\n",
       "      <td>0.335580</td>\n",
       "    </tr>\n",
       "    <tr>\n",
       "      <th>365</th>\n",
       "      <td>1.809834</td>\n",
       "      <td>-1.728380</td>\n",
       "      <td>-1.175928</td>\n",
       "      <td>1.569833</td>\n",
       "      <td>-0.397642</td>\n",
       "      <td>-0.556393</td>\n",
       "      <td>1.484967</td>\n",
       "      <td>-0.154141</td>\n",
       "      <td>0.810840</td>\n",
       "      <td>0.489892</td>\n",
       "      <td>...</td>\n",
       "      <td>-0.468178</td>\n",
       "      <td>-1.236177</td>\n",
       "      <td>0.198660</td>\n",
       "      <td>1.767078</td>\n",
       "      <td>-1.284253</td>\n",
       "      <td>-1.594561</td>\n",
       "      <td>-2.455200</td>\n",
       "      <td>0.517347</td>\n",
       "      <td>1.295667</td>\n",
       "      <td>-1.488931</td>\n",
       "    </tr>\n",
       "    <tr>\n",
       "      <th>199</th>\n",
       "      <td>0.285436</td>\n",
       "      <td>0.619400</td>\n",
       "      <td>0.425096</td>\n",
       "      <td>-0.105348</td>\n",
       "      <td>-1.588980</td>\n",
       "      <td>-3.918315</td>\n",
       "      <td>0.788254</td>\n",
       "      <td>0.230622</td>\n",
       "      <td>-1.661131</td>\n",
       "      <td>-0.807412</td>\n",
       "      <td>...</td>\n",
       "      <td>0.996444</td>\n",
       "      <td>-0.363532</td>\n",
       "      <td>2.085073</td>\n",
       "      <td>-0.556889</td>\n",
       "      <td>2.881622</td>\n",
       "      <td>1.573406</td>\n",
       "      <td>-1.327218</td>\n",
       "      <td>0.517347</td>\n",
       "      <td>0.268131</td>\n",
       "      <td>0.335580</td>\n",
       "    </tr>\n",
       "    <tr>\n",
       "      <th>85</th>\n",
       "      <td>-0.523429</td>\n",
       "      <td>-0.544626</td>\n",
       "      <td>-0.616492</td>\n",
       "      <td>-0.731761</td>\n",
       "      <td>2.509925</td>\n",
       "      <td>0.603340</td>\n",
       "      <td>-1.437828</td>\n",
       "      <td>-2.535321</td>\n",
       "      <td>-2.338103</td>\n",
       "      <td>-0.492914</td>\n",
       "      <td>...</td>\n",
       "      <td>-0.919521</td>\n",
       "      <td>1.144018</td>\n",
       "      <td>-1.082199</td>\n",
       "      <td>1.016391</td>\n",
       "      <td>-0.869469</td>\n",
       "      <td>0.404022</td>\n",
       "      <td>-0.868378</td>\n",
       "      <td>-1.483324</td>\n",
       "      <td>-1.287058</td>\n",
       "      <td>-1.228287</td>\n",
       "    </tr>\n",
       "    <tr>\n",
       "      <th>311</th>\n",
       "      <td>1.016525</td>\n",
       "      <td>-0.327604</td>\n",
       "      <td>-0.395176</td>\n",
       "      <td>-0.139246</td>\n",
       "      <td>0.391573</td>\n",
       "      <td>1.044523</td>\n",
       "      <td>3.853791</td>\n",
       "      <td>1.323206</td>\n",
       "      <td>-2.722746</td>\n",
       "      <td>-1.058028</td>\n",
       "      <td>...</td>\n",
       "      <td>-0.758114</td>\n",
       "      <td>-0.746713</td>\n",
       "      <td>-0.714427</td>\n",
       "      <td>1.767078</td>\n",
       "      <td>-0.292378</td>\n",
       "      <td>-0.659054</td>\n",
       "      <td>2.200113</td>\n",
       "      <td>0.171884</td>\n",
       "      <td>0.712471</td>\n",
       "      <td>-0.446354</td>\n",
       "    </tr>\n",
       "  </tbody>\n",
       "</table>\n",
       "<p>320 rows × 50 columns</p>\n",
       "</div>"
      ],
      "text/plain": [
       "     _RMSenergy_Mean  _Lowenergy_Mean  _Fluctuation_Mean  _Tempo_Mean   \n",
       "68         -0.321213         0.086710           0.836110     1.208574  \\\n",
       "233         0.705423         0.027522          -0.122484     1.120628   \n",
       "277        -0.585649        -0.228958           3.689059    -1.711799   \n",
       "24         -1.161187        -0.228958           0.269648     0.199932   \n",
       "55         -0.647869        -0.209229           1.308601     1.708317   \n",
       "..               ...              ...                ...          ...   \n",
       "345        -0.554539         1.053443          -0.704315    -0.084261   \n",
       "365         1.809834        -1.728380          -1.175928     1.569833   \n",
       "199         0.285436         0.619400           0.425096    -0.105348   \n",
       "85         -0.523429        -0.544626          -0.616492    -0.731761   \n",
       "311         1.016525        -0.327604          -0.395176    -0.139246   \n",
       "\n",
       "     _MFCC_Mean_1  _MFCC_Mean_2  _MFCC_Mean_3  _MFCC_Mean_4  _MFCC_Mean_5   \n",
       "68      -0.793502      0.413464      0.448394      0.375816     -0.281546  \\\n",
       "233      1.891081      0.508402      0.003178      1.406693      0.354397   \n",
       "277     -0.628143     -0.709038      2.066128      0.662574      0.523640   \n",
       "24      -0.605594      1.357260      0.761065      1.533737      1.210868   \n",
       "55       0.156061      1.796581      0.281863     -0.789365     -0.214874   \n",
       "..            ...           ...           ...           ...           ...   \n",
       "345     -1.059079      0.139820      0.478982      0.364927      1.000597   \n",
       "365     -0.397642     -0.556393      1.484967     -0.154141      0.810840   \n",
       "199     -1.588980     -3.918315      0.788254      0.230622     -1.661131   \n",
       "85       2.509925      0.603340     -1.437828     -2.535321     -2.338103   \n",
       "311      0.391573      1.044523      3.853791      1.323206     -2.722746   \n",
       "\n",
       "     _MFCC_Mean_6  ...  _Chromagram_Mean_9  _Chromagram_Mean_10   \n",
       "68      -1.451151  ...           -0.270903             1.144018  \\\n",
       "233      1.487441  ...            1.426863             0.841949   \n",
       "277      0.558689  ...           -1.048049            -1.650124   \n",
       "24       3.197524  ...           -0.309760            -0.738322   \n",
       "55      -1.136653  ...           -0.997236             1.144018   \n",
       "..            ...  ...                 ...                  ...   \n",
       "345      0.686453  ...            1.582292             0.509113   \n",
       "365      0.489892  ...           -0.468178            -1.236177   \n",
       "199     -0.807412  ...            0.996444            -0.363532   \n",
       "85      -0.492914  ...           -0.919521             1.144018   \n",
       "311     -1.058028  ...           -0.758114            -0.746713   \n",
       "\n",
       "     _Chromagram_Mean_11  _Chromagram_Mean_12   \n",
       "68             -0.318122             0.889838  \\\n",
       "233             0.731294             1.767078   \n",
       "277            -0.169111            -1.086110   \n",
       "24             -0.327633            -0.916414   \n",
       "55             -1.085369             0.101760   \n",
       "..                   ...                  ...   \n",
       "345             1.989959             1.327020   \n",
       "365             0.198660             1.767078   \n",
       "199             2.085073            -0.556889   \n",
       "85             -1.082199             1.016391   \n",
       "311            -0.714427             1.767078   \n",
       "\n",
       "     _HarmonicChangeDetectionFunction_Mean   \n",
       "68                                1.186418  \\\n",
       "233                               0.501122   \n",
       "277                              -1.139980   \n",
       "24                                0.663429   \n",
       "55                               -0.707162   \n",
       "..                                     ...   \n",
       "345                               1.366759   \n",
       "365                              -1.284253   \n",
       "199                               2.881622   \n",
       "85                               -0.869469   \n",
       "311                              -0.292378   \n",
       "\n",
       "     _HarmonicChangeDetectionFunction_Std   \n",
       "68                               0.361499  \\\n",
       "233                              0.637899   \n",
       "277                              0.446545   \n",
       "24                               0.382761   \n",
       "55                               1.807283   \n",
       "..                                    ...   \n",
       "345                             -0.531485   \n",
       "365                             -1.594561   \n",
       "199                              1.573406   \n",
       "85                               0.404022   \n",
       "311                             -0.659054   \n",
       "\n",
       "     _HarmonicChangeDetectionFunction_Slope   \n",
       "68                                 0.986100  \\\n",
       "233                               -0.543367   \n",
       "277                               -0.486012   \n",
       "24                                -1.145594   \n",
       "55                                 1.196401   \n",
       "..                                      ...   \n",
       "345                                1.961134   \n",
       "365                               -2.455200   \n",
       "199                               -1.327218   \n",
       "85                                -0.868378   \n",
       "311                                2.200113   \n",
       "\n",
       "     _HarmonicChangeDetectionFunction_PeriodFreq   \n",
       "68                                     -0.580385  \\\n",
       "233                                    -0.287657   \n",
       "277                                    -0.287657   \n",
       "24                                     -0.690159   \n",
       "55                                     -0.086406   \n",
       "..                                           ...   \n",
       "345                                    -0.287657   \n",
       "365                                     0.517347   \n",
       "199                                     0.517347   \n",
       "85                                     -1.483324   \n",
       "311                                     0.171884   \n",
       "\n",
       "     _HarmonicChangeDetectionFunction_PeriodAmp   \n",
       "68                                     0.309788  \\\n",
       "233                                   -0.356721   \n",
       "277                                   -1.287058   \n",
       "24                                     0.434759   \n",
       "55                                    -2.981103   \n",
       "..                                          ...   \n",
       "345                                    0.906870   \n",
       "365                                    1.295667   \n",
       "199                                    0.268131   \n",
       "85                                    -1.287058   \n",
       "311                                    0.712471   \n",
       "\n",
       "     _HarmonicChangeDetectionFunction_PeriodEntropy  \n",
       "68                                        -0.706998  \n",
       "233                                        0.856868  \n",
       "277                                        0.596224  \n",
       "24                                         0.596224  \n",
       "55                                        -0.706998  \n",
       "..                                              ...  \n",
       "345                                        0.335580  \n",
       "365                                       -1.488931  \n",
       "199                                        0.335580  \n",
       "85                                        -1.228287  \n",
       "311                                       -0.446354  \n",
       "\n",
       "[320 rows x 50 columns]"
      ]
     },
     "execution_count": 55,
     "metadata": {},
     "output_type": "execute_result"
    }
   ],
   "source": [
    "x_transformed_train, x_transformed_test, y_train, y_test = train_test_split(x_transformed, y_encoded, test_size = 0.2)\n",
    "\n",
    "x_transformed_train"
   ]
  },
  {
   "cell_type": "markdown",
   "id": "87892b25",
   "metadata": {},
   "source": [
    "#### Train the model"
   ]
  },
  {
   "cell_type": "code",
   "execution_count": 56,
   "id": "d5c30084",
   "metadata": {},
   "outputs": [
    {
     "data": {
      "text/html": [
       "<style>#sk-container-id-4 {color: black;background-color: white;}#sk-container-id-4 pre{padding: 0;}#sk-container-id-4 div.sk-toggleable {background-color: white;}#sk-container-id-4 label.sk-toggleable__label {cursor: pointer;display: block;width: 100%;margin-bottom: 0;padding: 0.3em;box-sizing: border-box;text-align: center;}#sk-container-id-4 label.sk-toggleable__label-arrow:before {content: \"▸\";float: left;margin-right: 0.25em;color: #696969;}#sk-container-id-4 label.sk-toggleable__label-arrow:hover:before {color: black;}#sk-container-id-4 div.sk-estimator:hover label.sk-toggleable__label-arrow:before {color: black;}#sk-container-id-4 div.sk-toggleable__content {max-height: 0;max-width: 0;overflow: hidden;text-align: left;background-color: #f0f8ff;}#sk-container-id-4 div.sk-toggleable__content pre {margin: 0.2em;color: black;border-radius: 0.25em;background-color: #f0f8ff;}#sk-container-id-4 input.sk-toggleable__control:checked~div.sk-toggleable__content {max-height: 200px;max-width: 100%;overflow: auto;}#sk-container-id-4 input.sk-toggleable__control:checked~label.sk-toggleable__label-arrow:before {content: \"▾\";}#sk-container-id-4 div.sk-estimator input.sk-toggleable__control:checked~label.sk-toggleable__label {background-color: #d4ebff;}#sk-container-id-4 div.sk-label input.sk-toggleable__control:checked~label.sk-toggleable__label {background-color: #d4ebff;}#sk-container-id-4 input.sk-hidden--visually {border: 0;clip: rect(1px 1px 1px 1px);clip: rect(1px, 1px, 1px, 1px);height: 1px;margin: -1px;overflow: hidden;padding: 0;position: absolute;width: 1px;}#sk-container-id-4 div.sk-estimator {font-family: monospace;background-color: #f0f8ff;border: 1px dotted black;border-radius: 0.25em;box-sizing: border-box;margin-bottom: 0.5em;}#sk-container-id-4 div.sk-estimator:hover {background-color: #d4ebff;}#sk-container-id-4 div.sk-parallel-item::after {content: \"\";width: 100%;border-bottom: 1px solid gray;flex-grow: 1;}#sk-container-id-4 div.sk-label:hover label.sk-toggleable__label {background-color: #d4ebff;}#sk-container-id-4 div.sk-serial::before {content: \"\";position: absolute;border-left: 1px solid gray;box-sizing: border-box;top: 0;bottom: 0;left: 50%;z-index: 0;}#sk-container-id-4 div.sk-serial {display: flex;flex-direction: column;align-items: center;background-color: white;padding-right: 0.2em;padding-left: 0.2em;position: relative;}#sk-container-id-4 div.sk-item {position: relative;z-index: 1;}#sk-container-id-4 div.sk-parallel {display: flex;align-items: stretch;justify-content: center;background-color: white;position: relative;}#sk-container-id-4 div.sk-item::before, #sk-container-id-4 div.sk-parallel-item::before {content: \"\";position: absolute;border-left: 1px solid gray;box-sizing: border-box;top: 0;bottom: 0;left: 50%;z-index: -1;}#sk-container-id-4 div.sk-parallel-item {display: flex;flex-direction: column;z-index: 1;position: relative;background-color: white;}#sk-container-id-4 div.sk-parallel-item:first-child::after {align-self: flex-end;width: 50%;}#sk-container-id-4 div.sk-parallel-item:last-child::after {align-self: flex-start;width: 50%;}#sk-container-id-4 div.sk-parallel-item:only-child::after {width: 0;}#sk-container-id-4 div.sk-dashed-wrapped {border: 1px dashed gray;margin: 0 0.4em 0.5em 0.4em;box-sizing: border-box;padding-bottom: 0.4em;background-color: white;}#sk-container-id-4 div.sk-label label {font-family: monospace;font-weight: bold;display: inline-block;line-height: 1.2em;}#sk-container-id-4 div.sk-label-container {text-align: center;}#sk-container-id-4 div.sk-container {/* jupyter's `normalize.less` sets `[hidden] { display: none; }` but bootstrap.min.css set `[hidden] { display: none !important; }` so we also need the `!important` here to be able to override the default hidden behavior on the sphinx rendered scikit-learn.org. See: https://github.com/scikit-learn/scikit-learn/issues/21755 */display: inline-block !important;position: relative;}#sk-container-id-4 div.sk-text-repr-fallback {display: none;}</style><div id=\"sk-container-id-4\" class=\"sk-top-container\"><div class=\"sk-text-repr-fallback\"><pre>LogisticRegression()</pre><b>In a Jupyter environment, please rerun this cell to show the HTML representation or trust the notebook. <br />On GitHub, the HTML representation is unable to render, please try loading this page with nbviewer.org.</b></div><div class=\"sk-container\" hidden><div class=\"sk-item\"><div class=\"sk-estimator sk-toggleable\"><input class=\"sk-toggleable__control sk-hidden--visually\" id=\"sk-estimator-id-4\" type=\"checkbox\" checked><label for=\"sk-estimator-id-4\" class=\"sk-toggleable__label sk-toggleable__label-arrow\">LogisticRegression</label><div class=\"sk-toggleable__content\"><pre>LogisticRegression()</pre></div></div></div></div></div>"
      ],
      "text/plain": [
       "LogisticRegression()"
      ]
     },
     "execution_count": 56,
     "metadata": {},
     "output_type": "execute_result"
    }
   ],
   "source": [
    "logisticClassifier.fit(x_transformed_train, y_train)"
   ]
  },
  {
   "cell_type": "markdown",
   "id": "8574c635",
   "metadata": {},
   "source": [
    "#### Make predictions"
   ]
  },
  {
   "cell_type": "code",
   "execution_count": 57,
   "id": "52c0822c",
   "metadata": {},
   "outputs": [],
   "source": [
    "logistic_pred = logisticClassifier.predict(x_transformed_test)"
   ]
  },
  {
   "cell_type": "markdown",
   "id": "c60f9191",
   "metadata": {},
   "source": [
    "### Make a confusion matrix"
   ]
  },
  {
   "cell_type": "code",
   "execution_count": 58,
   "id": "f1f3e159",
   "metadata": {},
   "outputs": [
    {
     "data": {
      "image/png": "[encoded data removed]",
      "text/plain": [
       "<Figure size 640x480 with 2 Axes>"
      ]
     },
     "metadata": {},
     "output_type": "display_data"
    }
   ],
   "source": [
    "get_ConfusionMatrix(y_test, logistic_pred)"
   ]
  },
  {
   "cell_type": "markdown",
   "id": "bc5f83d8",
   "metadata": {},
   "source": [
    "### Make the classification report"
   ]
  },
  {
   "cell_type": "code",
   "execution_count": 59,
   "id": "616d7dfe",
   "metadata": {},
   "outputs": [
    {
     "name": "stdout",
     "output_type": "stream",
     "text": [
      "              precision    recall  f1-score   support\n",
      "\n",
      "       relax       0.88      0.93      0.90        15\n",
      "       happy       0.95      0.79      0.86        24\n",
      "         sad       0.76      0.76      0.76        21\n",
      "       angry       0.61      0.70      0.65        20\n",
      "\n",
      "    accuracy                           0.79        80\n",
      "   macro avg       0.80      0.80      0.79        80\n",
      "weighted avg       0.80      0.79      0.79        80\n",
      "\n"
     ]
    }
   ],
   "source": [
    "get_report(y_test, logistic_pred)"
   ]
  },
  {
   "cell_type": "markdown",
   "id": "239c8f78",
   "metadata": {},
   "source": [
    "## KNN"
   ]
  },
  {
   "cell_type": "markdown",
   "id": "f05b4486",
   "metadata": {},
   "source": [
    "Let's use KNN to predict if a person will have heart disease or not"
   ]
  },
  {
   "cell_type": "markdown",
   "id": "ace10af1",
   "metadata": {},
   "source": [
    "#### Load the libraries"
   ]
  },
  {
   "cell_type": "code",
   "execution_count": 60,
   "id": "0e47c00b",
   "metadata": {},
   "outputs": [],
   "source": [
    "from sklearn.neighbors import KNeighborsClassifier"
   ]
  },
  {
   "cell_type": "markdown",
   "id": "d1fc18a7",
   "metadata": {},
   "source": [
    "#### Create an instance of the model"
   ]
  },
  {
   "cell_type": "code",
   "execution_count": 91,
   "id": "f9ce99d6",
   "metadata": {},
   "outputs": [],
   "source": [
    "knn = KNeighborsClassifier(n_neighbors = 9)"
   ]
  },
  {
   "cell_type": "markdown",
   "id": "3d5f2483",
   "metadata": {},
   "source": [
    "#### Train the model"
   ]
  },
  {
   "cell_type": "code",
   "execution_count": 92,
   "id": "76f3af3e",
   "metadata": {},
   "outputs": [
    {
     "data": {
      "text/html": [
       "<style>#sk-container-id-11 {color: black;background-color: white;}#sk-container-id-11 pre{padding: 0;}#sk-container-id-11 div.sk-toggleable {background-color: white;}#sk-container-id-11 label.sk-toggleable__label {cursor: pointer;display: block;width: 100%;margin-bottom: 0;padding: 0.3em;box-sizing: border-box;text-align: center;}#sk-container-id-11 label.sk-toggleable__label-arrow:before {content: \"▸\";float: left;margin-right: 0.25em;color: #696969;}#sk-container-id-11 label.sk-toggleable__label-arrow:hover:before {color: black;}#sk-container-id-11 div.sk-estimator:hover label.sk-toggleable__label-arrow:before {color: black;}#sk-container-id-11 div.sk-toggleable__content {max-height: 0;max-width: 0;overflow: hidden;text-align: left;background-color: #f0f8ff;}#sk-container-id-11 div.sk-toggleable__content pre {margin: 0.2em;color: black;border-radius: 0.25em;background-color: #f0f8ff;}#sk-container-id-11 input.sk-toggleable__control:checked~div.sk-toggleable__content {max-height: 200px;max-width: 100%;overflow: auto;}#sk-container-id-11 input.sk-toggleable__control:checked~label.sk-toggleable__label-arrow:before {content: \"▾\";}#sk-container-id-11 div.sk-estimator input.sk-toggleable__control:checked~label.sk-toggleable__label {background-color: #d4ebff;}#sk-container-id-11 div.sk-label input.sk-toggleable__control:checked~label.sk-toggleable__label {background-color: #d4ebff;}#sk-container-id-11 input.sk-hidden--visually {border: 0;clip: rect(1px 1px 1px 1px);clip: rect(1px, 1px, 1px, 1px);height: 1px;margin: -1px;overflow: hidden;padding: 0;position: absolute;width: 1px;}#sk-container-id-11 div.sk-estimator {font-family: monospace;background-color: #f0f8ff;border: 1px dotted black;border-radius: 0.25em;box-sizing: border-box;margin-bottom: 0.5em;}#sk-container-id-11 div.sk-estimator:hover {background-color: #d4ebff;}#sk-container-id-11 div.sk-parallel-item::after {content: \"\";width: 100%;border-bottom: 1px solid gray;flex-grow: 1;}#sk-container-id-11 div.sk-label:hover label.sk-toggleable__label {background-color: #d4ebff;}#sk-container-id-11 div.sk-serial::before {content: \"\";position: absolute;border-left: 1px solid gray;box-sizing: border-box;top: 0;bottom: 0;left: 50%;z-index: 0;}#sk-container-id-11 div.sk-serial {display: flex;flex-direction: column;align-items: center;background-color: white;padding-right: 0.2em;padding-left: 0.2em;position: relative;}#sk-container-id-11 div.sk-item {position: relative;z-index: 1;}#sk-container-id-11 div.sk-parallel {display: flex;align-items: stretch;justify-content: center;background-color: white;position: relative;}#sk-container-id-11 div.sk-item::before, #sk-container-id-11 div.sk-parallel-item::before {content: \"\";position: absolute;border-left: 1px solid gray;box-sizing: border-box;top: 0;bottom: 0;left: 50%;z-index: -1;}#sk-container-id-11 div.sk-parallel-item {display: flex;flex-direction: column;z-index: 1;position: relative;background-color: white;}#sk-container-id-11 div.sk-parallel-item:first-child::after {align-self: flex-end;width: 50%;}#sk-container-id-11 div.sk-parallel-item:last-child::after {align-self: flex-start;width: 50%;}#sk-container-id-11 div.sk-parallel-item:only-child::after {width: 0;}#sk-container-id-11 div.sk-dashed-wrapped {border: 1px dashed gray;margin: 0 0.4em 0.5em 0.4em;box-sizing: border-box;padding-bottom: 0.4em;background-color: white;}#sk-container-id-11 div.sk-label label {font-family: monospace;font-weight: bold;display: inline-block;line-height: 1.2em;}#sk-container-id-11 div.sk-label-container {text-align: center;}#sk-container-id-11 div.sk-container {/* jupyter's `normalize.less` sets `[hidden] { display: none; }` but bootstrap.min.css set `[hidden] { display: none !important; }` so we also need the `!important` here to be able to override the default hidden behavior on the sphinx rendered scikit-learn.org. See: https://github.com/scikit-learn/scikit-learn/issues/21755 */display: inline-block !important;position: relative;}#sk-container-id-11 div.sk-text-repr-fallback {display: none;}</style><div id=\"sk-container-id-11\" class=\"sk-top-container\"><div class=\"sk-text-repr-fallback\"><pre>KNeighborsClassifier(n_neighbors=9)</pre><b>In a Jupyter environment, please rerun this cell to show the HTML representation or trust the notebook. <br />On GitHub, the HTML representation is unable to render, please try loading this page with nbviewer.org.</b></div><div class=\"sk-container\" hidden><div class=\"sk-item\"><div class=\"sk-estimator sk-toggleable\"><input class=\"sk-toggleable__control sk-hidden--visually\" id=\"sk-estimator-id-11\" type=\"checkbox\" checked><label for=\"sk-estimator-id-11\" class=\"sk-toggleable__label sk-toggleable__label-arrow\">KNeighborsClassifier</label><div class=\"sk-toggleable__content\"><pre>KNeighborsClassifier(n_neighbors=9)</pre></div></div></div></div></div>"
      ],
      "text/plain": [
       "KNeighborsClassifier(n_neighbors=9)"
      ]
     },
     "execution_count": 92,
     "metadata": {},
     "output_type": "execute_result"
    }
   ],
   "source": [
    "knn.fit(x_train, y_train)"
   ]
  },
  {
   "cell_type": "markdown",
   "id": "1cb4dd28",
   "metadata": {},
   "source": [
    "#### Make the predictions"
   ]
  },
  {
   "cell_type": "code",
   "execution_count": 93,
   "id": "1a627566",
   "metadata": {},
   "outputs": [],
   "source": [
    "predictions = knn.predict(x_test)"
   ]
  },
  {
   "cell_type": "markdown",
   "id": "89272445",
   "metadata": {},
   "source": [
    "### Make the Confusion Matrix"
   ]
  },
  {
   "cell_type": "code",
   "execution_count": 94,
   "id": "34cce000",
   "metadata": {},
   "outputs": [
    {
     "data": {
      "image/png": "[encoded data removed]",
      "text/plain": [
       "<Figure size 640x480 with 2 Axes>"
      ]
     },
     "metadata": {},
     "output_type": "display_data"
    }
   ],
   "source": [
    "get_ConfusionMatrix(y_test, predictions)"
   ]
  },
  {
   "cell_type": "markdown",
   "id": "37965a1f",
   "metadata": {},
   "source": [
    "### Make the Classification Report"
   ]
  },
  {
   "cell_type": "code",
   "execution_count": 95,
   "id": "a3c45962",
   "metadata": {},
   "outputs": [
    {
     "name": "stdout",
     "output_type": "stream",
     "text": [
      "              precision    recall  f1-score   support\n",
      "\n",
      "       relax       0.37      0.73      0.49        15\n",
      "       happy       0.53      0.33      0.41        24\n",
      "         sad       0.37      0.33      0.35        21\n",
      "       angry       0.38      0.30      0.33        20\n",
      "\n",
      "    accuracy                           0.40        80\n",
      "   macro avg       0.41      0.42      0.40        80\n",
      "weighted avg       0.42      0.40      0.39        80\n",
      "\n"
     ]
    }
   ],
   "source": [
    "get_report(y_test, predictions)"
   ]
  },
  {
   "cell_type": "markdown",
   "id": "b839bab7",
   "metadata": {},
   "source": [
    "### Through our implementation, the best results we obtained using the Logistic Regression algorithm with accuracy of around 80%."
   ]
  }
 ],
 "metadata": {
  "kernelspec": {
   "display_name": "Python 3 (ipykernel)",
   "language": "python",
   "name": "python3"
  },
  "language_info": {
   "codemirror_mode": {
    "name": "ipython",
    "version": 3
   },
   "file_extension": ".py",
   "mimetype": "text/x-python",
   "name": "python",
   "nbconvert_exporter": "python",
   "pygments_lexer": "ipython3",
   "version": "3.11.3"
  }
 },
 "nbformat": 4,
 "nbformat_minor": 5
}

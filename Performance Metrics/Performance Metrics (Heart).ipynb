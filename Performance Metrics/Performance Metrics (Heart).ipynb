{
 "cells": [
  {
   "cell_type": "markdown",
   "id": "9286a9b8",
   "metadata": {},
   "source": [
    "#### Load the necessary libraries"
   ]
  },
  {
   "cell_type": "code",
   "execution_count": 20,
   "id": "f0401ec0",
   "metadata": {},
   "outputs": [],
   "source": [
    "import pandas as pd\n",
    "import numpy as np\n",
    "import matplotlib.pyplot as plt\n",
    "import seaborn as sb"
   ]
  },
  {
   "cell_type": "markdown",
   "id": "a6c9a701",
   "metadata": {},
   "source": [
    "#### Load the dataset"
   ]
  },
  {
   "cell_type": "code",
   "execution_count": 5,
   "id": "f4f66690",
   "metadata": {},
   "outputs": [
    {
     "data": {
      "text/html": [
       "<div>\n",
       "<style scoped>\n",
       "    .dataframe tbody tr th:only-of-type {\n",
       "        vertical-align: middle;\n",
       "    }\n",
       "\n",
       "    .dataframe tbody tr th {\n",
       "        vertical-align: top;\n",
       "    }\n",
       "\n",
       "    .dataframe thead th {\n",
       "        text-align: right;\n",
       "    }\n",
       "</style>\n",
       "<table border=\"1\" class=\"dataframe\">\n",
       "  <thead>\n",
       "    <tr style=\"text-align: right;\">\n",
       "      <th></th>\n",
       "      <th>male</th>\n",
       "      <th>age</th>\n",
       "      <th>education</th>\n",
       "      <th>currentSmoker</th>\n",
       "      <th>cigsPerDay</th>\n",
       "      <th>BPMeds</th>\n",
       "      <th>prevalentStroke</th>\n",
       "      <th>prevalentHyp</th>\n",
       "      <th>diabetes</th>\n",
       "      <th>totChol</th>\n",
       "      <th>sysBP</th>\n",
       "      <th>diaBP</th>\n",
       "      <th>BMI</th>\n",
       "      <th>heartRate</th>\n",
       "      <th>glucose</th>\n",
       "      <th>TenYearCHD</th>\n",
       "    </tr>\n",
       "  </thead>\n",
       "  <tbody>\n",
       "    <tr>\n",
       "      <th>0</th>\n",
       "      <td>1</td>\n",
       "      <td>39</td>\n",
       "      <td>4.0</td>\n",
       "      <td>0</td>\n",
       "      <td>0.0</td>\n",
       "      <td>0.0</td>\n",
       "      <td>0</td>\n",
       "      <td>0</td>\n",
       "      <td>0</td>\n",
       "      <td>195.0</td>\n",
       "      <td>106.0</td>\n",
       "      <td>70.0</td>\n",
       "      <td>26.97</td>\n",
       "      <td>80.0</td>\n",
       "      <td>77.0</td>\n",
       "      <td>0</td>\n",
       "    </tr>\n",
       "    <tr>\n",
       "      <th>1</th>\n",
       "      <td>0</td>\n",
       "      <td>46</td>\n",
       "      <td>2.0</td>\n",
       "      <td>0</td>\n",
       "      <td>0.0</td>\n",
       "      <td>0.0</td>\n",
       "      <td>0</td>\n",
       "      <td>0</td>\n",
       "      <td>0</td>\n",
       "      <td>250.0</td>\n",
       "      <td>121.0</td>\n",
       "      <td>81.0</td>\n",
       "      <td>28.73</td>\n",
       "      <td>95.0</td>\n",
       "      <td>76.0</td>\n",
       "      <td>0</td>\n",
       "    </tr>\n",
       "    <tr>\n",
       "      <th>2</th>\n",
       "      <td>1</td>\n",
       "      <td>48</td>\n",
       "      <td>1.0</td>\n",
       "      <td>1</td>\n",
       "      <td>20.0</td>\n",
       "      <td>0.0</td>\n",
       "      <td>0</td>\n",
       "      <td>0</td>\n",
       "      <td>0</td>\n",
       "      <td>245.0</td>\n",
       "      <td>127.5</td>\n",
       "      <td>80.0</td>\n",
       "      <td>25.34</td>\n",
       "      <td>75.0</td>\n",
       "      <td>70.0</td>\n",
       "      <td>0</td>\n",
       "    </tr>\n",
       "    <tr>\n",
       "      <th>3</th>\n",
       "      <td>0</td>\n",
       "      <td>61</td>\n",
       "      <td>3.0</td>\n",
       "      <td>1</td>\n",
       "      <td>30.0</td>\n",
       "      <td>0.0</td>\n",
       "      <td>0</td>\n",
       "      <td>1</td>\n",
       "      <td>0</td>\n",
       "      <td>225.0</td>\n",
       "      <td>150.0</td>\n",
       "      <td>95.0</td>\n",
       "      <td>28.58</td>\n",
       "      <td>65.0</td>\n",
       "      <td>103.0</td>\n",
       "      <td>1</td>\n",
       "    </tr>\n",
       "    <tr>\n",
       "      <th>4</th>\n",
       "      <td>0</td>\n",
       "      <td>46</td>\n",
       "      <td>3.0</td>\n",
       "      <td>1</td>\n",
       "      <td>23.0</td>\n",
       "      <td>0.0</td>\n",
       "      <td>0</td>\n",
       "      <td>0</td>\n",
       "      <td>0</td>\n",
       "      <td>285.0</td>\n",
       "      <td>130.0</td>\n",
       "      <td>84.0</td>\n",
       "      <td>23.10</td>\n",
       "      <td>85.0</td>\n",
       "      <td>85.0</td>\n",
       "      <td>0</td>\n",
       "    </tr>\n",
       "  </tbody>\n",
       "</table>\n",
       "</div>"
      ],
      "text/plain": [
       "   male  age  education  currentSmoker  cigsPerDay  BPMeds  prevalentStroke   \n",
       "0     1   39        4.0              0         0.0     0.0                0  \\\n",
       "1     0   46        2.0              0         0.0     0.0                0   \n",
       "2     1   48        1.0              1        20.0     0.0                0   \n",
       "3     0   61        3.0              1        30.0     0.0                0   \n",
       "4     0   46        3.0              1        23.0     0.0                0   \n",
       "\n",
       "   prevalentHyp  diabetes  totChol  sysBP  diaBP    BMI  heartRate  glucose   \n",
       "0             0         0    195.0  106.0   70.0  26.97       80.0     77.0  \\\n",
       "1             0         0    250.0  121.0   81.0  28.73       95.0     76.0   \n",
       "2             0         0    245.0  127.5   80.0  25.34       75.0     70.0   \n",
       "3             1         0    225.0  150.0   95.0  28.58       65.0    103.0   \n",
       "4             0         0    285.0  130.0   84.0  23.10       85.0     85.0   \n",
       "\n",
       "   TenYearCHD  \n",
       "0           0  \n",
       "1           0  \n",
       "2           0  \n",
       "3           1  \n",
       "4           0  "
      ]
     },
     "execution_count": 5,
     "metadata": {},
     "output_type": "execute_result"
    }
   ],
   "source": [
    "data = pd.read_csv('heart.csv')\n",
    "\n",
    "data.head()"
   ]
  },
  {
   "cell_type": "markdown",
   "id": "82fa0e3c",
   "metadata": {},
   "source": [
    "#### Check for null values in the dataset"
   ]
  },
  {
   "cell_type": "code",
   "execution_count": 6,
   "id": "a91a037f",
   "metadata": {},
   "outputs": [
    {
     "data": {
      "text/plain": [
       "male                 0\n",
       "age                  0\n",
       "education          105\n",
       "currentSmoker        0\n",
       "cigsPerDay          29\n",
       "BPMeds              53\n",
       "prevalentStroke      0\n",
       "prevalentHyp         0\n",
       "diabetes             0\n",
       "totChol             50\n",
       "sysBP                0\n",
       "diaBP                0\n",
       "BMI                 19\n",
       "heartRate            1\n",
       "glucose            388\n",
       "TenYearCHD           0\n",
       "dtype: int64"
      ]
     },
     "execution_count": 6,
     "metadata": {},
     "output_type": "execute_result"
    }
   ],
   "source": [
    "data.isnull().sum()"
   ]
  },
  {
   "cell_type": "markdown",
   "id": "3ed7bd21",
   "metadata": {},
   "source": [
    "***There are null values present in the dataset. We will replace them with the means of the respective columns.***"
   ]
  },
  {
   "cell_type": "markdown",
   "id": "4e0036c7",
   "metadata": {},
   "source": [
    "#### Get Simple Imputer from sklearn"
   ]
  },
  {
   "cell_type": "code",
   "execution_count": 8,
   "id": "8c152a30",
   "metadata": {},
   "outputs": [
    {
     "data": {
      "text/html": [
       "<style>#sk-container-id-1 {color: black;background-color: white;}#sk-container-id-1 pre{padding: 0;}#sk-container-id-1 div.sk-toggleable {background-color: white;}#sk-container-id-1 label.sk-toggleable__label {cursor: pointer;display: block;width: 100%;margin-bottom: 0;padding: 0.3em;box-sizing: border-box;text-align: center;}#sk-container-id-1 label.sk-toggleable__label-arrow:before {content: \"▸\";float: left;margin-right: 0.25em;color: #696969;}#sk-container-id-1 label.sk-toggleable__label-arrow:hover:before {color: black;}#sk-container-id-1 div.sk-estimator:hover label.sk-toggleable__label-arrow:before {color: black;}#sk-container-id-1 div.sk-toggleable__content {max-height: 0;max-width: 0;overflow: hidden;text-align: left;background-color: #f0f8ff;}#sk-container-id-1 div.sk-toggleable__content pre {margin: 0.2em;color: black;border-radius: 0.25em;background-color: #f0f8ff;}#sk-container-id-1 input.sk-toggleable__control:checked~div.sk-toggleable__content {max-height: 200px;max-width: 100%;overflow: auto;}#sk-container-id-1 input.sk-toggleable__control:checked~label.sk-toggleable__label-arrow:before {content: \"▾\";}#sk-container-id-1 div.sk-estimator input.sk-toggleable__control:checked~label.sk-toggleable__label {background-color: #d4ebff;}#sk-container-id-1 div.sk-label input.sk-toggleable__control:checked~label.sk-toggleable__label {background-color: #d4ebff;}#sk-container-id-1 input.sk-hidden--visually {border: 0;clip: rect(1px 1px 1px 1px);clip: rect(1px, 1px, 1px, 1px);height: 1px;margin: -1px;overflow: hidden;padding: 0;position: absolute;width: 1px;}#sk-container-id-1 div.sk-estimator {font-family: monospace;background-color: #f0f8ff;border: 1px dotted black;border-radius: 0.25em;box-sizing: border-box;margin-bottom: 0.5em;}#sk-container-id-1 div.sk-estimator:hover {background-color: #d4ebff;}#sk-container-id-1 div.sk-parallel-item::after {content: \"\";width: 100%;border-bottom: 1px solid gray;flex-grow: 1;}#sk-container-id-1 div.sk-label:hover label.sk-toggleable__label {background-color: #d4ebff;}#sk-container-id-1 div.sk-serial::before {content: \"\";position: absolute;border-left: 1px solid gray;box-sizing: border-box;top: 0;bottom: 0;left: 50%;z-index: 0;}#sk-container-id-1 div.sk-serial {display: flex;flex-direction: column;align-items: center;background-color: white;padding-right: 0.2em;padding-left: 0.2em;position: relative;}#sk-container-id-1 div.sk-item {position: relative;z-index: 1;}#sk-container-id-1 div.sk-parallel {display: flex;align-items: stretch;justify-content: center;background-color: white;position: relative;}#sk-container-id-1 div.sk-item::before, #sk-container-id-1 div.sk-parallel-item::before {content: \"\";position: absolute;border-left: 1px solid gray;box-sizing: border-box;top: 0;bottom: 0;left: 50%;z-index: -1;}#sk-container-id-1 div.sk-parallel-item {display: flex;flex-direction: column;z-index: 1;position: relative;background-color: white;}#sk-container-id-1 div.sk-parallel-item:first-child::after {align-self: flex-end;width: 50%;}#sk-container-id-1 div.sk-parallel-item:last-child::after {align-self: flex-start;width: 50%;}#sk-container-id-1 div.sk-parallel-item:only-child::after {width: 0;}#sk-container-id-1 div.sk-dashed-wrapped {border: 1px dashed gray;margin: 0 0.4em 0.5em 0.4em;box-sizing: border-box;padding-bottom: 0.4em;background-color: white;}#sk-container-id-1 div.sk-label label {font-family: monospace;font-weight: bold;display: inline-block;line-height: 1.2em;}#sk-container-id-1 div.sk-label-container {text-align: center;}#sk-container-id-1 div.sk-container {/* jupyter's `normalize.less` sets `[hidden] { display: none; }` but bootstrap.min.css set `[hidden] { display: none !important; }` so we also need the `!important` here to be able to override the default hidden behavior on the sphinx rendered scikit-learn.org. See: https://github.com/scikit-learn/scikit-learn/issues/21755 */display: inline-block !important;position: relative;}#sk-container-id-1 div.sk-text-repr-fallback {display: none;}</style><div id=\"sk-container-id-1\" class=\"sk-top-container\"><div class=\"sk-text-repr-fallback\"><pre>SimpleImputer()</pre><b>In a Jupyter environment, please rerun this cell to show the HTML representation or trust the notebook. <br />On GitHub, the HTML representation is unable to render, please try loading this page with nbviewer.org.</b></div><div class=\"sk-container\" hidden><div class=\"sk-item\"><div class=\"sk-estimator sk-toggleable\"><input class=\"sk-toggleable__control sk-hidden--visually\" id=\"sk-estimator-id-1\" type=\"checkbox\" checked><label for=\"sk-estimator-id-1\" class=\"sk-toggleable__label sk-toggleable__label-arrow\">SimpleImputer</label><div class=\"sk-toggleable__content\"><pre>SimpleImputer()</pre></div></div></div></div></div>"
      ],
      "text/plain": [
       "SimpleImputer()"
      ]
     },
     "execution_count": 8,
     "metadata": {},
     "output_type": "execute_result"
    }
   ],
   "source": [
    "from sklearn.impute import SimpleImputer\n",
    "\n",
    "## create an instance of Simple Imputer \n",
    "imputer = SimpleImputer(missing_values = np.nan, strategy = 'mean')\n",
    "\n",
    "# fit the data\n",
    "imputer.fit(data)"
   ]
  },
  {
   "cell_type": "markdown",
   "id": "709cb760",
   "metadata": {},
   "source": [
    "##### Replace NaN values with mean"
   ]
  },
  {
   "cell_type": "code",
   "execution_count": 10,
   "id": "d9b34d65",
   "metadata": {},
   "outputs": [
    {
     "data": {
      "text/plain": [
       "array([[  1.        ,  39.        ,   4.        , ...,  80.        ,\n",
       "         77.        ,   0.        ],\n",
       "       [  0.        ,  46.        ,   2.        , ...,  95.        ,\n",
       "         76.        ,   0.        ],\n",
       "       [  1.        ,  48.        ,   1.        , ...,  75.        ,\n",
       "         70.        ,   0.        ],\n",
       "       ...,\n",
       "       [  0.        ,  48.        ,   2.        , ...,  84.        ,\n",
       "         86.        ,   0.        ],\n",
       "       [  0.        ,  44.        ,   1.        , ...,  86.        ,\n",
       "         81.96675325,   0.        ],\n",
       "       [  0.        ,  52.        ,   2.        , ...,  80.        ,\n",
       "        107.        ,   0.        ]])"
      ]
     },
     "execution_count": 10,
     "metadata": {},
     "output_type": "execute_result"
    }
   ],
   "source": [
    "imputed_data = imputer.transform(data)\n",
    "\n",
    "imputed_data"
   ]
  },
  {
   "cell_type": "markdown",
   "id": "486f07b9",
   "metadata": {},
   "source": [
    "### Change imputed data back to a dataframe"
   ]
  },
  {
   "cell_type": "code",
   "execution_count": 47,
   "id": "4d3eced9",
   "metadata": {},
   "outputs": [
    {
     "data": {
      "text/html": [
       "<div>\n",
       "<style scoped>\n",
       "    .dataframe tbody tr th:only-of-type {\n",
       "        vertical-align: middle;\n",
       "    }\n",
       "\n",
       "    .dataframe tbody tr th {\n",
       "        vertical-align: top;\n",
       "    }\n",
       "\n",
       "    .dataframe thead th {\n",
       "        text-align: right;\n",
       "    }\n",
       "</style>\n",
       "<table border=\"1\" class=\"dataframe\">\n",
       "  <thead>\n",
       "    <tr style=\"text-align: right;\">\n",
       "      <th></th>\n",
       "      <th>male</th>\n",
       "      <th>age</th>\n",
       "      <th>education</th>\n",
       "      <th>currentSmoker</th>\n",
       "      <th>cigsPerDay</th>\n",
       "      <th>BPMeds</th>\n",
       "      <th>prevalentStroke</th>\n",
       "      <th>prevalentHyp</th>\n",
       "      <th>diabetes</th>\n",
       "      <th>totChol</th>\n",
       "      <th>sysBP</th>\n",
       "      <th>diaBP</th>\n",
       "      <th>BMI</th>\n",
       "      <th>heartRate</th>\n",
       "      <th>glucose</th>\n",
       "      <th>TenYearCHD</th>\n",
       "    </tr>\n",
       "  </thead>\n",
       "  <tbody>\n",
       "    <tr>\n",
       "      <th>0</th>\n",
       "      <td>1.0</td>\n",
       "      <td>39.0</td>\n",
       "      <td>4.0</td>\n",
       "      <td>0.0</td>\n",
       "      <td>0.0</td>\n",
       "      <td>0.0</td>\n",
       "      <td>0.0</td>\n",
       "      <td>0.0</td>\n",
       "      <td>0.0</td>\n",
       "      <td>195.0</td>\n",
       "      <td>106.0</td>\n",
       "      <td>70.0</td>\n",
       "      <td>26.97</td>\n",
       "      <td>80.0</td>\n",
       "      <td>77.0</td>\n",
       "      <td>0.0</td>\n",
       "    </tr>\n",
       "    <tr>\n",
       "      <th>1</th>\n",
       "      <td>0.0</td>\n",
       "      <td>46.0</td>\n",
       "      <td>2.0</td>\n",
       "      <td>0.0</td>\n",
       "      <td>0.0</td>\n",
       "      <td>0.0</td>\n",
       "      <td>0.0</td>\n",
       "      <td>0.0</td>\n",
       "      <td>0.0</td>\n",
       "      <td>250.0</td>\n",
       "      <td>121.0</td>\n",
       "      <td>81.0</td>\n",
       "      <td>28.73</td>\n",
       "      <td>95.0</td>\n",
       "      <td>76.0</td>\n",
       "      <td>0.0</td>\n",
       "    </tr>\n",
       "    <tr>\n",
       "      <th>2</th>\n",
       "      <td>1.0</td>\n",
       "      <td>48.0</td>\n",
       "      <td>1.0</td>\n",
       "      <td>1.0</td>\n",
       "      <td>20.0</td>\n",
       "      <td>0.0</td>\n",
       "      <td>0.0</td>\n",
       "      <td>0.0</td>\n",
       "      <td>0.0</td>\n",
       "      <td>245.0</td>\n",
       "      <td>127.5</td>\n",
       "      <td>80.0</td>\n",
       "      <td>25.34</td>\n",
       "      <td>75.0</td>\n",
       "      <td>70.0</td>\n",
       "      <td>0.0</td>\n",
       "    </tr>\n",
       "    <tr>\n",
       "      <th>3</th>\n",
       "      <td>0.0</td>\n",
       "      <td>61.0</td>\n",
       "      <td>3.0</td>\n",
       "      <td>1.0</td>\n",
       "      <td>30.0</td>\n",
       "      <td>0.0</td>\n",
       "      <td>0.0</td>\n",
       "      <td>1.0</td>\n",
       "      <td>0.0</td>\n",
       "      <td>225.0</td>\n",
       "      <td>150.0</td>\n",
       "      <td>95.0</td>\n",
       "      <td>28.58</td>\n",
       "      <td>65.0</td>\n",
       "      <td>103.0</td>\n",
       "      <td>1.0</td>\n",
       "    </tr>\n",
       "    <tr>\n",
       "      <th>4</th>\n",
       "      <td>0.0</td>\n",
       "      <td>46.0</td>\n",
       "      <td>3.0</td>\n",
       "      <td>1.0</td>\n",
       "      <td>23.0</td>\n",
       "      <td>0.0</td>\n",
       "      <td>0.0</td>\n",
       "      <td>0.0</td>\n",
       "      <td>0.0</td>\n",
       "      <td>285.0</td>\n",
       "      <td>130.0</td>\n",
       "      <td>84.0</td>\n",
       "      <td>23.10</td>\n",
       "      <td>85.0</td>\n",
       "      <td>85.0</td>\n",
       "      <td>0.0</td>\n",
       "    </tr>\n",
       "  </tbody>\n",
       "</table>\n",
       "</div>"
      ],
      "text/plain": [
       "   male   age  education  currentSmoker  cigsPerDay  BPMeds  prevalentStroke   \n",
       "0   1.0  39.0        4.0            0.0         0.0     0.0              0.0  \\\n",
       "1   0.0  46.0        2.0            0.0         0.0     0.0              0.0   \n",
       "2   1.0  48.0        1.0            1.0        20.0     0.0              0.0   \n",
       "3   0.0  61.0        3.0            1.0        30.0     0.0              0.0   \n",
       "4   0.0  46.0        3.0            1.0        23.0     0.0              0.0   \n",
       "\n",
       "   prevalentHyp  diabetes  totChol  sysBP  diaBP    BMI  heartRate  glucose   \n",
       "0           0.0       0.0    195.0  106.0   70.0  26.97       80.0     77.0  \\\n",
       "1           0.0       0.0    250.0  121.0   81.0  28.73       95.0     76.0   \n",
       "2           0.0       0.0    245.0  127.5   80.0  25.34       75.0     70.0   \n",
       "3           1.0       0.0    225.0  150.0   95.0  28.58       65.0    103.0   \n",
       "4           0.0       0.0    285.0  130.0   84.0  23.10       85.0     85.0   \n",
       "\n",
       "   TenYearCHD  \n",
       "0         0.0  \n",
       "1         0.0  \n",
       "2         0.0  \n",
       "3         1.0  \n",
       "4         0.0  "
      ]
     },
     "execution_count": 47,
     "metadata": {},
     "output_type": "execute_result"
    }
   ],
   "source": [
    "data_new = pd.DataFrame(imputed_data, columns = data.columns)\n",
    "\n",
    "data_new.head()"
   ]
  },
  {
   "cell_type": "markdown",
   "id": "9910bf5f",
   "metadata": {},
   "source": [
    "#### Check if null values are still there"
   ]
  },
  {
   "cell_type": "code",
   "execution_count": 48,
   "id": "3056270f",
   "metadata": {},
   "outputs": [
    {
     "data": {
      "text/plain": [
       "male               0\n",
       "age                0\n",
       "education          0\n",
       "currentSmoker      0\n",
       "cigsPerDay         0\n",
       "BPMeds             0\n",
       "prevalentStroke    0\n",
       "prevalentHyp       0\n",
       "diabetes           0\n",
       "totChol            0\n",
       "sysBP              0\n",
       "diaBP              0\n",
       "BMI                0\n",
       "heartRate          0\n",
       "glucose            0\n",
       "TenYearCHD         0\n",
       "dtype: int64"
      ]
     },
     "execution_count": 48,
     "metadata": {},
     "output_type": "execute_result"
    }
   ],
   "source": [
    "data_new.isnull().sum()"
   ]
  },
  {
   "cell_type": "markdown",
   "id": "8a121ef8",
   "metadata": {},
   "source": [
    "***All the null values have been removed successfully***"
   ]
  },
  {
   "cell_type": "markdown",
   "id": "b8b0c94b",
   "metadata": {},
   "source": [
    "### Split data into training and testing datasets"
   ]
  },
  {
   "cell_type": "code",
   "execution_count": 28,
   "id": "a69d37f1",
   "metadata": {},
   "outputs": [
    {
     "data": {
      "text/html": [
       "<div>\n",
       "<style scoped>\n",
       "    .dataframe tbody tr th:only-of-type {\n",
       "        vertical-align: middle;\n",
       "    }\n",
       "\n",
       "    .dataframe tbody tr th {\n",
       "        vertical-align: top;\n",
       "    }\n",
       "\n",
       "    .dataframe thead th {\n",
       "        text-align: right;\n",
       "    }\n",
       "</style>\n",
       "<table border=\"1\" class=\"dataframe\">\n",
       "  <thead>\n",
       "    <tr style=\"text-align: right;\">\n",
       "      <th></th>\n",
       "      <th>male</th>\n",
       "      <th>age</th>\n",
       "      <th>education</th>\n",
       "      <th>currentSmoker</th>\n",
       "      <th>cigsPerDay</th>\n",
       "      <th>BPMeds</th>\n",
       "      <th>prevalentStroke</th>\n",
       "      <th>prevalentHyp</th>\n",
       "      <th>diabetes</th>\n",
       "      <th>totChol</th>\n",
       "      <th>sysBP</th>\n",
       "      <th>diaBP</th>\n",
       "      <th>BMI</th>\n",
       "      <th>heartRate</th>\n",
       "      <th>glucose</th>\n",
       "    </tr>\n",
       "  </thead>\n",
       "  <tbody>\n",
       "    <tr>\n",
       "      <th>2973</th>\n",
       "      <td>1.0</td>\n",
       "      <td>55.0</td>\n",
       "      <td>2.0</td>\n",
       "      <td>1.0</td>\n",
       "      <td>20.0</td>\n",
       "      <td>0.0</td>\n",
       "      <td>0.0</td>\n",
       "      <td>0.0</td>\n",
       "      <td>0.0</td>\n",
       "      <td>280.0</td>\n",
       "      <td>134.0</td>\n",
       "      <td>85.5</td>\n",
       "      <td>29.86</td>\n",
       "      <td>80.0</td>\n",
       "      <td>75.0</td>\n",
       "    </tr>\n",
       "    <tr>\n",
       "      <th>3581</th>\n",
       "      <td>0.0</td>\n",
       "      <td>40.0</td>\n",
       "      <td>1.0</td>\n",
       "      <td>1.0</td>\n",
       "      <td>5.0</td>\n",
       "      <td>0.0</td>\n",
       "      <td>0.0</td>\n",
       "      <td>0.0</td>\n",
       "      <td>0.0</td>\n",
       "      <td>209.0</td>\n",
       "      <td>130.0</td>\n",
       "      <td>84.5</td>\n",
       "      <td>39.94</td>\n",
       "      <td>77.0</td>\n",
       "      <td>104.0</td>\n",
       "    </tr>\n",
       "    <tr>\n",
       "      <th>2883</th>\n",
       "      <td>0.0</td>\n",
       "      <td>59.0</td>\n",
       "      <td>1.0</td>\n",
       "      <td>0.0</td>\n",
       "      <td>0.0</td>\n",
       "      <td>1.0</td>\n",
       "      <td>0.0</td>\n",
       "      <td>1.0</td>\n",
       "      <td>0.0</td>\n",
       "      <td>234.0</td>\n",
       "      <td>181.0</td>\n",
       "      <td>107.0</td>\n",
       "      <td>39.40</td>\n",
       "      <td>80.0</td>\n",
       "      <td>90.0</td>\n",
       "    </tr>\n",
       "    <tr>\n",
       "      <th>1766</th>\n",
       "      <td>1.0</td>\n",
       "      <td>39.0</td>\n",
       "      <td>4.0</td>\n",
       "      <td>0.0</td>\n",
       "      <td>0.0</td>\n",
       "      <td>0.0</td>\n",
       "      <td>0.0</td>\n",
       "      <td>1.0</td>\n",
       "      <td>0.0</td>\n",
       "      <td>320.0</td>\n",
       "      <td>123.0</td>\n",
       "      <td>90.0</td>\n",
       "      <td>24.44</td>\n",
       "      <td>85.0</td>\n",
       "      <td>69.0</td>\n",
       "    </tr>\n",
       "    <tr>\n",
       "      <th>130</th>\n",
       "      <td>1.0</td>\n",
       "      <td>53.0</td>\n",
       "      <td>1.0</td>\n",
       "      <td>1.0</td>\n",
       "      <td>30.0</td>\n",
       "      <td>0.0</td>\n",
       "      <td>0.0</td>\n",
       "      <td>0.0</td>\n",
       "      <td>0.0</td>\n",
       "      <td>244.0</td>\n",
       "      <td>106.0</td>\n",
       "      <td>67.5</td>\n",
       "      <td>21.84</td>\n",
       "      <td>88.0</td>\n",
       "      <td>65.0</td>\n",
       "    </tr>\n",
       "    <tr>\n",
       "      <th>...</th>\n",
       "      <td>...</td>\n",
       "      <td>...</td>\n",
       "      <td>...</td>\n",
       "      <td>...</td>\n",
       "      <td>...</td>\n",
       "      <td>...</td>\n",
       "      <td>...</td>\n",
       "      <td>...</td>\n",
       "      <td>...</td>\n",
       "      <td>...</td>\n",
       "      <td>...</td>\n",
       "      <td>...</td>\n",
       "      <td>...</td>\n",
       "      <td>...</td>\n",
       "      <td>...</td>\n",
       "    </tr>\n",
       "    <tr>\n",
       "      <th>397</th>\n",
       "      <td>0.0</td>\n",
       "      <td>47.0</td>\n",
       "      <td>2.0</td>\n",
       "      <td>1.0</td>\n",
       "      <td>3.0</td>\n",
       "      <td>0.0</td>\n",
       "      <td>0.0</td>\n",
       "      <td>0.0</td>\n",
       "      <td>0.0</td>\n",
       "      <td>155.0</td>\n",
       "      <td>122.5</td>\n",
       "      <td>77.5</td>\n",
       "      <td>21.34</td>\n",
       "      <td>65.0</td>\n",
       "      <td>78.0</td>\n",
       "    </tr>\n",
       "    <tr>\n",
       "      <th>1534</th>\n",
       "      <td>1.0</td>\n",
       "      <td>54.0</td>\n",
       "      <td>3.0</td>\n",
       "      <td>1.0</td>\n",
       "      <td>29.0</td>\n",
       "      <td>0.0</td>\n",
       "      <td>0.0</td>\n",
       "      <td>0.0</td>\n",
       "      <td>0.0</td>\n",
       "      <td>211.0</td>\n",
       "      <td>120.0</td>\n",
       "      <td>72.0</td>\n",
       "      <td>25.13</td>\n",
       "      <td>77.0</td>\n",
       "      <td>60.0</td>\n",
       "    </tr>\n",
       "    <tr>\n",
       "      <th>78</th>\n",
       "      <td>0.0</td>\n",
       "      <td>45.0</td>\n",
       "      <td>1.0</td>\n",
       "      <td>0.0</td>\n",
       "      <td>0.0</td>\n",
       "      <td>0.0</td>\n",
       "      <td>0.0</td>\n",
       "      <td>1.0</td>\n",
       "      <td>0.0</td>\n",
       "      <td>183.0</td>\n",
       "      <td>151.0</td>\n",
       "      <td>101.0</td>\n",
       "      <td>45.80</td>\n",
       "      <td>80.0</td>\n",
       "      <td>63.0</td>\n",
       "    </tr>\n",
       "    <tr>\n",
       "      <th>515</th>\n",
       "      <td>1.0</td>\n",
       "      <td>46.0</td>\n",
       "      <td>1.0</td>\n",
       "      <td>1.0</td>\n",
       "      <td>20.0</td>\n",
       "      <td>0.0</td>\n",
       "      <td>0.0</td>\n",
       "      <td>0.0</td>\n",
       "      <td>0.0</td>\n",
       "      <td>269.0</td>\n",
       "      <td>135.0</td>\n",
       "      <td>95.0</td>\n",
       "      <td>26.55</td>\n",
       "      <td>75.0</td>\n",
       "      <td>92.0</td>\n",
       "    </tr>\n",
       "    <tr>\n",
       "      <th>368</th>\n",
       "      <td>1.0</td>\n",
       "      <td>46.0</td>\n",
       "      <td>1.0</td>\n",
       "      <td>1.0</td>\n",
       "      <td>30.0</td>\n",
       "      <td>0.0</td>\n",
       "      <td>0.0</td>\n",
       "      <td>0.0</td>\n",
       "      <td>0.0</td>\n",
       "      <td>198.0</td>\n",
       "      <td>128.0</td>\n",
       "      <td>85.0</td>\n",
       "      <td>29.00</td>\n",
       "      <td>75.0</td>\n",
       "      <td>77.0</td>\n",
       "    </tr>\n",
       "  </tbody>\n",
       "</table>\n",
       "<p>3390 rows × 15 columns</p>\n",
       "</div>"
      ],
      "text/plain": [
       "      male   age  education  currentSmoker  cigsPerDay  BPMeds   \n",
       "2973   1.0  55.0        2.0            1.0        20.0     0.0  \\\n",
       "3581   0.0  40.0        1.0            1.0         5.0     0.0   \n",
       "2883   0.0  59.0        1.0            0.0         0.0     1.0   \n",
       "1766   1.0  39.0        4.0            0.0         0.0     0.0   \n",
       "130    1.0  53.0        1.0            1.0        30.0     0.0   \n",
       "...    ...   ...        ...            ...         ...     ...   \n",
       "397    0.0  47.0        2.0            1.0         3.0     0.0   \n",
       "1534   1.0  54.0        3.0            1.0        29.0     0.0   \n",
       "78     0.0  45.0        1.0            0.0         0.0     0.0   \n",
       "515    1.0  46.0        1.0            1.0        20.0     0.0   \n",
       "368    1.0  46.0        1.0            1.0        30.0     0.0   \n",
       "\n",
       "      prevalentStroke  prevalentHyp  diabetes  totChol  sysBP  diaBP    BMI   \n",
       "2973              0.0           0.0       0.0    280.0  134.0   85.5  29.86  \\\n",
       "3581              0.0           0.0       0.0    209.0  130.0   84.5  39.94   \n",
       "2883              0.0           1.0       0.0    234.0  181.0  107.0  39.40   \n",
       "1766              0.0           1.0       0.0    320.0  123.0   90.0  24.44   \n",
       "130               0.0           0.0       0.0    244.0  106.0   67.5  21.84   \n",
       "...               ...           ...       ...      ...    ...    ...    ...   \n",
       "397               0.0           0.0       0.0    155.0  122.5   77.5  21.34   \n",
       "1534              0.0           0.0       0.0    211.0  120.0   72.0  25.13   \n",
       "78                0.0           1.0       0.0    183.0  151.0  101.0  45.80   \n",
       "515               0.0           0.0       0.0    269.0  135.0   95.0  26.55   \n",
       "368               0.0           0.0       0.0    198.0  128.0   85.0  29.00   \n",
       "\n",
       "      heartRate  glucose  \n",
       "2973       80.0     75.0  \n",
       "3581       77.0    104.0  \n",
       "2883       80.0     90.0  \n",
       "1766       85.0     69.0  \n",
       "130        88.0     65.0  \n",
       "...         ...      ...  \n",
       "397        65.0     78.0  \n",
       "1534       77.0     60.0  \n",
       "78         80.0     63.0  \n",
       "515        75.0     92.0  \n",
       "368        75.0     77.0  \n",
       "\n",
       "[3390 rows x 15 columns]"
      ]
     },
     "execution_count": 28,
     "metadata": {},
     "output_type": "execute_result"
    }
   ],
   "source": [
    "from sklearn.model_selection import train_test_split\n",
    "\n",
    "## we will keep 20% for testing and rest for training\n",
    "\n",
    "x_train, x_test, y_train, y_test = train_test_split(x, y, test_size = 0.2)\n",
    "\n",
    "x_train"
   ]
  },
  {
   "cell_type": "markdown",
   "id": "ec802c77",
   "metadata": {},
   "source": [
    "## Gaussian Naive Bayes"
   ]
  },
  {
   "cell_type": "markdown",
   "id": "c3702747",
   "metadata": {},
   "source": [
    "Let's use Naive Bayes algorithm to predict if the person will have heart disease"
   ]
  },
  {
   "cell_type": "markdown",
   "id": "15b3da48",
   "metadata": {},
   "source": [
    "#### Load the libraries"
   ]
  },
  {
   "cell_type": "code",
   "execution_count": 29,
   "id": "bd9bef90",
   "metadata": {},
   "outputs": [],
   "source": [
    "from sklearn.naive_bayes import GaussianNB"
   ]
  },
  {
   "cell_type": "markdown",
   "id": "096d61bb",
   "metadata": {},
   "source": [
    "#### Create an instance of the model"
   ]
  },
  {
   "cell_type": "code",
   "execution_count": 30,
   "id": "b2c77a1b",
   "metadata": {},
   "outputs": [],
   "source": [
    "gaussian = GaussianNB()"
   ]
  },
  {
   "cell_type": "markdown",
   "id": "8e8ca305",
   "metadata": {},
   "source": [
    "#### Train the model"
   ]
  },
  {
   "cell_type": "code",
   "execution_count": 31,
   "id": "e5db5c00",
   "metadata": {},
   "outputs": [
    {
     "data": {
      "text/html": [
       "<style>#sk-container-id-2 {color: black;background-color: white;}#sk-container-id-2 pre{padding: 0;}#sk-container-id-2 div.sk-toggleable {background-color: white;}#sk-container-id-2 label.sk-toggleable__label {cursor: pointer;display: block;width: 100%;margin-bottom: 0;padding: 0.3em;box-sizing: border-box;text-align: center;}#sk-container-id-2 label.sk-toggleable__label-arrow:before {content: \"▸\";float: left;margin-right: 0.25em;color: #696969;}#sk-container-id-2 label.sk-toggleable__label-arrow:hover:before {color: black;}#sk-container-id-2 div.sk-estimator:hover label.sk-toggleable__label-arrow:before {color: black;}#sk-container-id-2 div.sk-toggleable__content {max-height: 0;max-width: 0;overflow: hidden;text-align: left;background-color: #f0f8ff;}#sk-container-id-2 div.sk-toggleable__content pre {margin: 0.2em;color: black;border-radius: 0.25em;background-color: #f0f8ff;}#sk-container-id-2 input.sk-toggleable__control:checked~div.sk-toggleable__content {max-height: 200px;max-width: 100%;overflow: auto;}#sk-container-id-2 input.sk-toggleable__control:checked~label.sk-toggleable__label-arrow:before {content: \"▾\";}#sk-container-id-2 div.sk-estimator input.sk-toggleable__control:checked~label.sk-toggleable__label {background-color: #d4ebff;}#sk-container-id-2 div.sk-label input.sk-toggleable__control:checked~label.sk-toggleable__label {background-color: #d4ebff;}#sk-container-id-2 input.sk-hidden--visually {border: 0;clip: rect(1px 1px 1px 1px);clip: rect(1px, 1px, 1px, 1px);height: 1px;margin: -1px;overflow: hidden;padding: 0;position: absolute;width: 1px;}#sk-container-id-2 div.sk-estimator {font-family: monospace;background-color: #f0f8ff;border: 1px dotted black;border-radius: 0.25em;box-sizing: border-box;margin-bottom: 0.5em;}#sk-container-id-2 div.sk-estimator:hover {background-color: #d4ebff;}#sk-container-id-2 div.sk-parallel-item::after {content: \"\";width: 100%;border-bottom: 1px solid gray;flex-grow: 1;}#sk-container-id-2 div.sk-label:hover label.sk-toggleable__label {background-color: #d4ebff;}#sk-container-id-2 div.sk-serial::before {content: \"\";position: absolute;border-left: 1px solid gray;box-sizing: border-box;top: 0;bottom: 0;left: 50%;z-index: 0;}#sk-container-id-2 div.sk-serial {display: flex;flex-direction: column;align-items: center;background-color: white;padding-right: 0.2em;padding-left: 0.2em;position: relative;}#sk-container-id-2 div.sk-item {position: relative;z-index: 1;}#sk-container-id-2 div.sk-parallel {display: flex;align-items: stretch;justify-content: center;background-color: white;position: relative;}#sk-container-id-2 div.sk-item::before, #sk-container-id-2 div.sk-parallel-item::before {content: \"\";position: absolute;border-left: 1px solid gray;box-sizing: border-box;top: 0;bottom: 0;left: 50%;z-index: -1;}#sk-container-id-2 div.sk-parallel-item {display: flex;flex-direction: column;z-index: 1;position: relative;background-color: white;}#sk-container-id-2 div.sk-parallel-item:first-child::after {align-self: flex-end;width: 50%;}#sk-container-id-2 div.sk-parallel-item:last-child::after {align-self: flex-start;width: 50%;}#sk-container-id-2 div.sk-parallel-item:only-child::after {width: 0;}#sk-container-id-2 div.sk-dashed-wrapped {border: 1px dashed gray;margin: 0 0.4em 0.5em 0.4em;box-sizing: border-box;padding-bottom: 0.4em;background-color: white;}#sk-container-id-2 div.sk-label label {font-family: monospace;font-weight: bold;display: inline-block;line-height: 1.2em;}#sk-container-id-2 div.sk-label-container {text-align: center;}#sk-container-id-2 div.sk-container {/* jupyter's `normalize.less` sets `[hidden] { display: none; }` but bootstrap.min.css set `[hidden] { display: none !important; }` so we also need the `!important` here to be able to override the default hidden behavior on the sphinx rendered scikit-learn.org. See: https://github.com/scikit-learn/scikit-learn/issues/21755 */display: inline-block !important;position: relative;}#sk-container-id-2 div.sk-text-repr-fallback {display: none;}</style><div id=\"sk-container-id-2\" class=\"sk-top-container\"><div class=\"sk-text-repr-fallback\"><pre>GaussianNB()</pre><b>In a Jupyter environment, please rerun this cell to show the HTML representation or trust the notebook. <br />On GitHub, the HTML representation is unable to render, please try loading this page with nbviewer.org.</b></div><div class=\"sk-container\" hidden><div class=\"sk-item\"><div class=\"sk-estimator sk-toggleable\"><input class=\"sk-toggleable__control sk-hidden--visually\" id=\"sk-estimator-id-2\" type=\"checkbox\" checked><label for=\"sk-estimator-id-2\" class=\"sk-toggleable__label sk-toggleable__label-arrow\">GaussianNB</label><div class=\"sk-toggleable__content\"><pre>GaussianNB()</pre></div></div></div></div></div>"
      ],
      "text/plain": [
       "GaussianNB()"
      ]
     },
     "execution_count": 31,
     "metadata": {},
     "output_type": "execute_result"
    }
   ],
   "source": [
    "gaussian.fit(x_train, y_train)"
   ]
  },
  {
   "cell_type": "markdown",
   "id": "6891966d",
   "metadata": {},
   "source": [
    "#### Make predictions on test data"
   ]
  },
  {
   "cell_type": "code",
   "execution_count": 55,
   "id": "f2ae7c37",
   "metadata": {},
   "outputs": [],
   "source": [
    "predictions = gaussian.predict(x_test)"
   ]
  },
  {
   "cell_type": "markdown",
   "id": "86efc098",
   "metadata": {},
   "source": [
    "#### Define function to make confusion matrix"
   ]
  },
  {
   "cell_type": "code",
   "execution_count": 56,
   "id": "4fa2d9df",
   "metadata": {},
   "outputs": [],
   "source": [
    "# load the sklearn module for confusion matrix\n",
    "from sklearn.metrics import confusion_matrix, ConfusionMatrixDisplay\n",
    "\n",
    "def get_ConfusionMatrix(y_test, predictions):\n",
    "    # get the confusion matrix\n",
    "    conf_mat = confusion_matrix(y_test, predictions, labels = gaussian.classes_)\n",
    "\n",
    "    # display the confusion matrix\n",
    "    display_mat = ConfusionMatrixDisplay(conf_mat, display_labels = gaussian.classes_)\n",
    "\n",
    "    display_mat.plot()\n",
    "\n",
    "    plt.show()"
   ]
  },
  {
   "cell_type": "markdown",
   "id": "3baef40b",
   "metadata": {},
   "source": [
    "### Make Confusion Matrix"
   ]
  },
  {
   "cell_type": "code",
   "execution_count": 57,
   "id": "cf402a14",
   "metadata": {},
   "outputs": [
    {
     "data": {
      "image/png": "[encoded data removed]",
      "text/plain": [
       "<Figure size 640x480 with 2 Axes>"
      ]
     },
     "metadata": {},
     "output_type": "display_data"
    }
   ],
   "source": [
    "get_ConfusionMatrix(y_test, predictions)"
   ]
  },
  {
   "cell_type": "markdown",
   "id": "4f9ac8a2",
   "metadata": {},
   "source": [
    "#### Define function to make the classification report"
   ]
  },
  {
   "cell_type": "code",
   "execution_count": 58,
   "id": "56414eb5",
   "metadata": {},
   "outputs": [],
   "source": [
    "from sklearn.metrics import classification_report\n",
    "\n",
    "def get_report(y_test, predictions):\n",
    "    target_names = ['class 0', 'class 1']\n",
    "\n",
    "    report = classification_report(y_test, predictions, target_names = target_names)\n",
    "\n",
    "    print(report)"
   ]
  },
  {
   "cell_type": "markdown",
   "id": "3b5cc858",
   "metadata": {},
   "source": [
    "### Make the classification report"
   ]
  },
  {
   "cell_type": "code",
   "execution_count": 59,
   "id": "16559b58",
   "metadata": {},
   "outputs": [
    {
     "name": "stdout",
     "output_type": "stream",
     "text": [
      "              precision    recall  f1-score   support\n",
      "\n",
      "     class 0       0.89      0.96      0.92       744\n",
      "     class 1       0.36      0.17      0.23       104\n",
      "\n",
      "    accuracy                           0.86       848\n",
      "   macro avg       0.63      0.57      0.58       848\n",
      "weighted avg       0.83      0.86      0.84       848\n",
      "\n"
     ]
    }
   ],
   "source": [
    "get_report(y_test, predictions)"
   ]
  },
  {
   "cell_type": "markdown",
   "id": "38e39a4f",
   "metadata": {},
   "source": [
    "## Decision Tree"
   ]
  },
  {
   "cell_type": "markdown",
   "id": "a63e4a5a",
   "metadata": {},
   "source": [
    "Let's use Decision Tree classifier to predict if person will have heart disease or not"
   ]
  },
  {
   "cell_type": "markdown",
   "id": "5937e0c0",
   "metadata": {},
   "source": [
    "#### Load the libraries"
   ]
  },
  {
   "cell_type": "code",
   "execution_count": 49,
   "id": "6f39a461",
   "metadata": {},
   "outputs": [],
   "source": [
    "from sklearn.tree import DecisionTreeClassifier"
   ]
  },
  {
   "cell_type": "markdown",
   "id": "75d7ac82",
   "metadata": {},
   "source": [
    "#### Create an instance of the model"
   ]
  },
  {
   "cell_type": "code",
   "execution_count": 50,
   "id": "4bc1f5cb",
   "metadata": {},
   "outputs": [],
   "source": [
    "treeClassifier = DecisionTreeClassifier()"
   ]
  },
  {
   "cell_type": "markdown",
   "id": "d0997426",
   "metadata": {},
   "source": [
    "#### Train the model"
   ]
  },
  {
   "cell_type": "code",
   "execution_count": 65,
   "id": "d53f7a74",
   "metadata": {},
   "outputs": [
    {
     "data": {
      "text/html": [
       "<style>#sk-container-id-5 {color: black;background-color: white;}#sk-container-id-5 pre{padding: 0;}#sk-container-id-5 div.sk-toggleable {background-color: white;}#sk-container-id-5 label.sk-toggleable__label {cursor: pointer;display: block;width: 100%;margin-bottom: 0;padding: 0.3em;box-sizing: border-box;text-align: center;}#sk-container-id-5 label.sk-toggleable__label-arrow:before {content: \"▸\";float: left;margin-right: 0.25em;color: #696969;}#sk-container-id-5 label.sk-toggleable__label-arrow:hover:before {color: black;}#sk-container-id-5 div.sk-estimator:hover label.sk-toggleable__label-arrow:before {color: black;}#sk-container-id-5 div.sk-toggleable__content {max-height: 0;max-width: 0;overflow: hidden;text-align: left;background-color: #f0f8ff;}#sk-container-id-5 div.sk-toggleable__content pre {margin: 0.2em;color: black;border-radius: 0.25em;background-color: #f0f8ff;}#sk-container-id-5 input.sk-toggleable__control:checked~div.sk-toggleable__content {max-height: 200px;max-width: 100%;overflow: auto;}#sk-container-id-5 input.sk-toggleable__control:checked~label.sk-toggleable__label-arrow:before {content: \"▾\";}#sk-container-id-5 div.sk-estimator input.sk-toggleable__control:checked~label.sk-toggleable__label {background-color: #d4ebff;}#sk-container-id-5 div.sk-label input.sk-toggleable__control:checked~label.sk-toggleable__label {background-color: #d4ebff;}#sk-container-id-5 input.sk-hidden--visually {border: 0;clip: rect(1px 1px 1px 1px);clip: rect(1px, 1px, 1px, 1px);height: 1px;margin: -1px;overflow: hidden;padding: 0;position: absolute;width: 1px;}#sk-container-id-5 div.sk-estimator {font-family: monospace;background-color: #f0f8ff;border: 1px dotted black;border-radius: 0.25em;box-sizing: border-box;margin-bottom: 0.5em;}#sk-container-id-5 div.sk-estimator:hover {background-color: #d4ebff;}#sk-container-id-5 div.sk-parallel-item::after {content: \"\";width: 100%;border-bottom: 1px solid gray;flex-grow: 1;}#sk-container-id-5 div.sk-label:hover label.sk-toggleable__label {background-color: #d4ebff;}#sk-container-id-5 div.sk-serial::before {content: \"\";position: absolute;border-left: 1px solid gray;box-sizing: border-box;top: 0;bottom: 0;left: 50%;z-index: 0;}#sk-container-id-5 div.sk-serial {display: flex;flex-direction: column;align-items: center;background-color: white;padding-right: 0.2em;padding-left: 0.2em;position: relative;}#sk-container-id-5 div.sk-item {position: relative;z-index: 1;}#sk-container-id-5 div.sk-parallel {display: flex;align-items: stretch;justify-content: center;background-color: white;position: relative;}#sk-container-id-5 div.sk-item::before, #sk-container-id-5 div.sk-parallel-item::before {content: \"\";position: absolute;border-left: 1px solid gray;box-sizing: border-box;top: 0;bottom: 0;left: 50%;z-index: -1;}#sk-container-id-5 div.sk-parallel-item {display: flex;flex-direction: column;z-index: 1;position: relative;background-color: white;}#sk-container-id-5 div.sk-parallel-item:first-child::after {align-self: flex-end;width: 50%;}#sk-container-id-5 div.sk-parallel-item:last-child::after {align-self: flex-start;width: 50%;}#sk-container-id-5 div.sk-parallel-item:only-child::after {width: 0;}#sk-container-id-5 div.sk-dashed-wrapped {border: 1px dashed gray;margin: 0 0.4em 0.5em 0.4em;box-sizing: border-box;padding-bottom: 0.4em;background-color: white;}#sk-container-id-5 div.sk-label label {font-family: monospace;font-weight: bold;display: inline-block;line-height: 1.2em;}#sk-container-id-5 div.sk-label-container {text-align: center;}#sk-container-id-5 div.sk-container {/* jupyter's `normalize.less` sets `[hidden] { display: none; }` but bootstrap.min.css set `[hidden] { display: none !important; }` so we also need the `!important` here to be able to override the default hidden behavior on the sphinx rendered scikit-learn.org. See: https://github.com/scikit-learn/scikit-learn/issues/21755 */display: inline-block !important;position: relative;}#sk-container-id-5 div.sk-text-repr-fallback {display: none;}</style><div id=\"sk-container-id-5\" class=\"sk-top-container\"><div class=\"sk-text-repr-fallback\"><pre>DecisionTreeClassifier()</pre><b>In a Jupyter environment, please rerun this cell to show the HTML representation or trust the notebook. <br />On GitHub, the HTML representation is unable to render, please try loading this page with nbviewer.org.</b></div><div class=\"sk-container\" hidden><div class=\"sk-item\"><div class=\"sk-estimator sk-toggleable\"><input class=\"sk-toggleable__control sk-hidden--visually\" id=\"sk-estimator-id-5\" type=\"checkbox\" checked><label for=\"sk-estimator-id-5\" class=\"sk-toggleable__label sk-toggleable__label-arrow\">DecisionTreeClassifier</label><div class=\"sk-toggleable__content\"><pre>DecisionTreeClassifier()</pre></div></div></div></div></div>"
      ],
      "text/plain": [
       "DecisionTreeClassifier()"
      ]
     },
     "execution_count": 65,
     "metadata": {},
     "output_type": "execute_result"
    }
   ],
   "source": [
    "treeClassifier.fit(x_train, y_train)"
   ]
  },
  {
   "cell_type": "markdown",
   "id": "616dd46c",
   "metadata": {},
   "source": [
    "#### Make predictions on the test data"
   ]
  },
  {
   "cell_type": "code",
   "execution_count": 66,
   "id": "dc85ac8d",
   "metadata": {},
   "outputs": [],
   "source": [
    "predictions = treeClassifier.predict(x_test)"
   ]
  },
  {
   "cell_type": "markdown",
   "id": "f7308da5",
   "metadata": {},
   "source": [
    "### Make the Confusion Matrix"
   ]
  },
  {
   "cell_type": "code",
   "execution_count": 67,
   "id": "0103e7c6",
   "metadata": {},
   "outputs": [
    {
     "data": {
      "image/png": "[encoded data removed]",
      "text/plain": [
       "<Figure size 640x480 with 2 Axes>"
      ]
     },
     "metadata": {},
     "output_type": "display_data"
    }
   ],
   "source": [
    "get_ConfusionMatrix(y_test, predictions)"
   ]
  },
  {
   "cell_type": "markdown",
   "id": "30613f52",
   "metadata": {},
   "source": [
    "### Get the Classification report"
   ]
  },
  {
   "cell_type": "code",
   "execution_count": 68,
   "id": "e2300502",
   "metadata": {},
   "outputs": [
    {
     "name": "stdout",
     "output_type": "stream",
     "text": [
      "              precision    recall  f1-score   support\n",
      "\n",
      "     class 0       0.89      0.83      0.86       744\n",
      "     class 1       0.19      0.28      0.23       104\n",
      "\n",
      "    accuracy                           0.77       848\n",
      "   macro avg       0.54      0.56      0.54       848\n",
      "weighted avg       0.81      0.77      0.78       848\n",
      "\n"
     ]
    }
   ],
   "source": [
    "get_report(y_test, predictions)"
   ]
  },
  {
   "cell_type": "markdown",
   "id": "2631092a",
   "metadata": {},
   "source": [
    "## Logistic Regression"
   ]
  },
  {
   "cell_type": "markdown",
   "id": "abf1377b",
   "metadata": {},
   "source": [
    "Let's use Logistic Regression to predict if a person will have heart disease or not"
   ]
  },
  {
   "cell_type": "markdown",
   "id": "38c5878a",
   "metadata": {},
   "source": [
    "#### Load the libraries"
   ]
  },
  {
   "cell_type": "code",
   "execution_count": 63,
   "id": "2d7f2079",
   "metadata": {},
   "outputs": [],
   "source": [
    "from sklearn.linear_model import LogisticRegression"
   ]
  },
  {
   "cell_type": "markdown",
   "id": "68925615",
   "metadata": {},
   "source": [
    "#### Create an instance of the model"
   ]
  },
  {
   "cell_type": "code",
   "execution_count": 64,
   "id": "87f27154",
   "metadata": {},
   "outputs": [],
   "source": [
    "logisticClassifier = LogisticRegression()"
   ]
  },
  {
   "cell_type": "markdown",
   "id": "270c7f44",
   "metadata": {},
   "source": [
    "### Normalize the data"
   ]
  },
  {
   "cell_type": "code",
   "execution_count": 89,
   "id": "78762d36",
   "metadata": {},
   "outputs": [
    {
     "data": {
      "text/plain": [
       "array([[-1.23495068,  2.00708772, -0.75797428, ...,  0.28694273,\n",
       "         0.34274444, -0.21751656],\n",
       "       [-0.41825733,  0.02090466, -0.75797428, ...,  0.71932499,\n",
       "         1.59027451, -0.26131108],\n",
       "       [-0.18491638, -0.97218687,  0.92583516, ..., -0.11350221,\n",
       "        -0.07309892, -0.52407818],\n",
       "       ...,\n",
       "       [-0.18491638,  0.02090466,  0.92583516, ..., -0.93404582,\n",
       "         0.67541912,  0.17663409],\n",
       "       [-0.65159829, -0.97218687,  0.5048828 , ..., -1.63175357,\n",
       "         0.84175647,  0.        ],\n",
       "       [ 0.28176554,  0.02090466, -0.75797428, ..., -1.06425185,\n",
       "         0.34274444,  1.09631895]])"
      ]
     },
     "execution_count": 89,
     "metadata": {},
     "output_type": "execute_result"
    }
   ],
   "source": [
    "# load the normalizer module\n",
    "from sklearn.preprocessing import StandardScaler\n",
    "\n",
    "scaler = StandardScaler()\n",
    "\n",
    "# separate the data to be normalized\n",
    "x_to_normalize = x.drop(['male', 'currentSmoker', 'prevalentStroke', 'prevalentHyp', 'diabetes'], axis = 1)\n",
    "scaler.fit(x_to_normalize)\n",
    "\n",
    "# transform the data\n",
    "x_normalized = scaler.transform(x_to_normalize)\n",
    "\n",
    "x_normalized"
   ]
  },
  {
   "cell_type": "markdown",
   "id": "fa5df944",
   "metadata": {},
   "source": [
    "#### Get the dataframe back after normalization"
   ]
  },
  {
   "cell_type": "code",
   "execution_count": 102,
   "id": "35d7df4a",
   "metadata": {},
   "outputs": [
    {
     "data": {
      "text/html": [
       "<div>\n",
       "<style scoped>\n",
       "    .dataframe tbody tr th:only-of-type {\n",
       "        vertical-align: middle;\n",
       "    }\n",
       "\n",
       "    .dataframe tbody tr th {\n",
       "        vertical-align: top;\n",
       "    }\n",
       "\n",
       "    .dataframe thead th {\n",
       "        text-align: right;\n",
       "    }\n",
       "</style>\n",
       "<table border=\"1\" class=\"dataframe\">\n",
       "  <thead>\n",
       "    <tr style=\"text-align: right;\">\n",
       "      <th></th>\n",
       "      <th>male</th>\n",
       "      <th>age</th>\n",
       "      <th>education</th>\n",
       "      <th>cigsPerDay</th>\n",
       "      <th>BPMeds</th>\n",
       "      <th>totChol</th>\n",
       "      <th>sysBP</th>\n",
       "      <th>diaBP</th>\n",
       "      <th>BMI</th>\n",
       "      <th>heartRate</th>\n",
       "      <th>glucose</th>\n",
       "      <th>currentSmoker</th>\n",
       "      <th>prevalentStroke</th>\n",
       "      <th>prevalentHyp</th>\n",
       "      <th>diabetes</th>\n",
       "    </tr>\n",
       "  </thead>\n",
       "  <tbody>\n",
       "    <tr>\n",
       "      <th>0</th>\n",
       "      <td>1.0</td>\n",
       "      <td>-1.234951</td>\n",
       "      <td>2.007088</td>\n",
       "      <td>-0.757974</td>\n",
       "      <td>-0.175844</td>\n",
       "      <td>-0.941346</td>\n",
       "      <td>-1.195907</td>\n",
       "      <td>-1.082625</td>\n",
       "      <td>0.286943</td>\n",
       "      <td>0.342744</td>\n",
       "      <td>-0.217517</td>\n",
       "      <td>0.0</td>\n",
       "      <td>0.0</td>\n",
       "      <td>0.0</td>\n",
       "      <td>0.0</td>\n",
       "    </tr>\n",
       "    <tr>\n",
       "      <th>1</th>\n",
       "      <td>0.0</td>\n",
       "      <td>-0.418257</td>\n",
       "      <td>0.020905</td>\n",
       "      <td>-0.757974</td>\n",
       "      <td>-0.175844</td>\n",
       "      <td>0.299595</td>\n",
       "      <td>-0.515187</td>\n",
       "      <td>-0.158988</td>\n",
       "      <td>0.719325</td>\n",
       "      <td>1.590275</td>\n",
       "      <td>-0.261311</td>\n",
       "      <td>0.0</td>\n",
       "      <td>0.0</td>\n",
       "      <td>0.0</td>\n",
       "      <td>0.0</td>\n",
       "    </tr>\n",
       "    <tr>\n",
       "      <th>2</th>\n",
       "      <td>1.0</td>\n",
       "      <td>-0.184916</td>\n",
       "      <td>-0.972187</td>\n",
       "      <td>0.925835</td>\n",
       "      <td>-0.175844</td>\n",
       "      <td>0.186782</td>\n",
       "      <td>-0.220209</td>\n",
       "      <td>-0.242955</td>\n",
       "      <td>-0.113502</td>\n",
       "      <td>-0.073099</td>\n",
       "      <td>-0.524078</td>\n",
       "      <td>1.0</td>\n",
       "      <td>0.0</td>\n",
       "      <td>0.0</td>\n",
       "      <td>0.0</td>\n",
       "    </tr>\n",
       "    <tr>\n",
       "      <th>3</th>\n",
       "      <td>0.0</td>\n",
       "      <td>1.331800</td>\n",
       "      <td>1.013996</td>\n",
       "      <td>1.767740</td>\n",
       "      <td>-0.175844</td>\n",
       "      <td>-0.264469</td>\n",
       "      <td>0.800871</td>\n",
       "      <td>1.016549</td>\n",
       "      <td>0.682474</td>\n",
       "      <td>-0.904786</td>\n",
       "      <td>0.921141</td>\n",
       "      <td>1.0</td>\n",
       "      <td>0.0</td>\n",
       "      <td>1.0</td>\n",
       "      <td>0.0</td>\n",
       "    </tr>\n",
       "    <tr>\n",
       "      <th>4</th>\n",
       "      <td>0.0</td>\n",
       "      <td>-0.418257</td>\n",
       "      <td>1.013996</td>\n",
       "      <td>1.178407</td>\n",
       "      <td>-0.175844</td>\n",
       "      <td>1.089284</td>\n",
       "      <td>-0.106755</td>\n",
       "      <td>0.092912</td>\n",
       "      <td>-0.663807</td>\n",
       "      <td>0.758588</td>\n",
       "      <td>0.132840</td>\n",
       "      <td>1.0</td>\n",
       "      <td>0.0</td>\n",
       "      <td>0.0</td>\n",
       "      <td>0.0</td>\n",
       "    </tr>\n",
       "  </tbody>\n",
       "</table>\n",
       "</div>"
      ],
      "text/plain": [
       "   male       age  education  cigsPerDay    BPMeds   totChol     sysBP   \n",
       "0   1.0 -1.234951   2.007088   -0.757974 -0.175844 -0.941346 -1.195907  \\\n",
       "1   0.0 -0.418257   0.020905   -0.757974 -0.175844  0.299595 -0.515187   \n",
       "2   1.0 -0.184916  -0.972187    0.925835 -0.175844  0.186782 -0.220209   \n",
       "3   0.0  1.331800   1.013996    1.767740 -0.175844 -0.264469  0.800871   \n",
       "4   0.0 -0.418257   1.013996    1.178407 -0.175844  1.089284 -0.106755   \n",
       "\n",
       "      diaBP       BMI  heartRate   glucose  currentSmoker  prevalentStroke   \n",
       "0 -1.082625  0.286943   0.342744 -0.217517            0.0              0.0  \\\n",
       "1 -0.158988  0.719325   1.590275 -0.261311            0.0              0.0   \n",
       "2 -0.242955 -0.113502  -0.073099 -0.524078            1.0              0.0   \n",
       "3  1.016549  0.682474  -0.904786  0.921141            1.0              0.0   \n",
       "4  0.092912 -0.663807   0.758588  0.132840            1.0              0.0   \n",
       "\n",
       "   prevalentHyp  diabetes  \n",
       "0           0.0       0.0  \n",
       "1           0.0       0.0  \n",
       "2           0.0       0.0  \n",
       "3           1.0       0.0  \n",
       "4           0.0       0.0  "
      ]
     },
     "execution_count": 102,
     "metadata": {},
     "output_type": "execute_result"
    }
   ],
   "source": [
    "x_transformed = pd.DataFrame(x_normalized, columns = labels)\n",
    "\n",
    "x_transformed.insert(value = x.male,\n",
    "             loc = 0,\n",
    "             column = 'male')\n",
    "\n",
    "x_transformed = frame.assign(currentSmoker = x.currentSmoker,\n",
    "                             prevalentStroke = x.prevalentStroke,\n",
    "                             prevalentHyp = x.prevalentHyp, \n",
    "                             diabetes = x.diabetes)\n",
    "\n",
    "x_transformed.head()"
   ]
  },
  {
   "cell_type": "markdown",
   "id": "07a29e70",
   "metadata": {},
   "source": [
    "### Split data into training and testing dataset"
   ]
  },
  {
   "cell_type": "code",
   "execution_count": 106,
   "id": "41666699",
   "metadata": {},
   "outputs": [
    {
     "data": {
      "text/html": [
       "<div>\n",
       "<style scoped>\n",
       "    .dataframe tbody tr th:only-of-type {\n",
       "        vertical-align: middle;\n",
       "    }\n",
       "\n",
       "    .dataframe tbody tr th {\n",
       "        vertical-align: top;\n",
       "    }\n",
       "\n",
       "    .dataframe thead th {\n",
       "        text-align: right;\n",
       "    }\n",
       "</style>\n",
       "<table border=\"1\" class=\"dataframe\">\n",
       "  <thead>\n",
       "    <tr style=\"text-align: right;\">\n",
       "      <th></th>\n",
       "      <th>male</th>\n",
       "      <th>age</th>\n",
       "      <th>education</th>\n",
       "      <th>cigsPerDay</th>\n",
       "      <th>BPMeds</th>\n",
       "      <th>totChol</th>\n",
       "      <th>sysBP</th>\n",
       "      <th>diaBP</th>\n",
       "      <th>BMI</th>\n",
       "      <th>heartRate</th>\n",
       "      <th>glucose</th>\n",
       "      <th>currentSmoker</th>\n",
       "      <th>prevalentStroke</th>\n",
       "      <th>prevalentHyp</th>\n",
       "      <th>diabetes</th>\n",
       "    </tr>\n",
       "  </thead>\n",
       "  <tbody>\n",
       "    <tr>\n",
       "      <th>1223</th>\n",
       "      <td>0.0</td>\n",
       "      <td>-1.234951</td>\n",
       "      <td>0.020905</td>\n",
       "      <td>0.925835</td>\n",
       "      <td>-0.175844</td>\n",
       "      <td>-1.979223</td>\n",
       "      <td>-0.469806</td>\n",
       "      <td>-0.914691</td>\n",
       "      <td>-1.106016</td>\n",
       "      <td>0.758588</td>\n",
       "      <td>-0.305106</td>\n",
       "      <td>1.0</td>\n",
       "      <td>0.0</td>\n",
       "      <td>0.0</td>\n",
       "      <td>0.0</td>\n",
       "    </tr>\n",
       "    <tr>\n",
       "      <th>3762</th>\n",
       "      <td>1.0</td>\n",
       "      <td>-1.234951</td>\n",
       "      <td>0.020905</td>\n",
       "      <td>0.504883</td>\n",
       "      <td>-0.175844</td>\n",
       "      <td>1.833849</td>\n",
       "      <td>-0.651331</td>\n",
       "      <td>-0.620807</td>\n",
       "      <td>0.422062</td>\n",
       "      <td>-0.904786</td>\n",
       "      <td>-0.524078</td>\n",
       "      <td>1.0</td>\n",
       "      <td>0.0</td>\n",
       "      <td>0.0</td>\n",
       "      <td>0.0</td>\n",
       "    </tr>\n",
       "    <tr>\n",
       "      <th>2952</th>\n",
       "      <td>0.0</td>\n",
       "      <td>0.515106</td>\n",
       "      <td>-0.972187</td>\n",
       "      <td>-0.757974</td>\n",
       "      <td>-0.175844</td>\n",
       "      <td>1.563098</td>\n",
       "      <td>2.843031</td>\n",
       "      <td>2.276054</td>\n",
       "      <td>1.547239</td>\n",
       "      <td>-0.322605</td>\n",
       "      <td>-0.611667</td>\n",
       "      <td>0.0</td>\n",
       "      <td>0.0</td>\n",
       "      <td>1.0</td>\n",
       "      <td>0.0</td>\n",
       "    </tr>\n",
       "    <tr>\n",
       "      <th>436</th>\n",
       "      <td>1.0</td>\n",
       "      <td>0.515106</td>\n",
       "      <td>-0.972187</td>\n",
       "      <td>-0.757974</td>\n",
       "      <td>-0.175844</td>\n",
       "      <td>-0.287031</td>\n",
       "      <td>1.708498</td>\n",
       "      <td>1.604318</td>\n",
       "      <td>0.829877</td>\n",
       "      <td>-0.322605</td>\n",
       "      <td>0.000000</td>\n",
       "      <td>0.0</td>\n",
       "      <td>0.0</td>\n",
       "      <td>1.0</td>\n",
       "      <td>0.0</td>\n",
       "    </tr>\n",
       "    <tr>\n",
       "      <th>480</th>\n",
       "      <td>0.0</td>\n",
       "      <td>0.165095</td>\n",
       "      <td>2.007088</td>\n",
       "      <td>-0.000260</td>\n",
       "      <td>-0.175844</td>\n",
       "      <td>1.878974</td>\n",
       "      <td>0.573965</td>\n",
       "      <td>0.176879</td>\n",
       "      <td>-0.435332</td>\n",
       "      <td>-0.073099</td>\n",
       "      <td>0.702168</td>\n",
       "      <td>1.0</td>\n",
       "      <td>0.0</td>\n",
       "      <td>1.0</td>\n",
       "      <td>0.0</td>\n",
       "    </tr>\n",
       "    <tr>\n",
       "      <th>...</th>\n",
       "      <td>...</td>\n",
       "      <td>...</td>\n",
       "      <td>...</td>\n",
       "      <td>...</td>\n",
       "      <td>...</td>\n",
       "      <td>...</td>\n",
       "      <td>...</td>\n",
       "      <td>...</td>\n",
       "      <td>...</td>\n",
       "      <td>...</td>\n",
       "      <td>...</td>\n",
       "      <td>...</td>\n",
       "      <td>...</td>\n",
       "      <td>...</td>\n",
       "      <td>...</td>\n",
       "    </tr>\n",
       "    <tr>\n",
       "      <th>2906</th>\n",
       "      <td>1.0</td>\n",
       "      <td>-0.768269</td>\n",
       "      <td>-0.972187</td>\n",
       "      <td>0.925835</td>\n",
       "      <td>-0.175844</td>\n",
       "      <td>-0.693157</td>\n",
       "      <td>0.052079</td>\n",
       "      <td>0.554731</td>\n",
       "      <td>-1.000377</td>\n",
       "      <td>0.841756</td>\n",
       "      <td>0.308018</td>\n",
       "      <td>1.0</td>\n",
       "      <td>0.0</td>\n",
       "      <td>0.0</td>\n",
       "      <td>0.0</td>\n",
       "    </tr>\n",
       "    <tr>\n",
       "      <th>1396</th>\n",
       "      <td>1.0</td>\n",
       "      <td>-0.651598</td>\n",
       "      <td>1.013996</td>\n",
       "      <td>1.178407</td>\n",
       "      <td>-0.175844</td>\n",
       "      <td>0.795971</td>\n",
       "      <td>-0.787475</td>\n",
       "      <td>-0.578823</td>\n",
       "      <td>-0.403395</td>\n",
       "      <td>0.342744</td>\n",
       "      <td>-0.217517</td>\n",
       "      <td>1.0</td>\n",
       "      <td>0.0</td>\n",
       "      <td>0.0</td>\n",
       "      <td>0.0</td>\n",
       "    </tr>\n",
       "    <tr>\n",
       "      <th>544</th>\n",
       "      <td>0.0</td>\n",
       "      <td>-1.351621</td>\n",
       "      <td>1.013996</td>\n",
       "      <td>-0.757974</td>\n",
       "      <td>-0.175844</td>\n",
       "      <td>-1.482847</td>\n",
       "      <td>-1.014382</td>\n",
       "      <td>-0.998658</td>\n",
       "      <td>-0.983180</td>\n",
       "      <td>0.509082</td>\n",
       "      <td>-0.173722</td>\n",
       "      <td>0.0</td>\n",
       "      <td>0.0</td>\n",
       "      <td>0.0</td>\n",
       "      <td>0.0</td>\n",
       "    </tr>\n",
       "    <tr>\n",
       "      <th>1158</th>\n",
       "      <td>0.0</td>\n",
       "      <td>-0.418257</td>\n",
       "      <td>1.013996</td>\n",
       "      <td>-0.337022</td>\n",
       "      <td>-0.175844</td>\n",
       "      <td>1.224660</td>\n",
       "      <td>-1.127835</td>\n",
       "      <td>-1.502460</td>\n",
       "      <td>-0.418135</td>\n",
       "      <td>0.509082</td>\n",
       "      <td>-0.173722</td>\n",
       "      <td>1.0</td>\n",
       "      <td>0.0</td>\n",
       "      <td>0.0</td>\n",
       "      <td>0.0</td>\n",
       "    </tr>\n",
       "    <tr>\n",
       "      <th>3672</th>\n",
       "      <td>0.0</td>\n",
       "      <td>0.515106</td>\n",
       "      <td>-0.972187</td>\n",
       "      <td>0.083930</td>\n",
       "      <td>-0.175844</td>\n",
       "      <td>0.073969</td>\n",
       "      <td>-0.878238</td>\n",
       "      <td>-0.830724</td>\n",
       "      <td>-0.391111</td>\n",
       "      <td>0.342744</td>\n",
       "      <td>-0.217517</td>\n",
       "      <td>1.0</td>\n",
       "      <td>0.0</td>\n",
       "      <td>0.0</td>\n",
       "      <td>0.0</td>\n",
       "    </tr>\n",
       "  </tbody>\n",
       "</table>\n",
       "<p>3390 rows × 15 columns</p>\n",
       "</div>"
      ],
      "text/plain": [
       "      male       age  education  cigsPerDay    BPMeds   totChol     sysBP   \n",
       "1223   0.0 -1.234951   0.020905    0.925835 -0.175844 -1.979223 -0.469806  \\\n",
       "3762   1.0 -1.234951   0.020905    0.504883 -0.175844  1.833849 -0.651331   \n",
       "2952   0.0  0.515106  -0.972187   -0.757974 -0.175844  1.563098  2.843031   \n",
       "436    1.0  0.515106  -0.972187   -0.757974 -0.175844 -0.287031  1.708498   \n",
       "480    0.0  0.165095   2.007088   -0.000260 -0.175844  1.878974  0.573965   \n",
       "...    ...       ...        ...         ...       ...       ...       ...   \n",
       "2906   1.0 -0.768269  -0.972187    0.925835 -0.175844 -0.693157  0.052079   \n",
       "1396   1.0 -0.651598   1.013996    1.178407 -0.175844  0.795971 -0.787475   \n",
       "544    0.0 -1.351621   1.013996   -0.757974 -0.175844 -1.482847 -1.014382   \n",
       "1158   0.0 -0.418257   1.013996   -0.337022 -0.175844  1.224660 -1.127835   \n",
       "3672   0.0  0.515106  -0.972187    0.083930 -0.175844  0.073969 -0.878238   \n",
       "\n",
       "         diaBP       BMI  heartRate   glucose  currentSmoker  prevalentStroke   \n",
       "1223 -0.914691 -1.106016   0.758588 -0.305106            1.0              0.0  \\\n",
       "3762 -0.620807  0.422062  -0.904786 -0.524078            1.0              0.0   \n",
       "2952  2.276054  1.547239  -0.322605 -0.611667            0.0              0.0   \n",
       "436   1.604318  0.829877  -0.322605  0.000000            0.0              0.0   \n",
       "480   0.176879 -0.435332  -0.073099  0.702168            1.0              0.0   \n",
       "...        ...       ...        ...       ...            ...              ...   \n",
       "2906  0.554731 -1.000377   0.841756  0.308018            1.0              0.0   \n",
       "1396 -0.578823 -0.403395   0.342744 -0.217517            1.0              0.0   \n",
       "544  -0.998658 -0.983180   0.509082 -0.173722            0.0              0.0   \n",
       "1158 -1.502460 -0.418135   0.509082 -0.173722            1.0              0.0   \n",
       "3672 -0.830724 -0.391111   0.342744 -0.217517            1.0              0.0   \n",
       "\n",
       "      prevalentHyp  diabetes  \n",
       "1223           0.0       0.0  \n",
       "3762           0.0       0.0  \n",
       "2952           1.0       0.0  \n",
       "436            1.0       0.0  \n",
       "480            1.0       0.0  \n",
       "...            ...       ...  \n",
       "2906           0.0       0.0  \n",
       "1396           0.0       0.0  \n",
       "544            0.0       0.0  \n",
       "1158           0.0       0.0  \n",
       "3672           0.0       0.0  \n",
       "\n",
       "[3390 rows x 15 columns]"
      ]
     },
     "execution_count": 106,
     "metadata": {},
     "output_type": "execute_result"
    }
   ],
   "source": [
    "x_transformed_train, x_transformed_test, y_train, y_test = train_test_split(x_transformed, y, test_size = 0.2)\n",
    "\n",
    "x_transformed_train"
   ]
  },
  {
   "cell_type": "markdown",
   "id": "87892b25",
   "metadata": {},
   "source": [
    "#### Train the model"
   ]
  },
  {
   "cell_type": "code",
   "execution_count": 107,
   "id": "d5c30084",
   "metadata": {},
   "outputs": [
    {
     "data": {
      "text/html": [
       "<style>#sk-container-id-7 {color: black;background-color: white;}#sk-container-id-7 pre{padding: 0;}#sk-container-id-7 div.sk-toggleable {background-color: white;}#sk-container-id-7 label.sk-toggleable__label {cursor: pointer;display: block;width: 100%;margin-bottom: 0;padding: 0.3em;box-sizing: border-box;text-align: center;}#sk-container-id-7 label.sk-toggleable__label-arrow:before {content: \"▸\";float: left;margin-right: 0.25em;color: #696969;}#sk-container-id-7 label.sk-toggleable__label-arrow:hover:before {color: black;}#sk-container-id-7 div.sk-estimator:hover label.sk-toggleable__label-arrow:before {color: black;}#sk-container-id-7 div.sk-toggleable__content {max-height: 0;max-width: 0;overflow: hidden;text-align: left;background-color: #f0f8ff;}#sk-container-id-7 div.sk-toggleable__content pre {margin: 0.2em;color: black;border-radius: 0.25em;background-color: #f0f8ff;}#sk-container-id-7 input.sk-toggleable__control:checked~div.sk-toggleable__content {max-height: 200px;max-width: 100%;overflow: auto;}#sk-container-id-7 input.sk-toggleable__control:checked~label.sk-toggleable__label-arrow:before {content: \"▾\";}#sk-container-id-7 div.sk-estimator input.sk-toggleable__control:checked~label.sk-toggleable__label {background-color: #d4ebff;}#sk-container-id-7 div.sk-label input.sk-toggleable__control:checked~label.sk-toggleable__label {background-color: #d4ebff;}#sk-container-id-7 input.sk-hidden--visually {border: 0;clip: rect(1px 1px 1px 1px);clip: rect(1px, 1px, 1px, 1px);height: 1px;margin: -1px;overflow: hidden;padding: 0;position: absolute;width: 1px;}#sk-container-id-7 div.sk-estimator {font-family: monospace;background-color: #f0f8ff;border: 1px dotted black;border-radius: 0.25em;box-sizing: border-box;margin-bottom: 0.5em;}#sk-container-id-7 div.sk-estimator:hover {background-color: #d4ebff;}#sk-container-id-7 div.sk-parallel-item::after {content: \"\";width: 100%;border-bottom: 1px solid gray;flex-grow: 1;}#sk-container-id-7 div.sk-label:hover label.sk-toggleable__label {background-color: #d4ebff;}#sk-container-id-7 div.sk-serial::before {content: \"\";position: absolute;border-left: 1px solid gray;box-sizing: border-box;top: 0;bottom: 0;left: 50%;z-index: 0;}#sk-container-id-7 div.sk-serial {display: flex;flex-direction: column;align-items: center;background-color: white;padding-right: 0.2em;padding-left: 0.2em;position: relative;}#sk-container-id-7 div.sk-item {position: relative;z-index: 1;}#sk-container-id-7 div.sk-parallel {display: flex;align-items: stretch;justify-content: center;background-color: white;position: relative;}#sk-container-id-7 div.sk-item::before, #sk-container-id-7 div.sk-parallel-item::before {content: \"\";position: absolute;border-left: 1px solid gray;box-sizing: border-box;top: 0;bottom: 0;left: 50%;z-index: -1;}#sk-container-id-7 div.sk-parallel-item {display: flex;flex-direction: column;z-index: 1;position: relative;background-color: white;}#sk-container-id-7 div.sk-parallel-item:first-child::after {align-self: flex-end;width: 50%;}#sk-container-id-7 div.sk-parallel-item:last-child::after {align-self: flex-start;width: 50%;}#sk-container-id-7 div.sk-parallel-item:only-child::after {width: 0;}#sk-container-id-7 div.sk-dashed-wrapped {border: 1px dashed gray;margin: 0 0.4em 0.5em 0.4em;box-sizing: border-box;padding-bottom: 0.4em;background-color: white;}#sk-container-id-7 div.sk-label label {font-family: monospace;font-weight: bold;display: inline-block;line-height: 1.2em;}#sk-container-id-7 div.sk-label-container {text-align: center;}#sk-container-id-7 div.sk-container {/* jupyter's `normalize.less` sets `[hidden] { display: none; }` but bootstrap.min.css set `[hidden] { display: none !important; }` so we also need the `!important` here to be able to override the default hidden behavior on the sphinx rendered scikit-learn.org. See: https://github.com/scikit-learn/scikit-learn/issues/21755 */display: inline-block !important;position: relative;}#sk-container-id-7 div.sk-text-repr-fallback {display: none;}</style><div id=\"sk-container-id-7\" class=\"sk-top-container\"><div class=\"sk-text-repr-fallback\"><pre>LogisticRegression()</pre><b>In a Jupyter environment, please rerun this cell to show the HTML representation or trust the notebook. <br />On GitHub, the HTML representation is unable to render, please try loading this page with nbviewer.org.</b></div><div class=\"sk-container\" hidden><div class=\"sk-item\"><div class=\"sk-estimator sk-toggleable\"><input class=\"sk-toggleable__control sk-hidden--visually\" id=\"sk-estimator-id-7\" type=\"checkbox\" checked><label for=\"sk-estimator-id-7\" class=\"sk-toggleable__label sk-toggleable__label-arrow\">LogisticRegression</label><div class=\"sk-toggleable__content\"><pre>LogisticRegression()</pre></div></div></div></div></div>"
      ],
      "text/plain": [
       "LogisticRegression()"
      ]
     },
     "execution_count": 107,
     "metadata": {},
     "output_type": "execute_result"
    }
   ],
   "source": [
    "logisticClassifier.fit(x_transformed_train, y_train)"
   ]
  },
  {
   "cell_type": "markdown",
   "id": "8574c635",
   "metadata": {},
   "source": [
    "#### Make predictions"
   ]
  },
  {
   "cell_type": "code",
   "execution_count": 109,
   "id": "52c0822c",
   "metadata": {},
   "outputs": [],
   "source": [
    "logistic_pred = logisticClassifier.predict(x_transformed_test)"
   ]
  },
  {
   "cell_type": "markdown",
   "id": "c60f9191",
   "metadata": {},
   "source": [
    "### Make a confusion matrix"
   ]
  },
  {
   "cell_type": "code",
   "execution_count": 110,
   "id": "f1f3e159",
   "metadata": {},
   "outputs": [
    {
     "data": {
      "image/png": "[encoded data removed]",
      "text/plain": [
       "<Figure size 640x480 with 2 Axes>"
      ]
     },
     "metadata": {},
     "output_type": "display_data"
    }
   ],
   "source": [
    "get_ConfusionMatrix(y_test, logistic_pred)"
   ]
  },
  {
   "cell_type": "markdown",
   "id": "bc5f83d8",
   "metadata": {},
   "source": [
    "### Make the classification report"
   ]
  },
  {
   "cell_type": "code",
   "execution_count": 111,
   "id": "616d7dfe",
   "metadata": {},
   "outputs": [
    {
     "name": "stdout",
     "output_type": "stream",
     "text": [
      "              precision    recall  f1-score   support\n",
      "\n",
      "     class 0       0.85      0.99      0.92       713\n",
      "     class 1       0.71      0.09      0.16       135\n",
      "\n",
      "    accuracy                           0.85       848\n",
      "   macro avg       0.78      0.54      0.54       848\n",
      "weighted avg       0.83      0.85      0.80       848\n",
      "\n"
     ]
    }
   ],
   "source": [
    "get_report(y_test, logistic_pred)"
   ]
  },
  {
   "cell_type": "markdown",
   "id": "239c8f78",
   "metadata": {},
   "source": [
    "## KNN"
   ]
  },
  {
   "cell_type": "markdown",
   "id": "f05b4486",
   "metadata": {},
   "source": [
    "Let's use KNN to predict if a person will have heart disease or not"
   ]
  },
  {
   "cell_type": "markdown",
   "id": "ace10af1",
   "metadata": {},
   "source": [
    "#### Load the libraries"
   ]
  },
  {
   "cell_type": "code",
   "execution_count": 112,
   "id": "0e47c00b",
   "metadata": {},
   "outputs": [],
   "source": [
    "from sklearn.neighbors import KNeighborsClassifier"
   ]
  },
  {
   "cell_type": "markdown",
   "id": "d1fc18a7",
   "metadata": {},
   "source": [
    "#### Create an instance of the model"
   ]
  },
  {
   "cell_type": "code",
   "execution_count": 129,
   "id": "f9ce99d6",
   "metadata": {},
   "outputs": [],
   "source": [
    "knn = KNeighborsClassifier(n_neighbors = 9)"
   ]
  },
  {
   "cell_type": "markdown",
   "id": "3d5f2483",
   "metadata": {},
   "source": [
    "#### Train the model"
   ]
  },
  {
   "cell_type": "code",
   "execution_count": 130,
   "id": "76f3af3e",
   "metadata": {},
   "outputs": [
    {
     "data": {
      "text/html": [
       "<style>#sk-container-id-11 {color: black;background-color: white;}#sk-container-id-11 pre{padding: 0;}#sk-container-id-11 div.sk-toggleable {background-color: white;}#sk-container-id-11 label.sk-toggleable__label {cursor: pointer;display: block;width: 100%;margin-bottom: 0;padding: 0.3em;box-sizing: border-box;text-align: center;}#sk-container-id-11 label.sk-toggleable__label-arrow:before {content: \"▸\";float: left;margin-right: 0.25em;color: #696969;}#sk-container-id-11 label.sk-toggleable__label-arrow:hover:before {color: black;}#sk-container-id-11 div.sk-estimator:hover label.sk-toggleable__label-arrow:before {color: black;}#sk-container-id-11 div.sk-toggleable__content {max-height: 0;max-width: 0;overflow: hidden;text-align: left;background-color: #f0f8ff;}#sk-container-id-11 div.sk-toggleable__content pre {margin: 0.2em;color: black;border-radius: 0.25em;background-color: #f0f8ff;}#sk-container-id-11 input.sk-toggleable__control:checked~div.sk-toggleable__content {max-height: 200px;max-width: 100%;overflow: auto;}#sk-container-id-11 input.sk-toggleable__control:checked~label.sk-toggleable__label-arrow:before {content: \"▾\";}#sk-container-id-11 div.sk-estimator input.sk-toggleable__control:checked~label.sk-toggleable__label {background-color: #d4ebff;}#sk-container-id-11 div.sk-label input.sk-toggleable__control:checked~label.sk-toggleable__label {background-color: #d4ebff;}#sk-container-id-11 input.sk-hidden--visually {border: 0;clip: rect(1px 1px 1px 1px);clip: rect(1px, 1px, 1px, 1px);height: 1px;margin: -1px;overflow: hidden;padding: 0;position: absolute;width: 1px;}#sk-container-id-11 div.sk-estimator {font-family: monospace;background-color: #f0f8ff;border: 1px dotted black;border-radius: 0.25em;box-sizing: border-box;margin-bottom: 0.5em;}#sk-container-id-11 div.sk-estimator:hover {background-color: #d4ebff;}#sk-container-id-11 div.sk-parallel-item::after {content: \"\";width: 100%;border-bottom: 1px solid gray;flex-grow: 1;}#sk-container-id-11 div.sk-label:hover label.sk-toggleable__label {background-color: #d4ebff;}#sk-container-id-11 div.sk-serial::before {content: \"\";position: absolute;border-left: 1px solid gray;box-sizing: border-box;top: 0;bottom: 0;left: 50%;z-index: 0;}#sk-container-id-11 div.sk-serial {display: flex;flex-direction: column;align-items: center;background-color: white;padding-right: 0.2em;padding-left: 0.2em;position: relative;}#sk-container-id-11 div.sk-item {position: relative;z-index: 1;}#sk-container-id-11 div.sk-parallel {display: flex;align-items: stretch;justify-content: center;background-color: white;position: relative;}#sk-container-id-11 div.sk-item::before, #sk-container-id-11 div.sk-parallel-item::before {content: \"\";position: absolute;border-left: 1px solid gray;box-sizing: border-box;top: 0;bottom: 0;left: 50%;z-index: -1;}#sk-container-id-11 div.sk-parallel-item {display: flex;flex-direction: column;z-index: 1;position: relative;background-color: white;}#sk-container-id-11 div.sk-parallel-item:first-child::after {align-self: flex-end;width: 50%;}#sk-container-id-11 div.sk-parallel-item:last-child::after {align-self: flex-start;width: 50%;}#sk-container-id-11 div.sk-parallel-item:only-child::after {width: 0;}#sk-container-id-11 div.sk-dashed-wrapped {border: 1px dashed gray;margin: 0 0.4em 0.5em 0.4em;box-sizing: border-box;padding-bottom: 0.4em;background-color: white;}#sk-container-id-11 div.sk-label label {font-family: monospace;font-weight: bold;display: inline-block;line-height: 1.2em;}#sk-container-id-11 div.sk-label-container {text-align: center;}#sk-container-id-11 div.sk-container {/* jupyter's `normalize.less` sets `[hidden] { display: none; }` but bootstrap.min.css set `[hidden] { display: none !important; }` so we also need the `!important` here to be able to override the default hidden behavior on the sphinx rendered scikit-learn.org. See: https://github.com/scikit-learn/scikit-learn/issues/21755 */display: inline-block !important;position: relative;}#sk-container-id-11 div.sk-text-repr-fallback {display: none;}</style><div id=\"sk-container-id-11\" class=\"sk-top-container\"><div class=\"sk-text-repr-fallback\"><pre>KNeighborsClassifier(n_neighbors=9)</pre><b>In a Jupyter environment, please rerun this cell to show the HTML representation or trust the notebook. <br />On GitHub, the HTML representation is unable to render, please try loading this page with nbviewer.org.</b></div><div class=\"sk-container\" hidden><div class=\"sk-item\"><div class=\"sk-estimator sk-toggleable\"><input class=\"sk-toggleable__control sk-hidden--visually\" id=\"sk-estimator-id-11\" type=\"checkbox\" checked><label for=\"sk-estimator-id-11\" class=\"sk-toggleable__label sk-toggleable__label-arrow\">KNeighborsClassifier</label><div class=\"sk-toggleable__content\"><pre>KNeighborsClassifier(n_neighbors=9)</pre></div></div></div></div></div>"
      ],
      "text/plain": [
       "KNeighborsClassifier(n_neighbors=9)"
      ]
     },
     "execution_count": 130,
     "metadata": {},
     "output_type": "execute_result"
    }
   ],
   "source": [
    "knn.fit(x_train, y_train)"
   ]
  },
  {
   "cell_type": "markdown",
   "id": "1cb4dd28",
   "metadata": {},
   "source": [
    "#### Make the predictions"
   ]
  },
  {
   "cell_type": "code",
   "execution_count": 131,
   "id": "1a627566",
   "metadata": {},
   "outputs": [],
   "source": [
    "predictions = knn.predict(x_test)"
   ]
  },
  {
   "cell_type": "markdown",
   "id": "89272445",
   "metadata": {},
   "source": [
    "### Make the Confusion Matrix"
   ]
  },
  {
   "cell_type": "code",
   "execution_count": 132,
   "id": "34cce000",
   "metadata": {},
   "outputs": [
    {
     "data": {
      "image/png": "[encoded data removed]",
      "text/plain": [
       "<Figure size 640x480 with 2 Axes>"
      ]
     },
     "metadata": {},
     "output_type": "display_data"
    }
   ],
   "source": [
    "get_ConfusionMatrix(y_test, predictions)"
   ]
  },
  {
   "cell_type": "markdown",
   "id": "37965a1f",
   "metadata": {},
   "source": [
    "### Make the Classification Report"
   ]
  },
  {
   "cell_type": "code",
   "execution_count": 133,
   "id": "a3c45962",
   "metadata": {},
   "outputs": [
    {
     "name": "stdout",
     "output_type": "stream",
     "text": [
      "              precision    recall  f1-score   support\n",
      "\n",
      "     class 0       0.84      1.00      0.91       713\n",
      "     class 1       0.67      0.01      0.03       135\n",
      "\n",
      "    accuracy                           0.84       848\n",
      "   macro avg       0.75      0.51      0.47       848\n",
      "weighted avg       0.81      0.84      0.77       848\n",
      "\n"
     ]
    }
   ],
   "source": [
    "get_report(y_test, predictions)"
   ]
  },
  {
   "cell_type": "markdown",
   "id": "b839bab7",
   "metadata": {},
   "source": [
    "### Through our implementation, the best results we obtained using the Gaussian Naive Bayes and Logistic Regression algorithms with accuracy of around 85%."
   ]
  }
 ],
 "metadata": {
  "kernelspec": {
   "display_name": "Python 3 (ipykernel)",
   "language": "python",
   "name": "python3"
  },
  "language_info": {
   "codemirror_mode": {
    "name": "ipython",
    "version": 3
   },
   "file_extension": ".py",
   "mimetype": "text/x-python",
   "name": "python",
   "nbconvert_exporter": "python",
   "pygments_lexer": "ipython3",
   "version": "3.11.3"
  }
 },
 "nbformat": 4,
 "nbformat_minor": 5
}

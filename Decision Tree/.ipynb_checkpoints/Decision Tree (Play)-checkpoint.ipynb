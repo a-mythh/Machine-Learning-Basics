{
 "cells": [
  {
   "cell_type": "markdown",
   "id": "68ce81ed",
   "metadata": {},
   "source": [
    "#### Load necessay libraries"
   ]
  },
  {
   "cell_type": "code",
   "execution_count": 1,
   "id": "e0096133",
   "metadata": {},
   "outputs": [],
   "source": [
    "import pandas as pd\n",
    "import numpy as np\n",
    "import matplotlib.pyplot as plt"
   ]
  },
  {
   "cell_type": "markdown",
   "id": "e2e62926",
   "metadata": {},
   "source": [
    "#### Load the dataset"
   ]
  },
  {
   "cell_type": "code",
   "execution_count": 2,
   "id": "7d7118bd",
   "metadata": {},
   "outputs": [
    {
     "data": {
      "text/html": [
       "<div>\n",
       "<style scoped>\n",
       "    .dataframe tbody tr th:only-of-type {\n",
       "        vertical-align: middle;\n",
       "    }\n",
       "\n",
       "    .dataframe tbody tr th {\n",
       "        vertical-align: top;\n",
       "    }\n",
       "\n",
       "    .dataframe thead th {\n",
       "        text-align: right;\n",
       "    }\n",
       "</style>\n",
       "<table border=\"1\" class=\"dataframe\">\n",
       "  <thead>\n",
       "    <tr style=\"text-align: right;\">\n",
       "      <th></th>\n",
       "      <th>day</th>\n",
       "      <th>outlook</th>\n",
       "      <th>temp</th>\n",
       "      <th>humidity</th>\n",
       "      <th>wind</th>\n",
       "      <th>play</th>\n",
       "    </tr>\n",
       "  </thead>\n",
       "  <tbody>\n",
       "    <tr>\n",
       "      <th>0</th>\n",
       "      <td>D1</td>\n",
       "      <td>Sunny</td>\n",
       "      <td>Hot</td>\n",
       "      <td>High</td>\n",
       "      <td>Weak</td>\n",
       "      <td>No</td>\n",
       "    </tr>\n",
       "    <tr>\n",
       "      <th>1</th>\n",
       "      <td>D2</td>\n",
       "      <td>Sunny</td>\n",
       "      <td>Hot</td>\n",
       "      <td>High</td>\n",
       "      <td>Strong</td>\n",
       "      <td>No</td>\n",
       "    </tr>\n",
       "    <tr>\n",
       "      <th>2</th>\n",
       "      <td>D3</td>\n",
       "      <td>Overcast</td>\n",
       "      <td>Hot</td>\n",
       "      <td>High</td>\n",
       "      <td>Weak</td>\n",
       "      <td>Yes</td>\n",
       "    </tr>\n",
       "    <tr>\n",
       "      <th>3</th>\n",
       "      <td>D4</td>\n",
       "      <td>Rain</td>\n",
       "      <td>Mild</td>\n",
       "      <td>High</td>\n",
       "      <td>Weak</td>\n",
       "      <td>Yes</td>\n",
       "    </tr>\n",
       "    <tr>\n",
       "      <th>4</th>\n",
       "      <td>D5</td>\n",
       "      <td>Rain</td>\n",
       "      <td>Cool</td>\n",
       "      <td>Normal</td>\n",
       "      <td>Weak</td>\n",
       "      <td>Yes</td>\n",
       "    </tr>\n",
       "  </tbody>\n",
       "</table>\n",
       "</div>"
      ],
      "text/plain": [
       "  day   outlook  temp humidity    wind play\n",
       "0  D1     Sunny   Hot     High    Weak   No\n",
       "1  D2     Sunny   Hot     High  Strong   No\n",
       "2  D3  Overcast   Hot     High    Weak  Yes\n",
       "3  D4      Rain  Mild     High    Weak  Yes\n",
       "4  D5      Rain  Cool   Normal    Weak  Yes"
      ]
     },
     "execution_count": 2,
     "metadata": {},
     "output_type": "execute_result"
    }
   ],
   "source": [
    "data = pd.read_csv('play.csv')\n",
    "\n",
    "data.head()"
   ]
  },
  {
   "cell_type": "markdown",
   "id": "9e882c05",
   "metadata": {},
   "source": [
    "#### Find class prior probabilities"
   ]
  },
  {
   "cell_type": "code",
   "execution_count": 9,
   "id": "37ed88e7",
   "metadata": {},
   "outputs": [
    {
     "name": "stdout",
     "output_type": "stream",
     "text": [
      "P(Yes) = 0.6428571428571429\n",
      "P(No)  = 0.35714285714285715\n"
     ]
    }
   ],
   "source": [
    "size = len(data)\n",
    "\n",
    "yes = data.loc[data['play'] == 'Yes'].count()[0]\n",
    "no = data.loc[data['play'] == 'No'].count()[0]\n",
    "\n",
    "prob_yes = yes / size\n",
    "prob_no = no / size\n",
    "\n",
    "print(\"P(Yes) =\", prob_yes)\n",
    "print(\"P(No)  =\", prob_no)"
   ]
  },
  {
   "cell_type": "markdown",
   "id": "27e0b435",
   "metadata": {},
   "source": [
    "#### Find Entropy of play"
   ]
  },
  {
   "cell_type": "code",
   "execution_count": 10,
   "id": "c3d666d9",
   "metadata": {},
   "outputs": [
    {
     "name": "stdout",
     "output_type": "stream",
     "text": [
      "0.9402859586706311\n"
     ]
    }
   ],
   "source": [
    "S = (-prob_yes * np.log2(prob_yes)) - (prob_no * np.log2(prob_no)) \n",
    "\n",
    "print(S)"
   ]
  },
  {
   "cell_type": "markdown",
   "id": "0133a780",
   "metadata": {},
   "source": [
    "#### Define function for Entropy for different labels"
   ]
  },
  {
   "cell_type": "code",
   "execution_count": 11,
   "id": "9dd6a241",
   "metadata": {},
   "outputs": [],
   "source": [
    "def calculate_entropy (prob_yes, prob_no):\n",
    "    \n",
    "    # if either or both probabilities are zero\n",
    "    if (prob_yes == 0 and prob_no == 0):\n",
    "        return 0\n",
    "    elif (prob_yes == 0):\n",
    "        return -prob_no * np.log2(prob_no)\n",
    "    elif (prob_no == 0):\n",
    "        return prob_yes * np.log2(prob_yes)\n",
    "    \n",
    "    entropy = (-prob_yes * np.log2(prob_yes)) - (prob_no * np.log2(prob_no))\n",
    "    return entropy"
   ]
  },
  {
   "cell_type": "markdown",
   "id": "0d6a15a0",
   "metadata": {},
   "source": [
    "#### Define function for entropies of each feature"
   ]
  },
  {
   "cell_type": "code",
   "execution_count": 12,
   "id": "ab002748",
   "metadata": {},
   "outputs": [],
   "source": [
    "def get_feature_entropy(feature):\n",
    "    \n",
    "    size = feature.size\n",
    "    \n",
    "    feature_values = feature.unique()\n",
    "    feature_name = feature.name\n",
    "    \n",
    "    entropy_dict = {}\n",
    "    \n",
    "    for f in feature_values:\n",
    "        yes_count = data.loc[(data[feature_name] == f) & (data.play == 'Yes')].count()[0]\n",
    "        no_count = data.loc[(data[feature_name] == f) & (data.play == 'No')].count()[0]\n",
    "        \n",
    "        total_count = yes_count + no_count\n",
    "        p_yes, p_no = yes_count / total_count, no_count / total_count\n",
    "        \n",
    "        entropy = calculate_entropy(p_yes, p_no)\n",
    "        \n",
    "        entropy_dict[f] = [entropy, total_count / size]\n",
    "        \n",
    "    return entropy_dict"
   ]
  },
  {
   "cell_type": "markdown",
   "id": "b034cbd3",
   "metadata": {},
   "source": [
    "#### Get entropies of different features"
   ]
  },
  {
   "cell_type": "code",
   "execution_count": 13,
   "id": "d93f82ef",
   "metadata": {},
   "outputs": [],
   "source": [
    "outlook_entr = get_feature_entropy(data.outlook)\n",
    "temp_entr = get_feature_entropy(data.temp)\n",
    "humidity_entr = get_feature_entropy(data.humidity)\n",
    "wind_entr = get_feature_entropy(data.wind)"
   ]
  },
  {
   "cell_type": "markdown",
   "id": "a8dad481",
   "metadata": {},
   "source": [
    "#### Define function to calculate gain"
   ]
  },
  {
   "cell_type": "code",
   "execution_count": 14,
   "id": "004dd585",
   "metadata": {},
   "outputs": [],
   "source": [
    "# find all the gains\n",
    "def calculate_gain(entropies):\n",
    "    \n",
    "    total_entr = 0\n",
    "    \n",
    "    for entropy in entropies:\n",
    "        prob, entr = entropies.get(entropy)\n",
    "        \n",
    "        total_entr += prob * entr\n",
    "        \n",
    "    gain = S - total_entr\n",
    "    \n",
    "    return gain"
   ]
  },
  {
   "cell_type": "code",
   "execution_count": 17,
   "id": "cdd80ccb",
   "metadata": {},
   "outputs": [
    {
     "name": "stdout",
     "output_type": "stream",
     "text": [
      "Outlook gain     = 0.24674981977443933\n",
      "Temperature gain = 0.02922256565895487\n",
      "Humidity gain    = 0.15183550136234159\n",
      "Wind gain        = 0.04812703040826949\n"
     ]
    }
   ],
   "source": [
    "print('Outlook gain     =', calculate_gain(outlook_entr))\n",
    "print('Temperature gain =', calculate_gain(temp_entr))\n",
    "print('Humidity gain    =', calculate_gain(humidity_entr))\n",
    "print('Wind gain        =', calculate_gain(wind_entr))"
   ]
  },
  {
   "cell_type": "markdown",
   "id": "49106753",
   "metadata": {},
   "source": [
    "### From above results gain of outlook is the maximum. Therefore, Outlook should be the root node"
   ]
  },
  {
   "cell_type": "markdown",
   "id": "d617b0be",
   "metadata": {},
   "source": [
    "## Use scikit learn library"
   ]
  },
  {
   "cell_type": "code",
   "execution_count": 19,
   "id": "93ac3073",
   "metadata": {},
   "outputs": [],
   "source": [
    "from sklearn import tree"
   ]
  },
  {
   "cell_type": "markdown",
   "id": "dbc9af01",
   "metadata": {},
   "source": [
    "#### Build the model for Decision Tree Classifier"
   ]
  },
  {
   "cell_type": "code",
   "execution_count": 20,
   "id": "eb1e6465",
   "metadata": {},
   "outputs": [],
   "source": [
    "classifier = tree.DecisionTreeClassifier(criterion = 'entropy', max_depth = 2)"
   ]
  },
  {
   "cell_type": "markdown",
   "id": "de958923",
   "metadata": {},
   "source": [
    "#### Separate the features and target"
   ]
  },
  {
   "cell_type": "code",
   "execution_count": 21,
   "id": "483d556d",
   "metadata": {},
   "outputs": [
    {
     "data": {
      "text/html": [
       "<div>\n",
       "<style scoped>\n",
       "    .dataframe tbody tr th:only-of-type {\n",
       "        vertical-align: middle;\n",
       "    }\n",
       "\n",
       "    .dataframe tbody tr th {\n",
       "        vertical-align: top;\n",
       "    }\n",
       "\n",
       "    .dataframe thead th {\n",
       "        text-align: right;\n",
       "    }\n",
       "</style>\n",
       "<table border=\"1\" class=\"dataframe\">\n",
       "  <thead>\n",
       "    <tr style=\"text-align: right;\">\n",
       "      <th></th>\n",
       "      <th>outlook</th>\n",
       "      <th>temp</th>\n",
       "      <th>humidity</th>\n",
       "      <th>wind</th>\n",
       "    </tr>\n",
       "  </thead>\n",
       "  <tbody>\n",
       "    <tr>\n",
       "      <th>0</th>\n",
       "      <td>Sunny</td>\n",
       "      <td>Hot</td>\n",
       "      <td>High</td>\n",
       "      <td>Weak</td>\n",
       "    </tr>\n",
       "    <tr>\n",
       "      <th>1</th>\n",
       "      <td>Sunny</td>\n",
       "      <td>Hot</td>\n",
       "      <td>High</td>\n",
       "      <td>Strong</td>\n",
       "    </tr>\n",
       "    <tr>\n",
       "      <th>2</th>\n",
       "      <td>Overcast</td>\n",
       "      <td>Hot</td>\n",
       "      <td>High</td>\n",
       "      <td>Weak</td>\n",
       "    </tr>\n",
       "    <tr>\n",
       "      <th>3</th>\n",
       "      <td>Rain</td>\n",
       "      <td>Mild</td>\n",
       "      <td>High</td>\n",
       "      <td>Weak</td>\n",
       "    </tr>\n",
       "    <tr>\n",
       "      <th>4</th>\n",
       "      <td>Rain</td>\n",
       "      <td>Cool</td>\n",
       "      <td>Normal</td>\n",
       "      <td>Weak</td>\n",
       "    </tr>\n",
       "    <tr>\n",
       "      <th>5</th>\n",
       "      <td>Rain</td>\n",
       "      <td>Cool</td>\n",
       "      <td>Normal</td>\n",
       "      <td>Strong</td>\n",
       "    </tr>\n",
       "    <tr>\n",
       "      <th>6</th>\n",
       "      <td>Overcast</td>\n",
       "      <td>Cool</td>\n",
       "      <td>Normal</td>\n",
       "      <td>Strong</td>\n",
       "    </tr>\n",
       "    <tr>\n",
       "      <th>7</th>\n",
       "      <td>Sunny</td>\n",
       "      <td>Mild</td>\n",
       "      <td>High</td>\n",
       "      <td>Weak</td>\n",
       "    </tr>\n",
       "    <tr>\n",
       "      <th>8</th>\n",
       "      <td>Sunny</td>\n",
       "      <td>Cool</td>\n",
       "      <td>Normal</td>\n",
       "      <td>Weak</td>\n",
       "    </tr>\n",
       "    <tr>\n",
       "      <th>9</th>\n",
       "      <td>Rain</td>\n",
       "      <td>Mild</td>\n",
       "      <td>Normal</td>\n",
       "      <td>Weak</td>\n",
       "    </tr>\n",
       "    <tr>\n",
       "      <th>10</th>\n",
       "      <td>Sunny</td>\n",
       "      <td>Mild</td>\n",
       "      <td>Normal</td>\n",
       "      <td>Strong</td>\n",
       "    </tr>\n",
       "    <tr>\n",
       "      <th>11</th>\n",
       "      <td>Overcast</td>\n",
       "      <td>Mild</td>\n",
       "      <td>High</td>\n",
       "      <td>Strong</td>\n",
       "    </tr>\n",
       "    <tr>\n",
       "      <th>12</th>\n",
       "      <td>Overcast</td>\n",
       "      <td>Hot</td>\n",
       "      <td>Normal</td>\n",
       "      <td>Weak</td>\n",
       "    </tr>\n",
       "    <tr>\n",
       "      <th>13</th>\n",
       "      <td>Rain</td>\n",
       "      <td>Mild</td>\n",
       "      <td>High</td>\n",
       "      <td>Strong</td>\n",
       "    </tr>\n",
       "  </tbody>\n",
       "</table>\n",
       "</div>"
      ],
      "text/plain": [
       "     outlook  temp humidity    wind\n",
       "0      Sunny   Hot     High    Weak\n",
       "1      Sunny   Hot     High  Strong\n",
       "2   Overcast   Hot     High    Weak\n",
       "3       Rain  Mild     High    Weak\n",
       "4       Rain  Cool   Normal    Weak\n",
       "5       Rain  Cool   Normal  Strong\n",
       "6   Overcast  Cool   Normal  Strong\n",
       "7      Sunny  Mild     High    Weak\n",
       "8      Sunny  Cool   Normal    Weak\n",
       "9       Rain  Mild   Normal    Weak\n",
       "10     Sunny  Mild   Normal  Strong\n",
       "11  Overcast  Mild     High  Strong\n",
       "12  Overcast   Hot   Normal    Weak\n",
       "13      Rain  Mild     High  Strong"
      ]
     },
     "execution_count": 21,
     "metadata": {},
     "output_type": "execute_result"
    }
   ],
   "source": [
    "x, y = data.drop(['day', 'play'], axis = 1), data.play\n",
    "\n",
    "x"
   ]
  },
  {
   "cell_type": "markdown",
   "id": "e601d721",
   "metadata": {},
   "source": [
    "### Perform feature encoding"
   ]
  },
  {
   "cell_type": "code",
   "execution_count": 22,
   "id": "fd6c1594",
   "metadata": {},
   "outputs": [],
   "source": [
    "from sklearn.preprocessing import LabelEncoder\n",
    "\n",
    "encoder = LabelEncoder()"
   ]
  },
  {
   "cell_type": "code",
   "execution_count": 23,
   "id": "583a31be",
   "metadata": {},
   "outputs": [],
   "source": [
    "outlook_encoded = encoder.fit_transform(x.outlook)\n",
    "temp_encoded = encoder.fit_transform(x.temp)\n",
    "humidity_encoded = encoder.fit_transform(x.humidity)\n",
    "wind_encoded = encoder.fit_transform(x.wind)\n",
    "\n",
    "y_encoded = encoder.fit_transform(y)"
   ]
  },
  {
   "cell_type": "code",
   "execution_count": 24,
   "id": "32d442b6",
   "metadata": {},
   "outputs": [],
   "source": [
    "x_encoded = []\n",
    "\n",
    "for i in range(len(x)):\n",
    "    x_encoded.append([outlook_encoded[i], temp_encoded[i], humidity_encoded[i], wind_encoded[i]])"
   ]
  },
  {
   "cell_type": "code",
   "execution_count": 25,
   "id": "1bdf3b85",
   "metadata": {},
   "outputs": [
    {
     "data": {
      "text/plain": [
       "[[2, 1, 0, 1],\n",
       " [2, 1, 0, 0],\n",
       " [0, 1, 0, 1],\n",
       " [1, 2, 0, 1],\n",
       " [1, 0, 1, 1],\n",
       " [1, 0, 1, 0],\n",
       " [0, 0, 1, 0],\n",
       " [2, 2, 0, 1],\n",
       " [2, 0, 1, 1],\n",
       " [1, 2, 1, 1],\n",
       " [2, 2, 1, 0],\n",
       " [0, 2, 0, 0],\n",
       " [0, 1, 1, 1],\n",
       " [1, 2, 0, 0]]"
      ]
     },
     "execution_count": 25,
     "metadata": {},
     "output_type": "execute_result"
    }
   ],
   "source": [
    "x_encoded"
   ]
  },
  {
   "cell_type": "markdown",
   "id": "2734ac75",
   "metadata": {},
   "source": [
    "#### Train the model"
   ]
  },
  {
   "cell_type": "code",
   "execution_count": 26,
   "id": "ce22ae8a",
   "metadata": {},
   "outputs": [
    {
     "data": {
      "text/html": [
       "<style>#sk-container-id-1 {color: black;background-color: white;}#sk-container-id-1 pre{padding: 0;}#sk-container-id-1 div.sk-toggleable {background-color: white;}#sk-container-id-1 label.sk-toggleable__label {cursor: pointer;display: block;width: 100%;margin-bottom: 0;padding: 0.3em;box-sizing: border-box;text-align: center;}#sk-container-id-1 label.sk-toggleable__label-arrow:before {content: \"▸\";float: left;margin-right: 0.25em;color: #696969;}#sk-container-id-1 label.sk-toggleable__label-arrow:hover:before {color: black;}#sk-container-id-1 div.sk-estimator:hover label.sk-toggleable__label-arrow:before {color: black;}#sk-container-id-1 div.sk-toggleable__content {max-height: 0;max-width: 0;overflow: hidden;text-align: left;background-color: #f0f8ff;}#sk-container-id-1 div.sk-toggleable__content pre {margin: 0.2em;color: black;border-radius: 0.25em;background-color: #f0f8ff;}#sk-container-id-1 input.sk-toggleable__control:checked~div.sk-toggleable__content {max-height: 200px;max-width: 100%;overflow: auto;}#sk-container-id-1 input.sk-toggleable__control:checked~label.sk-toggleable__label-arrow:before {content: \"▾\";}#sk-container-id-1 div.sk-estimator input.sk-toggleable__control:checked~label.sk-toggleable__label {background-color: #d4ebff;}#sk-container-id-1 div.sk-label input.sk-toggleable__control:checked~label.sk-toggleable__label {background-color: #d4ebff;}#sk-container-id-1 input.sk-hidden--visually {border: 0;clip: rect(1px 1px 1px 1px);clip: rect(1px, 1px, 1px, 1px);height: 1px;margin: -1px;overflow: hidden;padding: 0;position: absolute;width: 1px;}#sk-container-id-1 div.sk-estimator {font-family: monospace;background-color: #f0f8ff;border: 1px dotted black;border-radius: 0.25em;box-sizing: border-box;margin-bottom: 0.5em;}#sk-container-id-1 div.sk-estimator:hover {background-color: #d4ebff;}#sk-container-id-1 div.sk-parallel-item::after {content: \"\";width: 100%;border-bottom: 1px solid gray;flex-grow: 1;}#sk-container-id-1 div.sk-label:hover label.sk-toggleable__label {background-color: #d4ebff;}#sk-container-id-1 div.sk-serial::before {content: \"\";position: absolute;border-left: 1px solid gray;box-sizing: border-box;top: 0;bottom: 0;left: 50%;z-index: 0;}#sk-container-id-1 div.sk-serial {display: flex;flex-direction: column;align-items: center;background-color: white;padding-right: 0.2em;padding-left: 0.2em;position: relative;}#sk-container-id-1 div.sk-item {position: relative;z-index: 1;}#sk-container-id-1 div.sk-parallel {display: flex;align-items: stretch;justify-content: center;background-color: white;position: relative;}#sk-container-id-1 div.sk-item::before, #sk-container-id-1 div.sk-parallel-item::before {content: \"\";position: absolute;border-left: 1px solid gray;box-sizing: border-box;top: 0;bottom: 0;left: 50%;z-index: -1;}#sk-container-id-1 div.sk-parallel-item {display: flex;flex-direction: column;z-index: 1;position: relative;background-color: white;}#sk-container-id-1 div.sk-parallel-item:first-child::after {align-self: flex-end;width: 50%;}#sk-container-id-1 div.sk-parallel-item:last-child::after {align-self: flex-start;width: 50%;}#sk-container-id-1 div.sk-parallel-item:only-child::after {width: 0;}#sk-container-id-1 div.sk-dashed-wrapped {border: 1px dashed gray;margin: 0 0.4em 0.5em 0.4em;box-sizing: border-box;padding-bottom: 0.4em;background-color: white;}#sk-container-id-1 div.sk-label label {font-family: monospace;font-weight: bold;display: inline-block;line-height: 1.2em;}#sk-container-id-1 div.sk-label-container {text-align: center;}#sk-container-id-1 div.sk-container {/* jupyter's `normalize.less` sets `[hidden] { display: none; }` but bootstrap.min.css set `[hidden] { display: none !important; }` so we also need the `!important` here to be able to override the default hidden behavior on the sphinx rendered scikit-learn.org. See: https://github.com/scikit-learn/scikit-learn/issues/21755 */display: inline-block !important;position: relative;}#sk-container-id-1 div.sk-text-repr-fallback {display: none;}</style><div id=\"sk-container-id-1\" class=\"sk-top-container\"><div class=\"sk-text-repr-fallback\"><pre>DecisionTreeClassifier(criterion=&#x27;entropy&#x27;, max_depth=2)</pre><b>In a Jupyter environment, please rerun this cell to show the HTML representation or trust the notebook. <br />On GitHub, the HTML representation is unable to render, please try loading this page with nbviewer.org.</b></div><div class=\"sk-container\" hidden><div class=\"sk-item\"><div class=\"sk-estimator sk-toggleable\"><input class=\"sk-toggleable__control sk-hidden--visually\" id=\"sk-estimator-id-1\" type=\"checkbox\" checked><label for=\"sk-estimator-id-1\" class=\"sk-toggleable__label sk-toggleable__label-arrow\">DecisionTreeClassifier</label><div class=\"sk-toggleable__content\"><pre>DecisionTreeClassifier(criterion=&#x27;entropy&#x27;, max_depth=2)</pre></div></div></div></div></div>"
      ],
      "text/plain": [
       "DecisionTreeClassifier(criterion='entropy', max_depth=2)"
      ]
     },
     "execution_count": 26,
     "metadata": {},
     "output_type": "execute_result"
    }
   ],
   "source": [
    "classifier.fit(x_encoded, y_encoded)"
   ]
  },
  {
   "cell_type": "markdown",
   "id": "261716c4",
   "metadata": {},
   "source": [
    "#### Get the prediction"
   ]
  },
  {
   "cell_type": "code",
   "execution_count": 27,
   "id": "1b33de48",
   "metadata": {},
   "outputs": [],
   "source": [
    "prediction = classifier.predict([[1, 0, 0, 1]])"
   ]
  },
  {
   "cell_type": "code",
   "execution_count": 35,
   "id": "28524a56",
   "metadata": {},
   "outputs": [
    {
     "name": "stdout",
     "output_type": "stream",
     "text": [
      "No, play will not be there\n"
     ]
    }
   ],
   "source": [
    "if (prediction[0] == 0):\n",
    "    print(\"No, play will not be there\")\n",
    "else:\n",
    "    print(\"Yes, play will be there\")"
   ]
  },
  {
   "cell_type": "markdown",
   "id": "e215af6d",
   "metadata": {},
   "source": [
    "### Plot the Decision Tree"
   ]
  },
  {
   "cell_type": "code",
   "execution_count": 33,
   "id": "30a62456",
   "metadata": {},
   "outputs": [
    {
     "data": {
      "text/plain": [
       "[Text(0.4, 0.8333333333333334, 'outlook <= 0.5\\nentropy = 0.94\\nsamples = 14\\nvalue = [5, 9]\\nclass = No'),\n",
       " Text(0.2, 0.5, 'entropy = 0.0\\nsamples = 4\\nvalue = [0, 4]\\nclass = No'),\n",
       " Text(0.6, 0.5, 'humidity <= 0.5\\nentropy = 1.0\\nsamples = 10\\nvalue = [5, 5]\\nclass = Yes'),\n",
       " Text(0.4, 0.16666666666666666, 'entropy = 0.722\\nsamples = 5\\nvalue = [4, 1]\\nclass = Yes'),\n",
       " Text(0.8, 0.16666666666666666, 'entropy = 0.722\\nsamples = 5\\nvalue = [1, 4]\\nclass = No')]"
      ]
     },
     "execution_count": 33,
     "metadata": {},
     "output_type": "execute_result"
    },
    {
     "data": {
      "image/png": "[encoded data removed]",
      "text/plain": [
       "<Figure size 640x480 with 1 Axes>"
      ]
     },
     "metadata": {},
     "output_type": "display_data"
    }
   ],
   "source": [
    "features = list(x.columns)\n",
    "classes = ['Yes', 'No']\n",
    "\n",
    "tree.plot_tree(classifier, feature_names = features, class_names = classes, max_depth = 2,\n",
    "               filled = True, rounded = True)"
   ]
  },
  {
   "cell_type": "markdown",
   "id": "ddb6634d",
   "metadata": {},
   "source": [
    "### Therefore, we can see that Outlook is the Root node for the Decision Tree as we got while manually training the model."
   ]
  }
 ],
 "metadata": {
  "kernelspec": {
   "display_name": "Python 3 (ipykernel)",
   "language": "python",
   "name": "python3"
  },
  "language_info": {
   "codemirror_mode": {
    "name": "ipython",
    "version": 3
   },
   "file_extension": ".py",
   "mimetype": "text/x-python",
   "name": "python",
   "nbconvert_exporter": "python",
   "pygments_lexer": "ipython3",
   "version": "3.11.3"
  }
 },
 "nbformat": 4,
 "nbformat_minor": 5
}

{
 "cells": [
  {
   "cell_type": "markdown",
   "id": "eaeb7add",
   "metadata": {},
   "source": [
    "## Implementing Logistic Regression Manually"
   ]
  },
  {
   "cell_type": "markdown",
   "id": "6876db98",
   "metadata": {},
   "source": [
    "#### Load necessary libraries"
   ]
  },
  {
   "cell_type": "code",
   "execution_count": 92,
   "id": "da7675f9",
   "metadata": {},
   "outputs": [],
   "source": [
    "import numpy as np\n",
    "import pandas as pd\n",
    "import matplotlib.pyplot as plt\n",
    "import copy, math"
   ]
  },
  {
   "cell_type": "markdown",
   "id": "b3973164",
   "metadata": {},
   "source": [
    "#### Load the dataset"
   ]
  },
  {
   "cell_type": "code",
   "execution_count": 106,
   "id": "ceaf8f19",
   "metadata": {},
   "outputs": [
    {
     "data": {
      "text/html": [
       "<div>\n",
       "<style scoped>\n",
       "    .dataframe tbody tr th:only-of-type {\n",
       "        vertical-align: middle;\n",
       "    }\n",
       "\n",
       "    .dataframe tbody tr th {\n",
       "        vertical-align: top;\n",
       "    }\n",
       "\n",
       "    .dataframe thead th {\n",
       "        text-align: right;\n",
       "    }\n",
       "</style>\n",
       "<table border=\"1\" class=\"dataframe\">\n",
       "  <thead>\n",
       "    <tr style=\"text-align: right;\">\n",
       "      <th></th>\n",
       "      <th>age</th>\n",
       "      <th>sex</th>\n",
       "      <th>cp</th>\n",
       "      <th>trestbps</th>\n",
       "      <th>chol</th>\n",
       "      <th>fbs</th>\n",
       "      <th>restecg</th>\n",
       "      <th>thalach</th>\n",
       "      <th>exang</th>\n",
       "      <th>oldpeak</th>\n",
       "      <th>slope</th>\n",
       "      <th>ca</th>\n",
       "      <th>thal</th>\n",
       "      <th>target</th>\n",
       "    </tr>\n",
       "  </thead>\n",
       "  <tbody>\n",
       "    <tr>\n",
       "      <th>0</th>\n",
       "      <td>52</td>\n",
       "      <td>1</td>\n",
       "      <td>0</td>\n",
       "      <td>125</td>\n",
       "      <td>212</td>\n",
       "      <td>0</td>\n",
       "      <td>1</td>\n",
       "      <td>168</td>\n",
       "      <td>0</td>\n",
       "      <td>1.0</td>\n",
       "      <td>2</td>\n",
       "      <td>2</td>\n",
       "      <td>3</td>\n",
       "      <td>0</td>\n",
       "    </tr>\n",
       "    <tr>\n",
       "      <th>1</th>\n",
       "      <td>53</td>\n",
       "      <td>1</td>\n",
       "      <td>0</td>\n",
       "      <td>140</td>\n",
       "      <td>203</td>\n",
       "      <td>1</td>\n",
       "      <td>0</td>\n",
       "      <td>155</td>\n",
       "      <td>1</td>\n",
       "      <td>3.1</td>\n",
       "      <td>0</td>\n",
       "      <td>0</td>\n",
       "      <td>3</td>\n",
       "      <td>0</td>\n",
       "    </tr>\n",
       "    <tr>\n",
       "      <th>2</th>\n",
       "      <td>70</td>\n",
       "      <td>1</td>\n",
       "      <td>0</td>\n",
       "      <td>145</td>\n",
       "      <td>174</td>\n",
       "      <td>0</td>\n",
       "      <td>1</td>\n",
       "      <td>125</td>\n",
       "      <td>1</td>\n",
       "      <td>2.6</td>\n",
       "      <td>0</td>\n",
       "      <td>0</td>\n",
       "      <td>3</td>\n",
       "      <td>0</td>\n",
       "    </tr>\n",
       "    <tr>\n",
       "      <th>3</th>\n",
       "      <td>61</td>\n",
       "      <td>1</td>\n",
       "      <td>0</td>\n",
       "      <td>148</td>\n",
       "      <td>203</td>\n",
       "      <td>0</td>\n",
       "      <td>1</td>\n",
       "      <td>161</td>\n",
       "      <td>0</td>\n",
       "      <td>0.0</td>\n",
       "      <td>2</td>\n",
       "      <td>1</td>\n",
       "      <td>3</td>\n",
       "      <td>0</td>\n",
       "    </tr>\n",
       "    <tr>\n",
       "      <th>4</th>\n",
       "      <td>62</td>\n",
       "      <td>0</td>\n",
       "      <td>0</td>\n",
       "      <td>138</td>\n",
       "      <td>294</td>\n",
       "      <td>1</td>\n",
       "      <td>1</td>\n",
       "      <td>106</td>\n",
       "      <td>0</td>\n",
       "      <td>1.9</td>\n",
       "      <td>1</td>\n",
       "      <td>3</td>\n",
       "      <td>2</td>\n",
       "      <td>0</td>\n",
       "    </tr>\n",
       "  </tbody>\n",
       "</table>\n",
       "</div>"
      ],
      "text/plain": [
       "   age  sex  cp  trestbps  chol  fbs  restecg  thalach  exang  oldpeak  slope   \n",
       "0   52    1   0       125   212    0        1      168      0      1.0      2  \\\n",
       "1   53    1   0       140   203    1        0      155      1      3.1      0   \n",
       "2   70    1   0       145   174    0        1      125      1      2.6      0   \n",
       "3   61    1   0       148   203    0        1      161      0      0.0      2   \n",
       "4   62    0   0       138   294    1        1      106      0      1.9      1   \n",
       "\n",
       "   ca  thal  target  \n",
       "0   2     3       0  \n",
       "1   0     3       0  \n",
       "2   0     3       0  \n",
       "3   1     3       0  \n",
       "4   3     2       0  "
      ]
     },
     "execution_count": 106,
     "metadata": {},
     "output_type": "execute_result"
    }
   ],
   "source": [
    "data = pd.read_csv('heart.csv')\n",
    "\n",
    "data.head()"
   ]
  },
  {
   "cell_type": "markdown",
   "id": "c9f1ec60",
   "metadata": {},
   "source": [
    "### Visualize the dataset for better understanding"
   ]
  },
  {
   "cell_type": "code",
   "execution_count": 44,
   "id": "1c2db1c0",
   "metadata": {},
   "outputs": [
    {
     "data": {
      "image/png": "[encoded data removed]",
      "text/plain": [
       "<Figure size 640x480 with 1 Axes>"
      ]
     },
     "metadata": {},
     "output_type": "display_data"
    }
   ],
   "source": [
    "heart_disease_y = data.target.sum()\n",
    "heart_disease_n = len(data) - heart_disease_y\n",
    "\n",
    "plt.title(\"Percentage of People having Heart Disease\")\n",
    "\n",
    "plt.pie([heart_disease_y, heart_disease_n], labels = ['Yes', 'No'], colors = ['#AA1111', '#1CA53B'], autopct = '%.2f %%')\n",
    "\n",
    "plt.show()"
   ]
  },
  {
   "cell_type": "code",
   "execution_count": 23,
   "id": "5deaae6a",
   "metadata": {},
   "outputs": [
    {
     "data": {
      "image/png": "[encoded data removed]",
      "text/plain": [
       "<Figure size 640x480 with 1 Axes>"
      ]
     },
     "metadata": {},
     "output_type": "display_data"
    }
   ],
   "source": [
    "data.boxplot(column = 'trestbps', by = 'target', vert = False)\n",
    "\n",
    "plt.show()"
   ]
  },
  {
   "cell_type": "code",
   "execution_count": 24,
   "id": "b358bdf6",
   "metadata": {},
   "outputs": [
    {
     "data": {
      "image/png": "[encoded data removed]",
      "text/plain": [
       "<Figure size 640x480 with 1 Axes>"
      ]
     },
     "metadata": {},
     "output_type": "display_data"
    }
   ],
   "source": [
    "data.boxplot(column = 'thalach', by = 'target', vert = False)\n",
    "\n",
    "plt.show()"
   ]
  },
  {
   "cell_type": "code",
   "execution_count": 41,
   "id": "5846a85e",
   "metadata": {},
   "outputs": [
    {
     "data": {
      "image/png": "[encoded data removed]",
      "text/plain": [
       "<Figure size 2000x600 with 1 Axes>"
      ]
     },
     "metadata": {},
     "output_type": "display_data"
    }
   ],
   "source": [
    "pd.crosstab(data.age, data.target).plot(kind = \"bar\", figsize = (20, 6))\n",
    "\n",
    "plt.title('Heart Disease Frequency for Ages')\n",
    "plt.xlabel('Age')\n",
    "plt.ylabel('Frequency')\n",
    "\n",
    "plt.show()"
   ]
  },
  {
   "cell_type": "markdown",
   "id": "a6e7b818",
   "metadata": {},
   "source": [
    "### Find if there are null values in dataset"
   ]
  },
  {
   "cell_type": "code",
   "execution_count": 26,
   "id": "363758e9",
   "metadata": {},
   "outputs": [
    {
     "data": {
      "text/plain": [
       "age         0\n",
       "sex         0\n",
       "cp          0\n",
       "trestbps    0\n",
       "chol        0\n",
       "fbs         0\n",
       "restecg     0\n",
       "thalach     0\n",
       "exang       0\n",
       "oldpeak     0\n",
       "slope       0\n",
       "ca          0\n",
       "thal        0\n",
       "target      0\n",
       "dtype: int64"
      ]
     },
     "execution_count": 26,
     "metadata": {},
     "output_type": "execute_result"
    }
   ],
   "source": [
    "data.isnull().sum()"
   ]
  },
  {
   "cell_type": "markdown",
   "id": "a90e36e7",
   "metadata": {},
   "source": [
    "***It seems that there are no null values in our dataset, so cleaning is not required***"
   ]
  },
  {
   "cell_type": "markdown",
   "id": "bb145c25",
   "metadata": {},
   "source": [
    "### Performing Normalization of Dataset"
   ]
  },
  {
   "cell_type": "code",
   "execution_count": 107,
   "id": "67fdc4bb",
   "metadata": {},
   "outputs": [],
   "source": [
    "data.groupby('target').mean()\n",
    "\n",
    "# shuffle the dataset\n",
    "data = data.sample(frac = 1)"
   ]
  },
  {
   "cell_type": "markdown",
   "id": "5d978cff",
   "metadata": {},
   "source": [
    "##### Get the target values"
   ]
  },
  {
   "cell_type": "code",
   "execution_count": 108,
   "id": "036ebd38",
   "metadata": {},
   "outputs": [],
   "source": [
    "y = data.target.values"
   ]
  },
  {
   "cell_type": "markdown",
   "id": "c64c24bb",
   "metadata": {},
   "source": [
    "##### Get the input features"
   ]
  },
  {
   "cell_type": "code",
   "execution_count": 109,
   "id": "131b68f7",
   "metadata": {},
   "outputs": [],
   "source": [
    "x = data.drop(['target'], axis = 1)"
   ]
  },
  {
   "cell_type": "markdown",
   "id": "6d3fb9fb",
   "metadata": {},
   "source": [
    "<h3 style = \"text-align: center; padding: 10px\"> Min Max Scala </h3>\n",
    "\n",
    "$$\\begin{align*}\n",
    "{x_i} &= \\frac{x_i - x_{min}}{x_{max} - x_{min}}\n",
    "\\end{align*}$$"
   ]
  },
  {
   "cell_type": "code",
   "execution_count": 110,
   "id": "b68fe4c0",
   "metadata": {},
   "outputs": [],
   "source": [
    "x = ((x - np.min(x)) / (np.max(x) - np.min(x))).values"
   ]
  },
  {
   "cell_type": "code",
   "execution_count": 111,
   "id": "96c79487",
   "metadata": {},
   "outputs": [
    {
     "name": "stdout",
     "output_type": "stream",
     "text": [
      "[[0.07624113 0.         0.         ... 0.00177305 0.         0.00531915]\n",
      " [0.08687943 0.00177305 0.00177305 ... 0.0035461  0.         0.0035461 ]\n",
      " [0.10815603 0.00177305 0.         ... 0.0035461  0.00177305 0.00531915]\n",
      " ...\n",
      " [0.05141844 0.00177305 0.00177305 ... 0.0035461  0.         0.0035461 ]\n",
      " [0.12056738 0.00177305 0.0035461  ... 0.0035461  0.00177305 0.00531915]\n",
      " [0.12056738 0.00177305 0.0035461  ... 0.00177305 0.         0.00531915]]\n"
     ]
    }
   ],
   "source": [
    "print(x)"
   ]
  },
  {
   "cell_type": "markdown",
   "id": "64171883",
   "metadata": {},
   "source": [
    "#### Separate Training and Testing dataset"
   ]
  },
  {
   "cell_type": "code",
   "execution_count": 113,
   "id": "a702a572",
   "metadata": {},
   "outputs": [
    {
     "data": {
      "text/plain": [
       "array([[0.07624113, 0.        , 0.        , ..., 0.00177305, 0.        ,\n",
       "        0.00531915],\n",
       "       [0.08687943, 0.00177305, 0.00177305, ..., 0.0035461 , 0.        ,\n",
       "        0.0035461 ],\n",
       "       [0.10815603, 0.00177305, 0.        , ..., 0.0035461 , 0.00177305,\n",
       "        0.00531915],\n",
       "       ...,\n",
       "       [0.09219858, 0.        , 0.0035461 , ..., 0.00177305, 0.        ,\n",
       "        0.0035461 ],\n",
       "       [0.09042553, 0.00177305, 0.        , ..., 0.0035461 , 0.        ,\n",
       "        0.00531915],\n",
       "       [0.09574468, 0.00177305, 0.        , ..., 0.00177305, 0.0035461 ,\n",
       "        0.0035461 ]])"
      ]
     },
     "execution_count": 113,
     "metadata": {},
     "output_type": "execute_result"
    }
   ],
   "source": [
    "train_size = int(0.8 * len(x))\n",
    "test_size = len(x) - train_size\n",
    "\n",
    "x_train, y_train = x[:train_size], y[:train_size]\n",
    "x_test, y_test = x[train_size:], y[train_size:]\n",
    "\n",
    "x_train"
   ]
  },
  {
   "cell_type": "markdown",
   "id": "ab0010ec",
   "metadata": {},
   "source": [
    "#### Define Sigmoid function"
   ]
  },
  {
   "cell_type": "code",
   "execution_count": 114,
   "id": "78ac85b4",
   "metadata": {},
   "outputs": [],
   "source": [
    "def sigmoid(z):\n",
    "    g = 1 / (1 + np.exp(-z))\n",
    "    return g"
   ]
  },
  {
   "cell_type": "markdown",
   "id": "2aa4917e",
   "metadata": {},
   "source": [
    "#### Define the cost function\n",
    "\n",
    "$$loss(f(\\mathbf{x}^{(i)}), y^{(i)}) = -y^{(i)} \\log\\left(f\\left( \\mathbf{x}^{(i)} \\right) \\right) - \\left( 1 - y^{(i)}\\right) \\log \\left( 1 - f\\left( \\mathbf{x}^{(i)} \\right) \\right) $$"
   ]
  },
  {
   "cell_type": "code",
   "execution_count": 115,
   "id": "9c2b2007",
   "metadata": {},
   "outputs": [],
   "source": [
    "def compute_cost(x, y, w, b):\n",
    "    cost = 0\n",
    "    m = len(y)\n",
    "    \n",
    "    for i in range(m):\n",
    "        z_i = np.dot(x[i], w) + b\n",
    "        y_hat = sigmoid(z_i)\n",
    "        \n",
    "        cost += -y[i] * np.log10(y_hat) + (1 - y[i]) * np.log10(1 - y_hat)\n",
    "    \n",
    "    cost = cost / m\n",
    "    \n",
    "    return cost"
   ]
  },
  {
   "cell_type": "markdown",
   "id": "67f0c14c",
   "metadata": {},
   "source": [
    "#### Compute Gradient\n",
    "\n",
    "$$\\begin{align*}\n",
    "\\frac{\\partial J(\\mathbf{w},b)}{\\partial w_j}  &= \\frac{1}{m} \\sum\\limits_{i = 0}^{m-1} (f_{\\mathbf{w},b}(\\mathbf{x}^{(i)}) - y^{(i)})x_{j}^{(i)} \\\\\n",
    "\\frac{\\partial J(\\mathbf{w},b)}{\\partial b}  &= \\frac{1}{m} \\sum\\limits_{i = 0}^{m-1} (f_{\\mathbf{w},b}(\\mathbf{x}^{(i)}) - y^{(i)})\n",
    "\\end{align*}$$"
   ]
  },
  {
   "cell_type": "code",
   "execution_count": 116,
   "id": "1d2be7a3",
   "metadata": {},
   "outputs": [],
   "source": [
    "def compute_gradient(x, y, w, b):\n",
    "    m, n = x.shape\n",
    "    dj_dw = np.zeros((n, ))\n",
    "    dj_db = 0\n",
    "    \n",
    "    for i in range(m):\n",
    "        f_i = sigmoid(np.dot(x[i], w) + b)\n",
    "        err_i = f_i - y[i]\n",
    "        \n",
    "        for j in range(n):\n",
    "            dj_dw[j] = dj_dw[j] + err_i * x[i, j]\n",
    "        \n",
    "        dj_db = dj_db + err_i\n",
    "        \n",
    "    dj_dw = dj_dw / m\n",
    "    dj_db = dj_db / m\n",
    "    \n",
    "    return dj_db, dj_dw"
   ]
  },
  {
   "cell_type": "markdown",
   "id": "4a4c612b",
   "metadata": {},
   "source": [
    "#### Implement Gradient Descent\n",
    "\n",
    "$$\\begin{align*}\n",
    "&\\text{repeat until convergence:} \\; \\lbrace \\\\\n",
    "&  \\; \\; \\;w_j = w_j -  \\alpha \\frac{\\partial J(\\mathbf{w},b)}{\\partial w_j}  \\; & \\text{for j := 0..n-1} \\\\ \n",
    "&  \\; \\; \\;  \\; \\;b = b -  \\alpha \\frac{\\partial J(\\mathbf{w},b)}{\\partial b} \\\\\n",
    "&\\rbrace\n",
    "\\end{align*}$$"
   ]
  },
  {
   "cell_type": "code",
   "execution_count": 117,
   "id": "28e88031",
   "metadata": {},
   "outputs": [],
   "source": [
    "def gradient_descent(x, y, w_in, b_in, alpha, epochs):\n",
    "    \n",
    "    cost_history = []\n",
    "    w = copy.deepcopy(w_in)\n",
    "    b = b_in\n",
    "    \n",
    "    for i in range(epochs):\n",
    "        \n",
    "        # calculate gradient and update parameters\n",
    "        dj_db, dj_dw = compute_gradient(x, y, w, b)\n",
    "        \n",
    "        # update parameters\n",
    "        w = w - alpha * dj_dw\n",
    "        b = b - alpha * dj_db\n",
    "        \n",
    "        cost_history.append(compute_cost(x, y, w, b))\n",
    "        \n",
    "        # print cost after iterations\n",
    "        if (i % math.ceil(epochs / 10)) == 0:\n",
    "            print(\"Iteration\", i, \": Cost\", cost_history[-1])\n",
    "            \n",
    "    return w, b, cost_history"
   ]
  },
  {
   "cell_type": "markdown",
   "id": "a0f1c1f2",
   "metadata": {},
   "source": [
    "#### Run gradient descent on training set"
   ]
  },
  {
   "cell_type": "code",
   "execution_count": 132,
   "id": "f028962f",
   "metadata": {},
   "outputs": [
    {
     "name": "stdout",
     "output_type": "stream",
     "text": [
      "Iteration 0 : Cost 0.007001015993338809\n",
      "Iteration 1000 : Cost -0.0030489932374319125\n",
      "Iteration 2000 : Cost -0.0031326746390015715\n",
      "Iteration 3000 : Cost -0.0032015745097675316\n",
      "Iteration 4000 : Cost -0.003258642483787821\n",
      "Iteration 5000 : Cost -0.0033063233600908095\n",
      "Iteration 6000 : Cost -0.0033465067206703545\n",
      "Iteration 7000 : Cost -0.0033806023769306806\n",
      "Iteration 8000 : Cost -0.003409646433131248\n",
      "Iteration 9000 : Cost -0.0034343998736147633\n",
      "\n",
      "Updated Parameters :\n",
      "w = [-1.45526715 -0.124056    0.37377924 -2.06357203 -1.84880711 -0.01972687\n",
      "  0.04917552  6.67374821 -0.1681585  -0.41086507  0.16711091 -0.35705488\n",
      " -0.18038447] \n",
      "b = -0.27695019649749597\n"
     ]
    }
   ],
   "source": [
    "# initialize the weights\n",
    "w_tmp = np.zeros_like(x_train[0])\n",
    "b_tmp = 0\n",
    "\n",
    "alpha = 0.1\n",
    "epochs = 10000\n",
    "\n",
    "w_out, b_out, _ = gradient_descent(x_train, y_train, w_tmp, b_tmp, alpha, epochs)\n",
    "\n",
    "print(\"\\nUpdated Parameters :\\nw =\", w_out, \"\\nb =\", b_out)"
   ]
  },
  {
   "cell_type": "markdown",
   "id": "343fadba",
   "metadata": {},
   "source": [
    "#### Predict the probability"
   ]
  },
  {
   "cell_type": "code",
   "execution_count": 128,
   "id": "882dd948",
   "metadata": {},
   "outputs": [],
   "source": [
    "def predict(x, w, b):\n",
    "    predictions = []\n",
    "    m = x.shape[0]\n",
    "    \n",
    "    for i in range(m):\n",
    "        z = np.dot(x[i], w) + b\n",
    "        predictions.append(sigmoid(z))\n",
    "        \n",
    "    return np.array(predictions)"
   ]
  },
  {
   "cell_type": "markdown",
   "id": "3b5fad69",
   "metadata": {},
   "source": [
    "#### Predict for test dataset"
   ]
  },
  {
   "cell_type": "code",
   "execution_count": 133,
   "id": "0f8b1fe1",
   "metadata": {},
   "outputs": [],
   "source": [
    "y_predict = predict(x_test, w_out, b_out)\n",
    "\n",
    "# round off to nearest integer for binary classification\n",
    "y_predict = np.rint(y_predict).astype(int)"
   ]
  },
  {
   "cell_type": "markdown",
   "id": "63c5c48e",
   "metadata": {},
   "source": [
    "#### Find accuracy of predictions"
   ]
  },
  {
   "cell_type": "code",
   "execution_count": 130,
   "id": "43bdb07a",
   "metadata": {},
   "outputs": [],
   "source": [
    "def calculate_accuracy(y, y_hat):\n",
    "    m = len(y)\n",
    "    count = 0\n",
    "    \n",
    "    for i in range(m):\n",
    "        if (y[i] == y_hat[i]):\n",
    "            count += 1\n",
    "            \n",
    "    accuracy = count / m * 100\n",
    "    print(\"Accuracy =\", accuracy, \"%\")"
   ]
  },
  {
   "cell_type": "code",
   "execution_count": 134,
   "id": "6eaaba36",
   "metadata": {},
   "outputs": [
    {
     "name": "stdout",
     "output_type": "stream",
     "text": [
      "Accuracy = 69.7560975609756 %\n"
     ]
    }
   ],
   "source": [
    "calculate_accuracy(y_test, y_predict)"
   ]
  },
  {
   "cell_type": "markdown",
   "id": "8f3c8d43",
   "metadata": {},
   "source": [
    "## Implementing Logistic Regression using sklearn"
   ]
  },
  {
   "cell_type": "markdown",
   "id": "2ce4f636",
   "metadata": {},
   "source": [
    "#### Load necessary libraries"
   ]
  },
  {
   "cell_type": "code",
   "execution_count": 123,
   "id": "fce52354",
   "metadata": {},
   "outputs": [],
   "source": [
    "from sklearn.linear_model import LogisticRegression"
   ]
  },
  {
   "cell_type": "markdown",
   "id": "296581ce",
   "metadata": {},
   "source": [
    "#### Build the model"
   ]
  },
  {
   "cell_type": "code",
   "execution_count": 124,
   "id": "5c1d1c8d",
   "metadata": {},
   "outputs": [
    {
     "data": {
      "text/html": [
       "<style>#sk-container-id-2 {color: black;background-color: white;}#sk-container-id-2 pre{padding: 0;}#sk-container-id-2 div.sk-toggleable {background-color: white;}#sk-container-id-2 label.sk-toggleable__label {cursor: pointer;display: block;width: 100%;margin-bottom: 0;padding: 0.3em;box-sizing: border-box;text-align: center;}#sk-container-id-2 label.sk-toggleable__label-arrow:before {content: \"▸\";float: left;margin-right: 0.25em;color: #696969;}#sk-container-id-2 label.sk-toggleable__label-arrow:hover:before {color: black;}#sk-container-id-2 div.sk-estimator:hover label.sk-toggleable__label-arrow:before {color: black;}#sk-container-id-2 div.sk-toggleable__content {max-height: 0;max-width: 0;overflow: hidden;text-align: left;background-color: #f0f8ff;}#sk-container-id-2 div.sk-toggleable__content pre {margin: 0.2em;color: black;border-radius: 0.25em;background-color: #f0f8ff;}#sk-container-id-2 input.sk-toggleable__control:checked~div.sk-toggleable__content {max-height: 200px;max-width: 100%;overflow: auto;}#sk-container-id-2 input.sk-toggleable__control:checked~label.sk-toggleable__label-arrow:before {content: \"▾\";}#sk-container-id-2 div.sk-estimator input.sk-toggleable__control:checked~label.sk-toggleable__label {background-color: #d4ebff;}#sk-container-id-2 div.sk-label input.sk-toggleable__control:checked~label.sk-toggleable__label {background-color: #d4ebff;}#sk-container-id-2 input.sk-hidden--visually {border: 0;clip: rect(1px 1px 1px 1px);clip: rect(1px, 1px, 1px, 1px);height: 1px;margin: -1px;overflow: hidden;padding: 0;position: absolute;width: 1px;}#sk-container-id-2 div.sk-estimator {font-family: monospace;background-color: #f0f8ff;border: 1px dotted black;border-radius: 0.25em;box-sizing: border-box;margin-bottom: 0.5em;}#sk-container-id-2 div.sk-estimator:hover {background-color: #d4ebff;}#sk-container-id-2 div.sk-parallel-item::after {content: \"\";width: 100%;border-bottom: 1px solid gray;flex-grow: 1;}#sk-container-id-2 div.sk-label:hover label.sk-toggleable__label {background-color: #d4ebff;}#sk-container-id-2 div.sk-serial::before {content: \"\";position: absolute;border-left: 1px solid gray;box-sizing: border-box;top: 0;bottom: 0;left: 50%;z-index: 0;}#sk-container-id-2 div.sk-serial {display: flex;flex-direction: column;align-items: center;background-color: white;padding-right: 0.2em;padding-left: 0.2em;position: relative;}#sk-container-id-2 div.sk-item {position: relative;z-index: 1;}#sk-container-id-2 div.sk-parallel {display: flex;align-items: stretch;justify-content: center;background-color: white;position: relative;}#sk-container-id-2 div.sk-item::before, #sk-container-id-2 div.sk-parallel-item::before {content: \"\";position: absolute;border-left: 1px solid gray;box-sizing: border-box;top: 0;bottom: 0;left: 50%;z-index: -1;}#sk-container-id-2 div.sk-parallel-item {display: flex;flex-direction: column;z-index: 1;position: relative;background-color: white;}#sk-container-id-2 div.sk-parallel-item:first-child::after {align-self: flex-end;width: 50%;}#sk-container-id-2 div.sk-parallel-item:last-child::after {align-self: flex-start;width: 50%;}#sk-container-id-2 div.sk-parallel-item:only-child::after {width: 0;}#sk-container-id-2 div.sk-dashed-wrapped {border: 1px dashed gray;margin: 0 0.4em 0.5em 0.4em;box-sizing: border-box;padding-bottom: 0.4em;background-color: white;}#sk-container-id-2 div.sk-label label {font-family: monospace;font-weight: bold;display: inline-block;line-height: 1.2em;}#sk-container-id-2 div.sk-label-container {text-align: center;}#sk-container-id-2 div.sk-container {/* jupyter's `normalize.less` sets `[hidden] { display: none; }` but bootstrap.min.css set `[hidden] { display: none !important; }` so we also need the `!important` here to be able to override the default hidden behavior on the sphinx rendered scikit-learn.org. See: https://github.com/scikit-learn/scikit-learn/issues/21755 */display: inline-block !important;position: relative;}#sk-container-id-2 div.sk-text-repr-fallback {display: none;}</style><div id=\"sk-container-id-2\" class=\"sk-top-container\"><div class=\"sk-text-repr-fallback\"><pre>LogisticRegression()</pre><b>In a Jupyter environment, please rerun this cell to show the HTML representation or trust the notebook. <br />On GitHub, the HTML representation is unable to render, please try loading this page with nbviewer.org.</b></div><div class=\"sk-container\" hidden><div class=\"sk-item\"><div class=\"sk-estimator sk-toggleable\"><input class=\"sk-toggleable__control sk-hidden--visually\" id=\"sk-estimator-id-2\" type=\"checkbox\" checked><label for=\"sk-estimator-id-2\" class=\"sk-toggleable__label sk-toggleable__label-arrow\">LogisticRegression</label><div class=\"sk-toggleable__content\"><pre>LogisticRegression()</pre></div></div></div></div></div>"
      ],
      "text/plain": [
       "LogisticRegression()"
      ]
     },
     "execution_count": 124,
     "metadata": {},
     "output_type": "execute_result"
    }
   ],
   "source": [
    "classifier = LogisticRegression()\n",
    "\n",
    "classifier.fit(x_train, y_train)"
   ]
  },
  {
   "cell_type": "markdown",
   "id": "83070f3c",
   "metadata": {},
   "source": [
    "#### Predict the values of test dataset"
   ]
  },
  {
   "cell_type": "code",
   "execution_count": 125,
   "id": "f3b36780",
   "metadata": {},
   "outputs": [],
   "source": [
    "y_predictions = classifier.predict(x_test)"
   ]
  },
  {
   "cell_type": "markdown",
   "id": "53e591cb",
   "metadata": {},
   "source": [
    "#### Find the accuracy"
   ]
  },
  {
   "cell_type": "code",
   "execution_count": 135,
   "id": "3cff05b1",
   "metadata": {},
   "outputs": [
    {
     "name": "stdout",
     "output_type": "stream",
     "text": [
      "Accuracy = 69.26829268292683 %\n"
     ]
    }
   ],
   "source": [
    "calculate_accuracy(y_test, y_predictions)"
   ]
  }
 ],
 "metadata": {
  "kernelspec": {
   "display_name": "Python 3 (ipykernel)",
   "language": "python",
   "name": "python3"
  },
  "language_info": {
   "codemirror_mode": {
    "name": "ipython",
    "version": 3
   },
   "file_extension": ".py",
   "mimetype": "text/x-python",
   "name": "python",
   "nbconvert_exporter": "python",
   "pygments_lexer": "ipython3",
   "version": "3.11.3"
  }
 },
 "nbformat": 4,
 "nbformat_minor": 5
}

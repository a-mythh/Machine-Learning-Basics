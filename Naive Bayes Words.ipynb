{
 "cells": [
  {
   "cell_type": "code",
   "execution_count": 1,
   "id": "564f174c",
   "metadata": {},
   "outputs": [],
   "source": [
    "import pandas as pd\n",
    "import numpy as np\n",
    "from sklearn.model_selection import train_test_split\n",
    "from sklearn.feature_extraction.text import CountVectorizer\n",
    "from sklearn.naive_bayes import MultinomialNB"
   ]
  },
  {
   "cell_type": "code",
   "execution_count": null,
   "id": "0fcb823f",
   "metadata": {},
   "outputs": [],
   "source": [
    "data = pd.read_csv('spam.csv')\n",
    "\n",
    "data.head()"
   ]
  },
  {
   "cell_type": "code",
   "execution_count": null,
   "id": "fdd1afba",
   "metadata": {},
   "outputs": [],
   "source": [
    "data.groupby('Category').describe()"
   ]
  },
  {
   "cell_type": "code",
   "execution_count": null,
   "id": "153c9e2c",
   "metadata": {},
   "outputs": [],
   "source": [
    "data['spam'] = data['Category'].apply(lambda x: 1 if x == 'spam' else 0)"
   ]
  },
  {
   "cell_type": "code",
   "execution_count": null,
   "id": "17364258",
   "metadata": {},
   "outputs": [],
   "source": [
    "x_train, x_test, y_train, y_test = train_test_split(data.Message, data.spam, test_size = 0.2)"
   ]
  },
  {
   "cell_type": "code",
   "execution_count": null,
   "id": "c4c01352",
   "metadata": {},
   "outputs": [],
   "source": [
    "x_train"
   ]
  },
  {
   "cell_type": "code",
   "execution_count": null,
   "id": "2d71be2d",
   "metadata": {},
   "outputs": [],
   "source": [
    "cv = CountVectorizer()\n",
    "x_train_count = cv.fit_transform(x_train.values)"
   ]
  },
  {
   "cell_type": "code",
   "execution_count": null,
   "id": "944788bf",
   "metadata": {},
   "outputs": [],
   "source": [
    "x_train_count"
   ]
  },
  {
   "cell_type": "code",
   "execution_count": null,
   "id": "b9450483",
   "metadata": {},
   "outputs": [],
   "source": [
    "# train the model\n",
    "model = MultinomialNB()\n",
    "model.fit(x_train_count, y_train)"
   ]
  },
  {
   "cell_type": "code",
   "execution_count": null,
   "id": "6a9f89d5",
   "metadata": {},
   "outputs": [],
   "source": [
    "email_ham = [\"hey wanna meet up for the game\"]\n",
    "email_ham_count = cv.transform(email_ham)\n",
    "model.predict(email_ham_count)\n"
   ]
  },
  {
   "cell_type": "code",
   "execution_count": null,
   "id": "86016478",
   "metadata": {},
   "outputs": [],
   "source": [
    "email_spam = [\"click reward money\"]\n",
    "email_spam_count = cv.transform(email_spam_count)\n",
    "model.predict(email_spam_count)\n"
   ]
  },
  {
   "cell_type": "code",
   "execution_count": null,
   "id": "b6139d2a",
   "metadata": {},
   "outputs": [],
   "source": [
    "x_test_count = cv.transform(x_test)\n",
    "model.score(x_test_count, y_test)"
   ]
  }
 ],
 "metadata": {
  "kernelspec": {
   "display_name": "Python 3 (ipykernel)",
   "language": "python",
   "name": "python3"
  },
  "language_info": {
   "codemirror_mode": {
    "name": "ipython",
    "version": 3
   },
   "file_extension": ".py",
   "mimetype": "text/x-python",
   "name": "python",
   "nbconvert_exporter": "python",
   "pygments_lexer": "ipython3",
   "version": "3.11.3"
  }
 },
 "nbformat": 4,
 "nbformat_minor": 5
}

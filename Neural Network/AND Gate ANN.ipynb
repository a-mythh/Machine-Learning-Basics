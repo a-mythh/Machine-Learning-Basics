{
 "cells": [
  {
   "cell_type": "code",
   "execution_count": 1,
   "id": "a9580276",
   "metadata": {},
   "outputs": [
    {
     "name": "stdout",
     "output_type": "stream",
     "text": [
      "Perceptron Training : \n",
      "######################\n",
      "-----------------------\n",
      "Input : 0, 0\n",
      "Weights : 0.5, 0.5\n",
      "summation : 0.0 threshold : 2\n",
      "Actual Output : 0 Predicted output : 0\n",
      "______\n",
      "Updating Weights\n",
      "Updated weights : 0.5, 0.5\n",
      "Input : 0, 1\n",
      "Weights : 0.5, 0.5\n",
      "summation : 0.5 threshold : 2\n",
      "Actual Output : 0 Predicted output : 0\n",
      "______\n",
      "Updating Weights\n",
      "Updated weights : 0.5, 0.5\n",
      "Input : 1, 0\n",
      "Weights : 0.5, 0.5\n",
      "summation : 0.5 threshold : 2\n",
      "Actual Output : 0 Predicted output : 0\n",
      "______\n",
      "Updating Weights\n",
      "Updated weights : 0.5, 0.5\n",
      "Input : 1, 1\n",
      "Weights : 0.5, 0.5\n",
      "summation : 1.0 threshold : 2\n",
      "Actual Output : 1 Predicted output : 0\n",
      "______\n",
      "Updating Weights\n",
      "Updated weights : 1.0, 1.0\n",
      "AND Gate Output for [0, 1] : 0\n"
     ]
    }
   ],
   "source": [
    "def activation(out, threshold):\n",
    "    if out >= threshold:\n",
    "        return 1\n",
    "    else:\n",
    "        return 0\n",
    "    \n",
    "def perceptron(and_input):\n",
    "    a = [0, 0, 1, 1]\n",
    "    b = [0, 1, 0, 1]\n",
    "    y = [0, 0, 0, 1]\n",
    "    w = [0.5, 0.5]\n",
    "    threshold = 2\n",
    "    learning_rate = 0.5\n",
    "    i=0\n",
    "    print(\"Perceptron Training : \")\n",
    "    print (\"######################\")\n",
    "    print(\"-----------------------\")\n",
    "    while i < 4:\n",
    "        summation = a[i] * w[0] + b[i] * w[1]\n",
    "        \n",
    "        o = activation(summation,threshold)\n",
    "        \n",
    "        print( \"Input : \" + str(a[i]) + \", \" + str(b[i]))\n",
    "        print( \"Weights : \" + str(w[0]) + \", \" + str(w[1]))\n",
    "        print( \"summation : \" + str(summation) + \" threshold : \" + str(threshold))\n",
    "        print( \"Actual Output : \" + str(y[i]) + \" Predicted output : \" + str(o))\n",
    "        \n",
    "        if (o != y):\n",
    "            print(\"______\\nUpdating Weights\")\n",
    "            w[0] = w[0] + learning_rate * (y[i] - o) * a[i]\n",
    "            w[1] = w[1] + learning_rate * (y[i] - o) * b[i]\n",
    "            print(\"Updated weights : \" + str(w[0]) + \", \" + str(w[1]))\n",
    "        i = i + 1\n",
    "        \n",
    "    # Prediction part\n",
    "    summation = and_input[0] * w[0] + and_input[1] * w[1]\n",
    "    return activation(summation, threshold)\n",
    "\n",
    "\n",
    "and_input = [0, 1]\n",
    "print(\"AND Gate Output for \" + str(and_input) + \" : \" + str(perceptron(and_input)))"
   ]
  },
  {
   "cell_type": "code",
   "execution_count": null,
   "id": "81fbc291",
   "metadata": {},
   "outputs": [],
   "source": []
  }
 ],
 "metadata": {
  "kernelspec": {
   "display_name": "Python 3 (ipykernel)",
   "language": "python",
   "name": "python3"
  },
  "language_info": {
   "codemirror_mode": {
    "name": "ipython",
    "version": 3
   },
   "file_extension": ".py",
   "mimetype": "text/x-python",
   "name": "python",
   "nbconvert_exporter": "python",
   "pygments_lexer": "ipython3",
   "version": "3.11.3"
  }
 },
 "nbformat": 4,
 "nbformat_minor": 5
}

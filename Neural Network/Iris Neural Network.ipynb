{
 "cells": [
  {
   "cell_type": "markdown",
   "id": "38544f66",
   "metadata": {},
   "source": [
    "# Iris dataset classification with Neural Network"
   ]
  },
  {
   "cell_type": "markdown",
   "id": "3c500fc5",
   "metadata": {},
   "source": [
    "#### Load the necessary libraries"
   ]
  },
  {
   "cell_type": "code",
   "execution_count": 20,
   "id": "c9dad03d",
   "metadata": {},
   "outputs": [],
   "source": [
    "import numpy as np\n",
    "import pandas as pd\n",
    "from sklearn.preprocessing import OneHotEncoder\n",
    "from sklearn.model_selection import train_test_split"
   ]
  },
  {
   "cell_type": "markdown",
   "id": "58a28bde",
   "metadata": {},
   "source": [
    "#### Load the dataset"
   ]
  },
  {
   "cell_type": "code",
   "execution_count": 2,
   "id": "43d25c1f",
   "metadata": {},
   "outputs": [
    {
     "data": {
      "text/html": [
       "<div>\n",
       "<style scoped>\n",
       "    .dataframe tbody tr th:only-of-type {\n",
       "        vertical-align: middle;\n",
       "    }\n",
       "\n",
       "    .dataframe tbody tr th {\n",
       "        vertical-align: top;\n",
       "    }\n",
       "\n",
       "    .dataframe thead th {\n",
       "        text-align: right;\n",
       "    }\n",
       "</style>\n",
       "<table border=\"1\" class=\"dataframe\">\n",
       "  <thead>\n",
       "    <tr style=\"text-align: right;\">\n",
       "      <th></th>\n",
       "      <th>Id</th>\n",
       "      <th>SepalLengthCm</th>\n",
       "      <th>SepalWidthCm</th>\n",
       "      <th>PetalLengthCm</th>\n",
       "      <th>PetalWidthCm</th>\n",
       "      <th>Species</th>\n",
       "    </tr>\n",
       "  </thead>\n",
       "  <tbody>\n",
       "    <tr>\n",
       "      <th>0</th>\n",
       "      <td>1</td>\n",
       "      <td>5.1</td>\n",
       "      <td>3.5</td>\n",
       "      <td>1.4</td>\n",
       "      <td>0.2</td>\n",
       "      <td>Iris-setosa</td>\n",
       "    </tr>\n",
       "    <tr>\n",
       "      <th>1</th>\n",
       "      <td>2</td>\n",
       "      <td>4.9</td>\n",
       "      <td>3.0</td>\n",
       "      <td>1.4</td>\n",
       "      <td>0.2</td>\n",
       "      <td>Iris-setosa</td>\n",
       "    </tr>\n",
       "    <tr>\n",
       "      <th>2</th>\n",
       "      <td>3</td>\n",
       "      <td>4.7</td>\n",
       "      <td>3.2</td>\n",
       "      <td>1.3</td>\n",
       "      <td>0.2</td>\n",
       "      <td>Iris-setosa</td>\n",
       "    </tr>\n",
       "    <tr>\n",
       "      <th>3</th>\n",
       "      <td>4</td>\n",
       "      <td>4.6</td>\n",
       "      <td>3.1</td>\n",
       "      <td>1.5</td>\n",
       "      <td>0.2</td>\n",
       "      <td>Iris-setosa</td>\n",
       "    </tr>\n",
       "    <tr>\n",
       "      <th>4</th>\n",
       "      <td>5</td>\n",
       "      <td>5.0</td>\n",
       "      <td>3.6</td>\n",
       "      <td>1.4</td>\n",
       "      <td>0.2</td>\n",
       "      <td>Iris-setosa</td>\n",
       "    </tr>\n",
       "  </tbody>\n",
       "</table>\n",
       "</div>"
      ],
      "text/plain": [
       "   Id  SepalLengthCm  SepalWidthCm  PetalLengthCm  PetalWidthCm      Species\n",
       "0   1            5.1           3.5            1.4           0.2  Iris-setosa\n",
       "1   2            4.9           3.0            1.4           0.2  Iris-setosa\n",
       "2   3            4.7           3.2            1.3           0.2  Iris-setosa\n",
       "3   4            4.6           3.1            1.5           0.2  Iris-setosa\n",
       "4   5            5.0           3.6            1.4           0.2  Iris-setosa"
      ]
     },
     "execution_count": 2,
     "metadata": {},
     "output_type": "execute_result"
    }
   ],
   "source": [
    "data = pd.read_csv('Iris.csv')\n",
    "\n",
    "data.head()"
   ]
  },
  {
   "cell_type": "markdown",
   "id": "1990f6f9",
   "metadata": {},
   "source": [
    "### Separate the features and target"
   ]
  },
  {
   "cell_type": "code",
   "execution_count": 3,
   "id": "d5b8eaf8",
   "metadata": {},
   "outputs": [],
   "source": [
    "# shuffle the dataset\n",
    "data = data.sample(frac = 1)\n",
    "\n",
    "x = data.drop(['Id', 'Species'], axis = 1)\n",
    "y = data.Species"
   ]
  },
  {
   "cell_type": "markdown",
   "id": "d5664a5b",
   "metadata": {},
   "source": [
    "#### Encode the target"
   ]
  },
  {
   "cell_type": "code",
   "execution_count": 4,
   "id": "6aedd082",
   "metadata": {},
   "outputs": [
    {
     "name": "stderr",
     "output_type": "stream",
     "text": [
      "C:\\Users\\dasam\\AppData\\Local\\Programs\\Python\\Python311\\Lib\\site-packages\\sklearn\\preprocessing\\_encoders.py:868: FutureWarning: `sparse` was renamed to `sparse_output` in version 1.2 and will be removed in 1.4. `sparse_output` is ignored unless you leave `sparse` to its default value.\n",
      "  warnings.warn(\n"
     ]
    },
    {
     "data": {
      "text/plain": [
       "array([[0., 0., 1.],\n",
       "       [1., 0., 0.],\n",
       "       [0., 1., 0.],\n",
       "       [1., 0., 0.],\n",
       "       [1., 0., 0.]])"
      ]
     },
     "execution_count": 4,
     "metadata": {},
     "output_type": "execute_result"
    }
   ],
   "source": [
    "encoder = OneHotEncoder(sparse = False)\n",
    "\n",
    "y = encoder.fit_transform(np.array(y).reshape(-1, 1))\n",
    "\n",
    "# print first five to view\n",
    "y[:5]"
   ]
  },
  {
   "cell_type": "markdown",
   "id": "e89fb74c",
   "metadata": {},
   "source": [
    "### Split data into training and testing"
   ]
  },
  {
   "cell_type": "code",
   "execution_count": 5,
   "id": "36a53360",
   "metadata": {},
   "outputs": [
    {
     "data": {
      "text/html": [
       "<div>\n",
       "<style scoped>\n",
       "    .dataframe tbody tr th:only-of-type {\n",
       "        vertical-align: middle;\n",
       "    }\n",
       "\n",
       "    .dataframe tbody tr th {\n",
       "        vertical-align: top;\n",
       "    }\n",
       "\n",
       "    .dataframe thead th {\n",
       "        text-align: right;\n",
       "    }\n",
       "</style>\n",
       "<table border=\"1\" class=\"dataframe\">\n",
       "  <thead>\n",
       "    <tr style=\"text-align: right;\">\n",
       "      <th></th>\n",
       "      <th>SepalLengthCm</th>\n",
       "      <th>SepalWidthCm</th>\n",
       "      <th>PetalLengthCm</th>\n",
       "      <th>PetalWidthCm</th>\n",
       "    </tr>\n",
       "  </thead>\n",
       "  <tbody>\n",
       "    <tr>\n",
       "      <th>143</th>\n",
       "      <td>6.8</td>\n",
       "      <td>3.2</td>\n",
       "      <td>5.9</td>\n",
       "      <td>2.3</td>\n",
       "    </tr>\n",
       "    <tr>\n",
       "      <th>27</th>\n",
       "      <td>5.2</td>\n",
       "      <td>3.5</td>\n",
       "      <td>1.5</td>\n",
       "      <td>0.2</td>\n",
       "    </tr>\n",
       "    <tr>\n",
       "      <th>130</th>\n",
       "      <td>7.4</td>\n",
       "      <td>2.8</td>\n",
       "      <td>6.1</td>\n",
       "      <td>1.9</td>\n",
       "    </tr>\n",
       "    <tr>\n",
       "      <th>141</th>\n",
       "      <td>6.9</td>\n",
       "      <td>3.1</td>\n",
       "      <td>5.1</td>\n",
       "      <td>2.3</td>\n",
       "    </tr>\n",
       "    <tr>\n",
       "      <th>4</th>\n",
       "      <td>5.0</td>\n",
       "      <td>3.6</td>\n",
       "      <td>1.4</td>\n",
       "      <td>0.2</td>\n",
       "    </tr>\n",
       "  </tbody>\n",
       "</table>\n",
       "</div>"
      ],
      "text/plain": [
       "     SepalLengthCm  SepalWidthCm  PetalLengthCm  PetalWidthCm\n",
       "143            6.8           3.2            5.9           2.3\n",
       "27             5.2           3.5            1.5           0.2\n",
       "130            7.4           2.8            6.1           1.9\n",
       "141            6.9           3.1            5.1           2.3\n",
       "4              5.0           3.6            1.4           0.2"
      ]
     },
     "execution_count": 5,
     "metadata": {},
     "output_type": "execute_result"
    }
   ],
   "source": [
    "# Testing dataset\n",
    "x_train, x_test, y_train, y_test = train_test_split(x, y, test_size = 0.2)\n",
    "\n",
    "# Validation dataset\n",
    "x_train, x_val, y_train, y_val = train_test_split(x_train, y_train, test_size = 0.15)\n",
    "\n",
    "x_test.head()"
   ]
  },
  {
   "cell_type": "markdown",
   "id": "a0edb3fb",
   "metadata": {},
   "source": [
    "### Initialize weights"
   ]
  },
  {
   "cell_type": "code",
   "execution_count": 6,
   "id": "cfa1550e",
   "metadata": {},
   "outputs": [],
   "source": [
    "def init_weights (nodes):\n",
    "    layers, weights = len(nodes), []\n",
    "    \n",
    "    for i in range(1, layers):\n",
    "        w = [\n",
    "                [np.random.uniform(-1, 1) for k in range(nodes[i - 1] + 1)]\n",
    "                for j in range(nodes[i])\n",
    "            ]\n",
    "        \n",
    "        weights.append(np.matrix(w))\n",
    "    \n",
    "    return weights"
   ]
  },
  {
   "cell_type": "markdown",
   "id": "5b8d811c",
   "metadata": {},
   "source": [
    "### Define Activation functions"
   ]
  },
  {
   "cell_type": "code",
   "execution_count": 7,
   "id": "bafecaa3",
   "metadata": {},
   "outputs": [],
   "source": [
    "def sigmoid(x):\n",
    "    output = 1 / (1 + np.exp(-x))\n",
    "    return output\n",
    "\n",
    "def sigmoid_derivative(x):\n",
    "    output = np.multiply(x, 1 - x)\n",
    "    return output"
   ]
  },
  {
   "cell_type": "markdown",
   "id": "29b51450",
   "metadata": {},
   "source": [
    "### Define function for forward propagation"
   ]
  },
  {
   "cell_type": "code",
   "execution_count": 8,
   "id": "664edd7e",
   "metadata": {},
   "outputs": [],
   "source": [
    "def Forward_Propagation (x, weights, layers):\n",
    "    activations, layer_input = [x], x\n",
    "    \n",
    "    for i in range (layers):\n",
    "        activation_output = sigmoid(np.dot(layer_input, weights[i].T))\n",
    "        activations.append(activation_output)\n",
    "        \n",
    "        layer_input = np.append(1, activation_output)\n",
    "        \n",
    "    return activations"
   ]
  },
  {
   "cell_type": "markdown",
   "id": "4ee3df48",
   "metadata": {},
   "source": [
    "### Define function for backward propagation"
   ]
  },
  {
   "cell_type": "code",
   "execution_count": 9,
   "id": "829085d1",
   "metadata": {},
   "outputs": [],
   "source": [
    "def Backward_Propagation (y, activations, weights, layers):\n",
    "    output_final = activations[-1]\n",
    "    \n",
    "    error = np.matrix(y - output_final)\n",
    "    \n",
    "    for i in range(layers, 0, -1):\n",
    "        current_activation = activations[i]\n",
    "        \n",
    "        if (i > 1):\n",
    "            \n",
    "            # augment previous activation\n",
    "            prev_activation = np.append(1, activations[i - 1])\n",
    "    \n",
    "        else:\n",
    "            \n",
    "            # first hidden layer, prev_activation is input (without bias)\n",
    "            prev_activation = activations[0]\n",
    "            \n",
    "        delta = np.multiply(error, sigmoid_derivative(current_activation))\n",
    "        weights[i - 1] += alpha * np.multiply(delta.T, prev_activation)\n",
    "        \n",
    "        # remove bias from weights\n",
    "        w = np.delete(weights[i - 1], [0], axis = 1)\n",
    "        \n",
    "        # calculate error from current layer\n",
    "        error = np.dot(delta, w)\n",
    "        \n",
    "    return weights"
   ]
  },
  {
   "cell_type": "markdown",
   "id": "2f23a571",
   "metadata": {},
   "source": [
    "### Train the model"
   ]
  },
  {
   "cell_type": "code",
   "execution_count": 10,
   "id": "443ead79",
   "metadata": {},
   "outputs": [],
   "source": [
    "def train(x_input, y_input, alpha, weights):\n",
    "    layers = len(weights)\n",
    "    \n",
    "    for i in range(len(x_input)):\n",
    "        x, y = x_input.iloc[i], y_input[i]\n",
    "        x = np.matrix(np.append(1, x))\n",
    "        \n",
    "        activations = Forward_Propagation(x, weights, layers)\n",
    "        weights = Backward_Propagation(y, activations, weights, layers)\n",
    "        \n",
    "    return weights"
   ]
  },
  {
   "cell_type": "markdown",
   "id": "6f25a4fb",
   "metadata": {},
   "source": [
    "### Define function for prediction"
   ]
  },
  {
   "cell_type": "code",
   "execution_count": 11,
   "id": "6923a6fb",
   "metadata": {},
   "outputs": [],
   "source": [
    "def findMaxActivation(output):\n",
    "    m, index = output[0], 0\n",
    "    \n",
    "    for i in range(1, len(output)):\n",
    "        if(output[i] > m):\n",
    "            m, index = output[i], i\n",
    "            \n",
    "    return index\n",
    "\n",
    "def predict(item, weights):\n",
    "    layers = len(weights)\n",
    "    item = np.append(1, item)\n",
    "    \n",
    "    # forward propagation\n",
    "    activations = Forward_Propagation(item, weights, layers)\n",
    "    \n",
    "    output_final = activations[-1].A1\n",
    "    index = findMaxActivation(output_final)\n",
    "    \n",
    "    # intialize prediction vector to zeros\n",
    "    y = [0 for i in range(len(output_final))]\n",
    "    y[index] = 1\n",
    "    \n",
    "    return y"
   ]
  },
  {
   "cell_type": "markdown",
   "id": "4024ed8c",
   "metadata": {},
   "source": [
    "#### Define function to find accuracy"
   ]
  },
  {
   "cell_type": "code",
   "execution_count": 12,
   "id": "0e0c0aa3",
   "metadata": {},
   "outputs": [],
   "source": [
    "def accuracy(x_input, y_input, weights):\n",
    "    correct = 0\n",
    "    \n",
    "    for i in range(len(x_input)):\n",
    "        x, y = x_input.iloc[i], list(y_input[i])\n",
    "        prediction = predict(x, weights)\n",
    "        \n",
    "        if (y == prediction):\n",
    "            correct += 1\n",
    "            \n",
    "    return np.round(correct / len(x_input), 2)"
   ]
  },
  {
   "cell_type": "markdown",
   "id": "fff2aa60",
   "metadata": {},
   "source": [
    "### Compile the Neural Network"
   ]
  },
  {
   "cell_type": "code",
   "execution_count": 13,
   "id": "09e48fb5",
   "metadata": {},
   "outputs": [],
   "source": [
    "def Neural_Network(x_train, y_train, x_val = None, y_val = None, epochs = 10, nodes = [], alpha = 0.2):\n",
    "    hidden_layers = len(nodes) - 1\n",
    "    weights = init_weights(nodes)\n",
    "    \n",
    "    for epoch in range(1, epochs + 1):\n",
    "        weights = train(x_train, y_train, alpha, weights)\n",
    "        \n",
    "        if (epoch % 20 == 0 or epoch == 1):\n",
    "            print('Epoch {}'.format(epoch))\n",
    "            print('Training Accuracy = {}'.format(accuracy(x_train, y_train, weights)))\n",
    "            \n",
    "            # validation accuracy\n",
    "            x1_val = np.array(x_val)\n",
    "            \n",
    "            if x1_val.any():\n",
    "                print('Validation Accuracy = {}'.format(accuracy(x_val, y_val, weights)))\n",
    "                \n",
    "            print()\n",
    "            print('========================================================')\n",
    "            print()\n",
    "            \n",
    "    return weights"
   ]
  },
  {
   "cell_type": "markdown",
   "id": "f819976d",
   "metadata": {},
   "source": [
    "#### Perform the training"
   ]
  },
  {
   "cell_type": "code",
   "execution_count": 14,
   "id": "47417d19",
   "metadata": {},
   "outputs": [
    {
     "name": "stdout",
     "output_type": "stream",
     "text": [
      "Epoch 1\n",
      "Training Accuracy = 0.37\n",
      "Validation Accuracy = 0.28\n",
      "\n",
      "========================================================\n",
      "\n",
      "Epoch 20\n",
      "Training Accuracy = 0.79\n",
      "Validation Accuracy = 0.61\n",
      "\n",
      "========================================================\n",
      "\n",
      "Epoch 40\n",
      "Training Accuracy = 0.92\n",
      "Validation Accuracy = 0.78\n",
      "\n",
      "========================================================\n",
      "\n",
      "Epoch 60\n",
      "Training Accuracy = 0.98\n",
      "Validation Accuracy = 0.94\n",
      "\n",
      "========================================================\n",
      "\n",
      "Epoch 80\n",
      "Training Accuracy = 0.98\n",
      "Validation Accuracy = 1.0\n",
      "\n",
      "========================================================\n",
      "\n",
      "Epoch 100\n",
      "Training Accuracy = 0.95\n",
      "Validation Accuracy = 0.89\n",
      "\n",
      "========================================================\n",
      "\n"
     ]
    }
   ],
   "source": [
    "num_features = len(x.iloc[0])\n",
    "num_classes = len(y[0])\n",
    "\n",
    "# number of nodes in layers\n",
    "layers = [num_features, 5, 10, num_classes]\n",
    "\n",
    "alpha, epochs = 0.2, 100\n",
    "\n",
    "weights = Neural_Network(x_train, y_train, x_val, y_val, epochs = epochs, nodes = layers, alpha = alpha)"
   ]
  },
  {
   "cell_type": "markdown",
   "id": "0774deee",
   "metadata": {},
   "source": [
    "### Accuracy of Test dataset"
   ]
  },
  {
   "cell_type": "code",
   "execution_count": 18,
   "id": "bb7c7289",
   "metadata": {},
   "outputs": [
    {
     "data": {
      "text/plain": [
       "1.0"
      ]
     },
     "execution_count": 18,
     "metadata": {},
     "output_type": "execute_result"
    }
   ],
   "source": [
    "accuracy(x_test, y_test, weights)"
   ]
  },
  {
   "cell_type": "markdown",
   "id": "d94290a2",
   "metadata": {},
   "source": [
    " "
   ]
  },
  {
   "cell_type": "markdown",
   "id": "8d3cdf2f",
   "metadata": {},
   "source": [
    " "
   ]
  },
  {
   "cell_type": "markdown",
   "id": "7dc9b7e0",
   "metadata": {},
   "source": [
    "## Sklearn Implementation"
   ]
  },
  {
   "cell_type": "markdown",
   "id": "18ef6306",
   "metadata": {},
   "source": [
    "#### Load the libraries"
   ]
  },
  {
   "cell_type": "code",
   "execution_count": 21,
   "id": "ae7f28c8",
   "metadata": {},
   "outputs": [],
   "source": [
    "from sklearn.neural_network import MLPClassifier"
   ]
  },
  {
   "cell_type": "markdown",
   "id": "fa0d8527",
   "metadata": {},
   "source": [
    "#### Create instance of the classifier"
   ]
  },
  {
   "cell_type": "code",
   "execution_count": 26,
   "id": "0fc79f81",
   "metadata": {},
   "outputs": [],
   "source": [
    "classifier = MLPClassifier(random_state = 1, max_iter = 1000)"
   ]
  },
  {
   "cell_type": "markdown",
   "id": "ec478a49",
   "metadata": {},
   "source": [
    "#### Train the model"
   ]
  },
  {
   "cell_type": "code",
   "execution_count": 27,
   "id": "ea477c5b",
   "metadata": {},
   "outputs": [
    {
     "data": {
      "text/html": [
       "<style>#sk-container-id-3 {color: black;background-color: white;}#sk-container-id-3 pre{padding: 0;}#sk-container-id-3 div.sk-toggleable {background-color: white;}#sk-container-id-3 label.sk-toggleable__label {cursor: pointer;display: block;width: 100%;margin-bottom: 0;padding: 0.3em;box-sizing: border-box;text-align: center;}#sk-container-id-3 label.sk-toggleable__label-arrow:before {content: \"▸\";float: left;margin-right: 0.25em;color: #696969;}#sk-container-id-3 label.sk-toggleable__label-arrow:hover:before {color: black;}#sk-container-id-3 div.sk-estimator:hover label.sk-toggleable__label-arrow:before {color: black;}#sk-container-id-3 div.sk-toggleable__content {max-height: 0;max-width: 0;overflow: hidden;text-align: left;background-color: #f0f8ff;}#sk-container-id-3 div.sk-toggleable__content pre {margin: 0.2em;color: black;border-radius: 0.25em;background-color: #f0f8ff;}#sk-container-id-3 input.sk-toggleable__control:checked~div.sk-toggleable__content {max-height: 200px;max-width: 100%;overflow: auto;}#sk-container-id-3 input.sk-toggleable__control:checked~label.sk-toggleable__label-arrow:before {content: \"▾\";}#sk-container-id-3 div.sk-estimator input.sk-toggleable__control:checked~label.sk-toggleable__label {background-color: #d4ebff;}#sk-container-id-3 div.sk-label input.sk-toggleable__control:checked~label.sk-toggleable__label {background-color: #d4ebff;}#sk-container-id-3 input.sk-hidden--visually {border: 0;clip: rect(1px 1px 1px 1px);clip: rect(1px, 1px, 1px, 1px);height: 1px;margin: -1px;overflow: hidden;padding: 0;position: absolute;width: 1px;}#sk-container-id-3 div.sk-estimator {font-family: monospace;background-color: #f0f8ff;border: 1px dotted black;border-radius: 0.25em;box-sizing: border-box;margin-bottom: 0.5em;}#sk-container-id-3 div.sk-estimator:hover {background-color: #d4ebff;}#sk-container-id-3 div.sk-parallel-item::after {content: \"\";width: 100%;border-bottom: 1px solid gray;flex-grow: 1;}#sk-container-id-3 div.sk-label:hover label.sk-toggleable__label {background-color: #d4ebff;}#sk-container-id-3 div.sk-serial::before {content: \"\";position: absolute;border-left: 1px solid gray;box-sizing: border-box;top: 0;bottom: 0;left: 50%;z-index: 0;}#sk-container-id-3 div.sk-serial {display: flex;flex-direction: column;align-items: center;background-color: white;padding-right: 0.2em;padding-left: 0.2em;position: relative;}#sk-container-id-3 div.sk-item {position: relative;z-index: 1;}#sk-container-id-3 div.sk-parallel {display: flex;align-items: stretch;justify-content: center;background-color: white;position: relative;}#sk-container-id-3 div.sk-item::before, #sk-container-id-3 div.sk-parallel-item::before {content: \"\";position: absolute;border-left: 1px solid gray;box-sizing: border-box;top: 0;bottom: 0;left: 50%;z-index: -1;}#sk-container-id-3 div.sk-parallel-item {display: flex;flex-direction: column;z-index: 1;position: relative;background-color: white;}#sk-container-id-3 div.sk-parallel-item:first-child::after {align-self: flex-end;width: 50%;}#sk-container-id-3 div.sk-parallel-item:last-child::after {align-self: flex-start;width: 50%;}#sk-container-id-3 div.sk-parallel-item:only-child::after {width: 0;}#sk-container-id-3 div.sk-dashed-wrapped {border: 1px dashed gray;margin: 0 0.4em 0.5em 0.4em;box-sizing: border-box;padding-bottom: 0.4em;background-color: white;}#sk-container-id-3 div.sk-label label {font-family: monospace;font-weight: bold;display: inline-block;line-height: 1.2em;}#sk-container-id-3 div.sk-label-container {text-align: center;}#sk-container-id-3 div.sk-container {/* jupyter's `normalize.less` sets `[hidden] { display: none; }` but bootstrap.min.css set `[hidden] { display: none !important; }` so we also need the `!important` here to be able to override the default hidden behavior on the sphinx rendered scikit-learn.org. See: https://github.com/scikit-learn/scikit-learn/issues/21755 */display: inline-block !important;position: relative;}#sk-container-id-3 div.sk-text-repr-fallback {display: none;}</style><div id=\"sk-container-id-3\" class=\"sk-top-container\"><div class=\"sk-text-repr-fallback\"><pre>MLPClassifier(max_iter=1000, random_state=1)</pre><b>In a Jupyter environment, please rerun this cell to show the HTML representation or trust the notebook. <br />On GitHub, the HTML representation is unable to render, please try loading this page with nbviewer.org.</b></div><div class=\"sk-container\" hidden><div class=\"sk-item\"><div class=\"sk-estimator sk-toggleable\"><input class=\"sk-toggleable__control sk-hidden--visually\" id=\"sk-estimator-id-3\" type=\"checkbox\" checked><label for=\"sk-estimator-id-3\" class=\"sk-toggleable__label sk-toggleable__label-arrow\">MLPClassifier</label><div class=\"sk-toggleable__content\"><pre>MLPClassifier(max_iter=1000, random_state=1)</pre></div></div></div></div></div>"
      ],
      "text/plain": [
       "MLPClassifier(max_iter=1000, random_state=1)"
      ]
     },
     "execution_count": 27,
     "metadata": {},
     "output_type": "execute_result"
    }
   ],
   "source": [
    "classifier.fit(x_train, y_train)"
   ]
  },
  {
   "cell_type": "markdown",
   "id": "253d73e8",
   "metadata": {},
   "source": [
    "#### Make predictions"
   ]
  },
  {
   "cell_type": "code",
   "execution_count": 28,
   "id": "b5c7230e",
   "metadata": {},
   "outputs": [],
   "source": [
    "predictions = classifier.predict(x_test)"
   ]
  },
  {
   "cell_type": "markdown",
   "id": "659feb5f",
   "metadata": {},
   "source": [
    "#### Find the accuracy"
   ]
  },
  {
   "cell_type": "code",
   "execution_count": 30,
   "id": "2255bd9a",
   "metadata": {},
   "outputs": [
    {
     "data": {
      "text/plain": [
       "1.0"
      ]
     },
     "execution_count": 30,
     "metadata": {},
     "output_type": "execute_result"
    }
   ],
   "source": [
    "classifier.score(x_test, y_test)"
   ]
  }
 ],
 "metadata": {
  "kernelspec": {
   "display_name": "Python 3 (ipykernel)",
   "language": "python",
   "name": "python3"
  },
  "language_info": {
   "codemirror_mode": {
    "name": "ipython",
    "version": 3
   },
   "file_extension": ".py",
   "mimetype": "text/x-python",
   "name": "python",
   "nbconvert_exporter": "python",
   "pygments_lexer": "ipython3",
   "version": "3.11.3"
  }
 },
 "nbformat": 4,
 "nbformat_minor": 5
}

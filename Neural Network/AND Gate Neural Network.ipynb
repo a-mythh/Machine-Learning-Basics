{
 "cells": [
  {
   "cell_type": "markdown",
   "id": "665fd929",
   "metadata": {},
   "source": [
    "AND Gate\n",
    "\n",
    "a b y <br>\n",
    "0 0 0 <br>\n",
    "0 1 0 <br>\n",
    "1 0 0 <br>\n",
    "1 1 1 <br>"
   ]
  },
  {
   "cell_type": "code",
   "execution_count": 17,
   "id": "3069440b",
   "metadata": {},
   "outputs": [],
   "source": [
    "a = [0, 0, 1, 1]\n",
    "b = [0, 1, 0, 1]\n",
    "y = [0, 0, 0, 1]\n",
    "\n",
    "# given input weights\n",
    "w = [0.5, 0.5]"
   ]
  },
  {
   "cell_type": "markdown",
   "id": "7c74c0d3",
   "metadata": {},
   "source": [
    "### Define the activation function"
   ]
  },
  {
   "cell_type": "code",
   "execution_count": 6,
   "id": "2e23c7b7",
   "metadata": {},
   "outputs": [],
   "source": [
    "def activation (output, threshold):\n",
    "    if (output >= threshold):\n",
    "        return 1\n",
    "    else:\n",
    "        return 0"
   ]
  },
  {
   "cell_type": "markdown",
   "id": "cda6d183",
   "metadata": {},
   "source": [
    "### Perceptron function"
   ]
  },
  {
   "cell_type": "code",
   "execution_count": 24,
   "id": "45bef3d3",
   "metadata": {},
   "outputs": [],
   "source": [
    "def perceptron (input, threshold = 1, alpha = 0.2, epochs = 10):\n",
    "    # unpacking the input parameters\n",
    "    a, b, y, w = input[0], input[1], input[2], input[3]\n",
    "    \n",
    "    for epoch in range(epochs):\n",
    "        for i in range(4):\n",
    "            dot_prod = a[i] * w[0] + b[i] * w[1]\n",
    "\n",
    "            output = activation(dot_prod, threshold)\n",
    "\n",
    "            # update weights\n",
    "            w[0] = w[0] + alpha * (y[i] - output) * a[i]\n",
    "            w[1] = w[1] + alpha * (y[i] - output) * b[i]\n",
    "\n",
    "        print(\"Updated weights :\", w[0], w[1])\n",
    "        \n",
    "    return (w[0], w[1])"
   ]
  },
  {
   "cell_type": "markdown",
   "id": "64b9d4b8",
   "metadata": {},
   "source": [
    "### Train the perceptron"
   ]
  },
  {
   "cell_type": "code",
   "execution_count": 25,
   "id": "e01d4552",
   "metadata": {},
   "outputs": [
    {
     "name": "stdout",
     "output_type": "stream",
     "text": [
      "Updated weights : 1.0 1.0\n",
      "Updated weights : 1.0 1.0\n",
      "Updated weights : 1.0 1.0\n",
      "Updated weights : 1.0 1.0\n",
      "Updated weights : 1.0 1.0\n"
     ]
    }
   ],
   "source": [
    "weights = perceptron([a, b, y, w], threshold = 2, epochs = 5)"
   ]
  },
  {
   "cell_type": "markdown",
   "id": "95c10af6",
   "metadata": {},
   "source": [
    "### Let's try it out"
   ]
  },
  {
   "cell_type": "code",
   "execution_count": 29,
   "id": "522a00b2",
   "metadata": {},
   "outputs": [
    {
     "name": "stdout",
     "output_type": "stream",
     "text": [
      "Output = 0\n",
      "Output = 1\n"
     ]
    }
   ],
   "source": [
    "# let's try for input 0 1\n",
    "test_inp = [[0, 1], [1, 1]]\n",
    "\n",
    "# INPUT = 0 1\n",
    "and_output1 = activation(test_inp[0][0] * weights[0] + test_inp[0][1] * weights[1], 2)\n",
    "print(\"Output =\", and_output1)\n",
    "\n",
    "# INPUT = 1 1\n",
    "and_output1 = activation(test_inp[1][0] * weights[0] + test_inp[1][1] * weights[1], 2)\n",
    "print(\"Output =\", and_output1)"
   ]
  }
 ],
 "metadata": {
  "kernelspec": {
   "display_name": "Python 3 (ipykernel)",
   "language": "python",
   "name": "python3"
  },
  "language_info": {
   "codemirror_mode": {
    "name": "ipython",
    "version": 3
   },
   "file_extension": ".py",
   "mimetype": "text/x-python",
   "name": "python",
   "nbconvert_exporter": "python",
   "pygments_lexer": "ipython3",
   "version": "3.11.3"
  }
 },
 "nbformat": 4,
 "nbformat_minor": 5
}

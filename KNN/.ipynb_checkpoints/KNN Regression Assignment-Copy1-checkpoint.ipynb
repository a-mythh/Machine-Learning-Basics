{
 "cells": [
  {
   "cell_type": "markdown",
   "id": "1fb50b06",
   "metadata": {},
   "source": [
    "# Implementing KNN Regression manually"
   ]
  },
  {
   "cell_type": "markdown",
   "id": "2cafd993",
   "metadata": {},
   "source": [
    "#### Load the necessary libraries"
   ]
  },
  {
   "cell_type": "code",
   "execution_count": 2,
   "id": "352e1164",
   "metadata": {},
   "outputs": [],
   "source": [
    "import pandas as pd\n",
    "import numpy as np\n",
    "import matplotlib.pyplot as plt"
   ]
  },
  {
   "cell_type": "markdown",
   "id": "c5732647",
   "metadata": {},
   "source": [
    "### Load the Iris dataset"
   ]
  },
  {
   "cell_type": "code",
   "execution_count": 7,
   "id": "92dbb21a",
   "metadata": {},
   "outputs": [
    {
     "data": {
      "text/html": [
       "<div>\n",
       "<style scoped>\n",
       "    .dataframe tbody tr th:only-of-type {\n",
       "        vertical-align: middle;\n",
       "    }\n",
       "\n",
       "    .dataframe tbody tr th {\n",
       "        vertical-align: top;\n",
       "    }\n",
       "\n",
       "    .dataframe thead th {\n",
       "        text-align: right;\n",
       "    }\n",
       "</style>\n",
       "<table border=\"1\" class=\"dataframe\">\n",
       "  <thead>\n",
       "    <tr style=\"text-align: right;\">\n",
       "      <th></th>\n",
       "      <th>Id</th>\n",
       "      <th>SepalLengthCm</th>\n",
       "      <th>SepalWidthCm</th>\n",
       "      <th>PetalLengthCm</th>\n",
       "      <th>PetalWidthCm</th>\n",
       "      <th>Species</th>\n",
       "    </tr>\n",
       "  </thead>\n",
       "  <tbody>\n",
       "    <tr>\n",
       "      <th>0</th>\n",
       "      <td>1</td>\n",
       "      <td>5.1</td>\n",
       "      <td>3.5</td>\n",
       "      <td>1.4</td>\n",
       "      <td>0.2</td>\n",
       "      <td>Iris-setosa</td>\n",
       "    </tr>\n",
       "    <tr>\n",
       "      <th>1</th>\n",
       "      <td>2</td>\n",
       "      <td>4.9</td>\n",
       "      <td>3.0</td>\n",
       "      <td>1.4</td>\n",
       "      <td>0.2</td>\n",
       "      <td>Iris-setosa</td>\n",
       "    </tr>\n",
       "    <tr>\n",
       "      <th>2</th>\n",
       "      <td>3</td>\n",
       "      <td>4.7</td>\n",
       "      <td>3.2</td>\n",
       "      <td>1.3</td>\n",
       "      <td>0.2</td>\n",
       "      <td>Iris-setosa</td>\n",
       "    </tr>\n",
       "    <tr>\n",
       "      <th>3</th>\n",
       "      <td>4</td>\n",
       "      <td>4.6</td>\n",
       "      <td>3.1</td>\n",
       "      <td>1.5</td>\n",
       "      <td>0.2</td>\n",
       "      <td>Iris-setosa</td>\n",
       "    </tr>\n",
       "    <tr>\n",
       "      <th>4</th>\n",
       "      <td>5</td>\n",
       "      <td>5.0</td>\n",
       "      <td>3.6</td>\n",
       "      <td>1.4</td>\n",
       "      <td>0.2</td>\n",
       "      <td>Iris-setosa</td>\n",
       "    </tr>\n",
       "  </tbody>\n",
       "</table>\n",
       "</div>"
      ],
      "text/plain": [
       "   Id  SepalLengthCm  SepalWidthCm  PetalLengthCm  PetalWidthCm      Species\n",
       "0   1            5.1           3.5            1.4           0.2  Iris-setosa\n",
       "1   2            4.9           3.0            1.4           0.2  Iris-setosa\n",
       "2   3            4.7           3.2            1.3           0.2  Iris-setosa\n",
       "3   4            4.6           3.1            1.5           0.2  Iris-setosa\n",
       "4   5            5.0           3.6            1.4           0.2  Iris-setosa"
      ]
     },
     "execution_count": 7,
     "metadata": {},
     "output_type": "execute_result"
    }
   ],
   "source": [
    "data = pd.read_csv('Iris.csv')\n",
    "data.head()"
   ]
  },
  {
   "cell_type": "markdown",
   "id": "abf81ab1",
   "metadata": {},
   "source": [
    "### Get the dataset of Sepal Length and Sepal Width"
   ]
  },
  {
   "cell_type": "code",
   "execution_count": 20,
   "id": "9455f79b",
   "metadata": {},
   "outputs": [],
   "source": [
    "# shuffle the dataset\n",
    "data = data.sample(frac = 1)\n",
    "\n",
    "x = data['SepalLengthCm']\n",
    "y = data['SepalWidthCm']"
   ]
  },
  {
   "cell_type": "markdown",
   "id": "5cca061a",
   "metadata": {},
   "source": [
    "##### Separate dataset into Training and Testing dataset"
   ]
  },
  {
   "cell_type": "code",
   "execution_count": 21,
   "id": "e07e65d2",
   "metadata": {},
   "outputs": [],
   "source": [
    "train_size = int(0.8 * len(x))\n",
    "test_size = len(x) - train_size\n",
    "\n",
    "x_train, y_train = x[:train_size], y[:train_size]\n",
    "x_test, y_test = x[train_size:], y[train_size:]"
   ]
  },
  {
   "cell_type": "markdown",
   "id": "c6cc7fe8",
   "metadata": {},
   "source": [
    "### Plot the dataset for visualization"
   ]
  },
  {
   "cell_type": "code",
   "execution_count": 26,
   "id": "dd53d3f7",
   "metadata": {},
   "outputs": [
    {
     "data": {
      "image/png": "[encoded data removed]",
      "text/plain": [
       "<Figure size 640x480 with 1 Axes>"
      ]
     },
     "metadata": {},
     "output_type": "display_data"
    }
   ],
   "source": [
    "# give some details to the graph\n",
    "plt.title('Sepal Length vs Sepal Width')\n",
    "plt.xlabel('Sepal Length (cm)')\n",
    "plt.ylabel('Sepal Width (cm)')\n",
    "\n",
    "# plot the graph of Sepal Length and Sepal Width\n",
    "plt.scatter(x_train, y_train, color = 'red', marker = 'x')\n",
    "\n",
    "plt.show()"
   ]
  },
  {
   "cell_type": "markdown",
   "id": "9df414c5",
   "metadata": {},
   "source": [
    "#### Define Eucledian Distance Function"
   ]
  },
  {
   "cell_type": "code",
   "execution_count": 27,
   "id": "5a1ca6f9",
   "metadata": {},
   "outputs": [],
   "source": [
    "def eucledian_distance(x1, x2):\n",
    "    d = np.sqrt(np.sum((x1 - x2) ** 2))\n",
    "    return d"
   ]
  },
  {
   "cell_type": "markdown",
   "id": "cf1ce530",
   "metadata": {},
   "source": [
    "### Create a Prediction function which uses KNN algorithm"
   ]
  },
  {
   "cell_type": "code",
   "execution_count": 44,
   "id": "bb4ef794",
   "metadata": {},
   "outputs": [],
   "source": [
    "def predict(x, k = 5):\n",
    "    distances = []\n",
    "    nearest_labels = []\n",
    "\n",
    "    # find out the distance between each point in sepal length and width graph\n",
    "    for x1 in x_train:\n",
    "        distances.append(eucledian_distance(x, x1))\n",
    "\n",
    "    # find the nearest neighbours of the points (smallest distance)\n",
    "    nearest_indices = np.argsort(distances)[:k]\n",
    "    \n",
    "    # find out the corresponding labels for nearest neighbours\n",
    "    for i in nearest_indices:\n",
    "        nearest_labels.append(y_train.iloc[i])\n",
    "    \n",
    "    y = np.round((np.sum(nearest_labels) / k), 2)\n",
    "    return y"
   ]
  },
  {
   "cell_type": "markdown",
   "id": "a8c58ebd",
   "metadata": {},
   "source": [
    "#### Find out the predicted values using different values of k"
   ]
  },
  {
   "cell_type": "code",
   "execution_count": 73,
   "id": "dd2a01be",
   "metadata": {},
   "outputs": [],
   "source": [
    "# prediction for k = 5\n",
    "y_prediction_k5 = [predict(x, k = 5) for x in x_test]\n",
    "\n",
    "# prediction for k = 15\n",
    "y_prediction_k15 = [predict(x, k = 15) for x in x_test]\n",
    "\n",
    "# prediction for k = 25\n",
    "y_prediction_k25 = [predict(x, k = 25) for x in x_test]\n",
    "\n",
    "# prediction for k = 30\n",
    "y_prediction_k30 = [predict(x, k = 30) for x in x_test]\n",
    "\n",
    "# prediction for k = 40\n",
    "y_prediction_k40 = [predict(x, k = 40) for x in x_test]"
   ]
  },
  {
   "cell_type": "markdown",
   "id": "e6918c40",
   "metadata": {},
   "source": [
    "### Find the accuracy for different values of k\n",
    "\n",
    "*Accuracy = 100 - Mean Squared Error*"
   ]
  },
  {
   "cell_type": "code",
   "execution_count": 76,
   "id": "0078cfa1",
   "metadata": {},
   "outputs": [
    {
     "name": "stdout",
     "output_type": "stream",
     "text": [
      "Accuracy (k = 5)  : 83.35 %\n",
      "Accuracy (k = 15) : 88.68 %\n",
      "Accuracy (k = 25) : 88.72 %\n",
      "Accuracy (k = 30) : 87.53 %\n",
      "Accuracy (k = 40) : 85.86 %\n"
     ]
    }
   ],
   "source": [
    "# accuracy for k = 5\n",
    "accuracy_k5 = 100 - ((np.sum((y_prediction_k5 - y_test) ** 2) / test_size) * 100)\n",
    "\n",
    "# accuracy for k = 15\n",
    "accuracy_k15 = 100 - ((np.sum((y_prediction_k15 - y_test) ** 2) / test_size) * 100)\n",
    "\n",
    "# accuracy for k = 25\n",
    "accuracy_k25 = 100 - ((np.sum((y_prediction_k25 - y_test) ** 2) / test_size) * 100)\n",
    "\n",
    "# accuracy for k = 30\n",
    "accuracy_k30 = 100 - ((np.sum((y_prediction_k30 - y_test) ** 2) / test_size) * 100)\n",
    "\n",
    "# accuracy for k = 40\n",
    "accuracy_k40 = 100 - ((np.sum((y_prediction_k40 - y_test) ** 2) / test_size) * 100)\n",
    "\n",
    "print('Accuracy (k = 5)  :', np.round(accuracy_k5, 2), '%')\n",
    "print('Accuracy (k = 15) :', np.round(accuracy_k15, 2), '%')\n",
    "print('Accuracy (k = 25) :', np.round(accuracy_k25, 2), '%')\n",
    "print('Accuracy (k = 30) :', np.round(accuracy_k30, 2), '%')\n",
    "print('Accuracy (k = 40) :', np.round(accuracy_k40, 2), '%')"
   ]
  },
  {
   "cell_type": "markdown",
   "id": "caeb47bb",
   "metadata": {},
   "source": [
    "### Plot the graph for the predicted values"
   ]
  },
  {
   "cell_type": "code",
   "execution_count": 89,
   "id": "d583dbd1",
   "metadata": {},
   "outputs": [
    {
     "data": {
      "image/png": "[encoded data removed]",
      "text/plain": [
       "<Figure size 640x480 with 1 Axes>"
      ]
     },
     "metadata": {},
     "output_type": "display_data"
    }
   ],
   "source": [
    "# give some details to the graph\n",
    "plt.title('Sepal Length vs Sepal Width')\n",
    "plt.xlabel('Sepal Length (cm)')\n",
    "plt.ylabel('Sepal Width (cm)')\n",
    "\n",
    "# plot the graph of Sepal Length and Sepal Width\n",
    "plt.scatter(x_train, y_train, color = 'yellow', marker = 'x')\n",
    "\n",
    "# plot the predicted values of Sepal Width\n",
    "plt.scatter(x_test, y_prediction_k25, color = 'navy', marker = '.')\n",
    "\n",
    "plt.show()"
   ]
  },
  {
   "cell_type": "markdown",
   "id": "43cd4514",
   "metadata": {},
   "source": [
    "# Implementing KNN Regression using sklearn library"
   ]
  },
  {
   "cell_type": "markdown",
   "id": "1f7a0e04",
   "metadata": {},
   "source": [
    "#### Load the necessary libraries"
   ]
  },
  {
   "cell_type": "code",
   "execution_count": 170,
   "id": "3ffb5e52",
   "metadata": {},
   "outputs": [],
   "source": [
    "from sklearn.neighbors import KNeighborsRegressor\n",
    "from sklearn.model_selection import train_test_split"
   ]
  },
  {
   "cell_type": "markdown",
   "id": "016a1fd4",
   "metadata": {},
   "source": [
    "#### Separate the training and testing datasets"
   ]
  },
  {
   "cell_type": "code",
   "execution_count": 171,
   "id": "b674664c",
   "metadata": {},
   "outputs": [],
   "source": [
    "data = pd.read_csv('Iris.csv')\n",
    "data.head()\n",
    "\n",
    "x = data['SepalLengthCm']\n",
    "y = data['SepalWidthCm']\n",
    "\n",
    "x_train, x_test, y_train, y_test = train_test_split(x, y, test_size = 0.2, random_state = 0)"
   ]
  },
  {
   "cell_type": "markdown",
   "id": "afd27078",
   "metadata": {},
   "source": [
    "### Train the model"
   ]
  },
  {
   "cell_type": "code",
   "execution_count": 172,
   "id": "27f0d553",
   "metadata": {},
   "outputs": [
    {
     "data": {
      "text/html": [
       "<style>#sk-container-id-14 {color: black;background-color: white;}#sk-container-id-14 pre{padding: 0;}#sk-container-id-14 div.sk-toggleable {background-color: white;}#sk-container-id-14 label.sk-toggleable__label {cursor: pointer;display: block;width: 100%;margin-bottom: 0;padding: 0.3em;box-sizing: border-box;text-align: center;}#sk-container-id-14 label.sk-toggleable__label-arrow:before {content: \"▸\";float: left;margin-right: 0.25em;color: #696969;}#sk-container-id-14 label.sk-toggleable__label-arrow:hover:before {color: black;}#sk-container-id-14 div.sk-estimator:hover label.sk-toggleable__label-arrow:before {color: black;}#sk-container-id-14 div.sk-toggleable__content {max-height: 0;max-width: 0;overflow: hidden;text-align: left;background-color: #f0f8ff;}#sk-container-id-14 div.sk-toggleable__content pre {margin: 0.2em;color: black;border-radius: 0.25em;background-color: #f0f8ff;}#sk-container-id-14 input.sk-toggleable__control:checked~div.sk-toggleable__content {max-height: 200px;max-width: 100%;overflow: auto;}#sk-container-id-14 input.sk-toggleable__control:checked~label.sk-toggleable__label-arrow:before {content: \"▾\";}#sk-container-id-14 div.sk-estimator input.sk-toggleable__control:checked~label.sk-toggleable__label {background-color: #d4ebff;}#sk-container-id-14 div.sk-label input.sk-toggleable__control:checked~label.sk-toggleable__label {background-color: #d4ebff;}#sk-container-id-14 input.sk-hidden--visually {border: 0;clip: rect(1px 1px 1px 1px);clip: rect(1px, 1px, 1px, 1px);height: 1px;margin: -1px;overflow: hidden;padding: 0;position: absolute;width: 1px;}#sk-container-id-14 div.sk-estimator {font-family: monospace;background-color: #f0f8ff;border: 1px dotted black;border-radius: 0.25em;box-sizing: border-box;margin-bottom: 0.5em;}#sk-container-id-14 div.sk-estimator:hover {background-color: #d4ebff;}#sk-container-id-14 div.sk-parallel-item::after {content: \"\";width: 100%;border-bottom: 1px solid gray;flex-grow: 1;}#sk-container-id-14 div.sk-label:hover label.sk-toggleable__label {background-color: #d4ebff;}#sk-container-id-14 div.sk-serial::before {content: \"\";position: absolute;border-left: 1px solid gray;box-sizing: border-box;top: 0;bottom: 0;left: 50%;z-index: 0;}#sk-container-id-14 div.sk-serial {display: flex;flex-direction: column;align-items: center;background-color: white;padding-right: 0.2em;padding-left: 0.2em;position: relative;}#sk-container-id-14 div.sk-item {position: relative;z-index: 1;}#sk-container-id-14 div.sk-parallel {display: flex;align-items: stretch;justify-content: center;background-color: white;position: relative;}#sk-container-id-14 div.sk-item::before, #sk-container-id-14 div.sk-parallel-item::before {content: \"\";position: absolute;border-left: 1px solid gray;box-sizing: border-box;top: 0;bottom: 0;left: 50%;z-index: -1;}#sk-container-id-14 div.sk-parallel-item {display: flex;flex-direction: column;z-index: 1;position: relative;background-color: white;}#sk-container-id-14 div.sk-parallel-item:first-child::after {align-self: flex-end;width: 50%;}#sk-container-id-14 div.sk-parallel-item:last-child::after {align-self: flex-start;width: 50%;}#sk-container-id-14 div.sk-parallel-item:only-child::after {width: 0;}#sk-container-id-14 div.sk-dashed-wrapped {border: 1px dashed gray;margin: 0 0.4em 0.5em 0.4em;box-sizing: border-box;padding-bottom: 0.4em;background-color: white;}#sk-container-id-14 div.sk-label label {font-family: monospace;font-weight: bold;display: inline-block;line-height: 1.2em;}#sk-container-id-14 div.sk-label-container {text-align: center;}#sk-container-id-14 div.sk-container {/* jupyter's `normalize.less` sets `[hidden] { display: none; }` but bootstrap.min.css set `[hidden] { display: none !important; }` so we also need the `!important` here to be able to override the default hidden behavior on the sphinx rendered scikit-learn.org. See: https://github.com/scikit-learn/scikit-learn/issues/21755 */display: inline-block !important;position: relative;}#sk-container-id-14 div.sk-text-repr-fallback {display: none;}</style><div id=\"sk-container-id-14\" class=\"sk-top-container\"><div class=\"sk-text-repr-fallback\"><pre>KNeighborsRegressor(n_neighbors=40)</pre><b>In a Jupyter environment, please rerun this cell to show the HTML representation or trust the notebook. <br />On GitHub, the HTML representation is unable to render, please try loading this page with nbviewer.org.</b></div><div class=\"sk-container\" hidden><div class=\"sk-item\"><div class=\"sk-estimator sk-toggleable\"><input class=\"sk-toggleable__control sk-hidden--visually\" id=\"sk-estimator-id-14\" type=\"checkbox\" checked><label for=\"sk-estimator-id-14\" class=\"sk-toggleable__label sk-toggleable__label-arrow\">KNeighborsRegressor</label><div class=\"sk-toggleable__content\"><pre>KNeighborsRegressor(n_neighbors=40)</pre></div></div></div></div></div>"
      ],
      "text/plain": [
       "KNeighborsRegressor(n_neighbors=40)"
      ]
     },
     "execution_count": 172,
     "metadata": {},
     "output_type": "execute_result"
    }
   ],
   "source": [
    "# knn regression for k = 5\n",
    "knn_k5 = KNeighborsRegressor(n_neighbors = 5)\n",
    "\n",
    "# knn regression for k = 15\n",
    "knn_k15 = KNeighborsRegressor(n_neighbors = 15)\n",
    "\n",
    "# knn regression for k = 25\n",
    "knn_k25 = KNeighborsRegressor(n_neighbors = 25)\n",
    "\n",
    "# knn regression for k = 30\n",
    "knn_k30 = KNeighborsRegressor(n_neighbors = 30)\n",
    "\n",
    "# knn regression for k = 40\n",
    "knn_k40 = KNeighborsRegressor(n_neighbors = 40)\n",
    "\n",
    "# input the training dataset\n",
    "knn_k5.fit(np.array(x_train).reshape(-1, 1), np.array(y_train).reshape(-1, 1))\n",
    "knn_k15.fit(np.array(x_train).reshape(-1, 1), np.array(y_train).reshape(-1, 1))\n",
    "knn_k25.fit(np.array(x_train).reshape(-1, 1), np.array(y_train).reshape(-1, 1))\n",
    "knn_k30.fit(np.array(x_train).reshape(-1, 1), np.array(y_train).reshape(-1, 1))\n",
    "knn_k40.fit(np.array(x_train).reshape(-1, 1), np.array(y_train).reshape(-1, 1))"
   ]
  },
  {
   "cell_type": "markdown",
   "id": "dcd0c965",
   "metadata": {},
   "source": [
    "### Make the predictions"
   ]
  },
  {
   "cell_type": "code",
   "execution_count": 173,
   "id": "9003b968",
   "metadata": {},
   "outputs": [],
   "source": [
    "# find the predictions for different values of k\n",
    "y_pred_k5 = knn_k5.predict(np.array(x_test).reshape(-1, 1))\n",
    "y_pred_k15 = knn_k15.predict(np.array(x_test).reshape(-1, 1))\n",
    "y_pred_k25 = knn_k25.predict(np.array(x_test).reshape(-1, 1))\n",
    "y_pred_k30 = knn_k30.predict(np.array(x_test).reshape(-1, 1))\n",
    "y_pred_k40 = knn_k40.predict(np.array(x_test).reshape(-1, 1))"
   ]
  },
  {
   "cell_type": "markdown",
   "id": "b8c9eea6",
   "metadata": {},
   "source": [
    "### Find the accuracy for different values of k"
   ]
  },
  {
   "cell_type": "code",
   "execution_count": 174,
   "id": "f8d4dfeb",
   "metadata": {},
   "outputs": [
    {
     "name": "stdout",
     "output_type": "stream",
     "text": [
      "Accuracy (k = 5)  : 82.11 %\n",
      "Accuracy (k = 15) : 82.63 %\n",
      "Accuracy (k = 25) : 84.0 %\n",
      "Accuracy (k = 30) : 83.86 %\n",
      "Accuracy (k = 40) : 83.98 %\n"
     ]
    }
   ],
   "source": [
    "# accuracy for k = 5\n",
    "accuracy_sk_k5 = 100 - ((np.sum((y_pred_k5.flatten() - y_test) ** 2) / test_size) * 100)\n",
    "\n",
    "# accuracy for k = 15\n",
    "accuracy_sk_k15 = 100 - ((np.sum((y_pred_k15.flatten() - y_test) ** 2) / test_size) * 100)\n",
    "\n",
    "# accuracy for k = 25\n",
    "accuracy_sk_k25 = 100 - ((np.sum((y_pred_k25.flatten() - y_test) ** 2) / test_size) * 100)\n",
    "\n",
    "# accuracy for k = 30\n",
    "accuracy_sk_k30 = 100 - ((np.sum((y_pred_k30.flatten() - y_test) ** 2) / test_size) * 100)\n",
    "\n",
    "# accuracy for k = 40\n",
    "accuracy_sk_k40 = 100 - ((np.sum((y_pred_k40.flatten() - y_test) ** 2) / test_size) * 100)\n",
    "\n",
    "print('Accuracy (k = 5)  :', np.round(accuracy_sk_k5, 2), '%')\n",
    "print('Accuracy (k = 15) :', np.round(accuracy_sk_k15, 2), '%')\n",
    "print('Accuracy (k = 25) :', np.round(accuracy_sk_k25, 2), '%')\n",
    "print('Accuracy (k = 30) :', np.round(accuracy_sk_k30, 2), '%')\n",
    "print('Accuracy (k = 40) :', np.round(accuracy_sk_k40, 2), '%')"
   ]
  },
  {
   "cell_type": "markdown",
   "id": "977cdbd3",
   "metadata": {},
   "source": [
    "## Therefore, our implementation of KNN Regression with k = 25 has the best accuracy."
   ]
  }
 ],
 "metadata": {
  "kernelspec": {
   "display_name": "Python 3 (ipykernel)",
   "language": "python",
   "name": "python3"
  },
  "language_info": {
   "codemirror_mode": {
    "name": "ipython",
    "version": 3
   },
   "file_extension": ".py",
   "mimetype": "text/x-python",
   "name": "python",
   "nbconvert_exporter": "python",
   "pygments_lexer": "ipython3",
   "version": "3.11.3"
  }
 },
 "nbformat": 4,
 "nbformat_minor": 5
}

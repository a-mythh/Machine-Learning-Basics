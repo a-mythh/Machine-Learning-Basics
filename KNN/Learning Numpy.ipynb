{
 "cells": [
  {
   "cell_type": "markdown",
   "id": "61e8cea4",
   "metadata": {},
   "source": [
    "## Tutorial"
   ]
  },
  {
   "cell_type": "code",
   "execution_count": 210,
   "id": "35a1178b",
   "metadata": {},
   "outputs": [
    {
     "data": {
      "text/html": [
       "<iframe width=\"560\" height=\"315\" src=\"https://www.youtube.com/embed/GB9ByFAIAH4\" title=\"YouTube video player\" frameborder=\"0\" allow=\"accelerometer; autoplay; clipboard-write; encrypted-media; gyroscope; picture-in-picture; web-share\" allowfullscreen></iframe>\n"
      ],
      "text/plain": [
       "<IPython.core.display.HTML object>"
      ]
     },
     "metadata": {},
     "output_type": "display_data"
    }
   ],
   "source": [
    "%%html\n",
    "<iframe width=\"560\" height=\"315\" src=\"https://www.youtube.com/embed/GB9ByFAIAH4\" title=\"YouTube video player\" frameborder=\"0\" allow=\"accelerometer; autoplay; clipboard-write; encrypted-media; gyroscope; picture-in-picture; web-share\" allowfullscreen></iframe>"
   ]
  },
  {
   "cell_type": "markdown",
   "id": "a818be44",
   "metadata": {},
   "source": [
    "## Practice"
   ]
  },
  {
   "cell_type": "code",
   "execution_count": 211,
   "id": "1d5546b5",
   "metadata": {},
   "outputs": [
    {
     "data": {
      "text/html": [
       "<iframe width=\"560\" height=\"315\" src=\"https://www.youtube.com/embed/DcfYgePyedM\" title=\"YouTube video player\" frameborder=\"0\" allow=\"accelerometer; autoplay; clipboard-write; encrypted-media; gyroscope; picture-in-picture; web-share\" allowfullscreen></iframe>\n"
      ],
      "text/plain": [
       "<IPython.core.display.HTML object>"
      ]
     },
     "metadata": {},
     "output_type": "display_data"
    }
   ],
   "source": [
    "%%html\n",
    "<iframe width=\"560\" height=\"315\" src=\"https://www.youtube.com/embed/DcfYgePyedM\" title=\"YouTube video player\" frameborder=\"0\" allow=\"accelerometer; autoplay; clipboard-write; encrypted-media; gyroscope; picture-in-picture; web-share\" allowfullscreen></iframe>"
   ]
  },
  {
   "cell_type": "markdown",
   "id": "448a1d67",
   "metadata": {},
   "source": [
    "#### Load Numpy"
   ]
  },
  {
   "cell_type": "code",
   "execution_count": 212,
   "id": "69ae9bf2",
   "metadata": {},
   "outputs": [],
   "source": [
    "import numpy as np"
   ]
  },
  {
   "cell_type": "markdown",
   "id": "f280f061",
   "metadata": {},
   "source": [
    "## The Basics"
   ]
  },
  {
   "cell_type": "code",
   "execution_count": 213,
   "id": "97aeaca6",
   "metadata": {},
   "outputs": [
    {
     "name": "stdout",
     "output_type": "stream",
     "text": [
      "[1 2 3 4 5]\n"
     ]
    }
   ],
   "source": [
    "a = np.array([1, 2, 3, 4, 5])\n",
    "print(a)"
   ]
  },
  {
   "cell_type": "code",
   "execution_count": 214,
   "id": "ff763570",
   "metadata": {},
   "outputs": [
    {
     "name": "stdout",
     "output_type": "stream",
     "text": [
      "[[ 2.4  4.1  5.5]\n",
      " [ 3.5  2.5 -9.3]]\n"
     ]
    }
   ],
   "source": [
    "b = np.array([[2.4, 4.1, 5.5], [3.5, 2.5, -9.3]])\n",
    "print(b)"
   ]
  },
  {
   "cell_type": "code",
   "execution_count": 215,
   "id": "c037ed44",
   "metadata": {},
   "outputs": [
    {
     "name": "stdout",
     "output_type": "stream",
     "text": [
      "1\n",
      "2\n"
     ]
    }
   ],
   "source": [
    "# Get Dimension\n",
    "print(a.ndim)\n",
    "print(b.ndim)"
   ]
  },
  {
   "cell_type": "code",
   "execution_count": 216,
   "id": "a5c52c4e",
   "metadata": {},
   "outputs": [
    {
     "name": "stdout",
     "output_type": "stream",
     "text": [
      "(5,)\n",
      "(2, 3)\n"
     ]
    }
   ],
   "source": [
    "# Get Shape - no. of rows and columns\n",
    "print(a.shape)\n",
    "print(b.shape)"
   ]
  },
  {
   "cell_type": "code",
   "execution_count": 217,
   "id": "53dee796",
   "metadata": {},
   "outputs": [
    {
     "name": "stdout",
     "output_type": "stream",
     "text": [
      "int32\n",
      "float64\n"
     ]
    }
   ],
   "source": [
    "# Get datatype\n",
    "print(a.dtype)\n",
    "print(b.dtype)"
   ]
  },
  {
   "cell_type": "code",
   "execution_count": 218,
   "id": "1960490b",
   "metadata": {},
   "outputs": [
    {
     "name": "stdout",
     "output_type": "stream",
     "text": [
      "4\n",
      "8\n"
     ]
    }
   ],
   "source": [
    "# Get itemsize - size of each element\n",
    "print(a.itemsize)\n",
    "print(b.itemsize)"
   ]
  },
  {
   "cell_type": "code",
   "execution_count": 219,
   "id": "383dd95e",
   "metadata": {},
   "outputs": [
    {
     "name": "stdout",
     "output_type": "stream",
     "text": [
      "48\n",
      "48\n"
     ]
    }
   ],
   "source": [
    "# Get total size\n",
    "print(b.size * b.itemsize)\n",
    "print(b.nbytes)"
   ]
  },
  {
   "cell_type": "code",
   "execution_count": 220,
   "id": "858dbc18",
   "metadata": {},
   "outputs": [
    {
     "data": {
      "text/plain": [
       "6"
      ]
     },
     "execution_count": 220,
     "metadata": {},
     "output_type": "execute_result"
    }
   ],
   "source": [
    "# Get number of elements\n",
    "b.size"
   ]
  },
  {
   "cell_type": "markdown",
   "id": "733b98c9",
   "metadata": {},
   "source": [
    "## Accessing and Changing specific rows, columns, etc."
   ]
  },
  {
   "cell_type": "code",
   "execution_count": 221,
   "id": "e334f43a",
   "metadata": {},
   "outputs": [
    {
     "name": "stdout",
     "output_type": "stream",
     "text": [
      "[[ 1  2  3  4  5  6  7  8  9 10]\n",
      " [10  9  8  7  6  5  4  3  2  1]]\n"
     ]
    }
   ],
   "source": [
    "x = np.array([[1, 2, 3, 4, 5, 6, 7, 8, 9, 10], [10, 9, 8, 7, 6, 5, 4, 3, 2, 1]])\n",
    "print(x)"
   ]
  },
  {
   "cell_type": "code",
   "execution_count": 222,
   "id": "8e1e7f18",
   "metadata": {},
   "outputs": [
    {
     "data": {
      "text/plain": [
       "7"
      ]
     },
     "execution_count": 222,
     "metadata": {},
     "output_type": "execute_result"
    }
   ],
   "source": [
    "# Get specific element\n",
    "x[1, 3]"
   ]
  },
  {
   "cell_type": "code",
   "execution_count": 223,
   "id": "338a9da7",
   "metadata": {},
   "outputs": [
    {
     "data": {
      "text/plain": [
       "array([ 1,  2,  3,  4,  5,  6,  7,  8,  9, 10])"
      ]
     },
     "execution_count": 223,
     "metadata": {},
     "output_type": "execute_result"
    }
   ],
   "source": [
    "# Get specific row\n",
    "x[0, :]"
   ]
  },
  {
   "cell_type": "code",
   "execution_count": 224,
   "id": "c588ca90",
   "metadata": {},
   "outputs": [
    {
     "data": {
      "text/plain": [
       "array([5, 6])"
      ]
     },
     "execution_count": 224,
     "metadata": {},
     "output_type": "execute_result"
    }
   ],
   "source": [
    "# Get specific column\n",
    "x[:, 4]"
   ]
  },
  {
   "cell_type": "code",
   "execution_count": 225,
   "id": "3f9fbd0f",
   "metadata": {},
   "outputs": [
    {
     "data": {
      "text/plain": [
       "array([4, 6, 8])"
      ]
     },
     "execution_count": 225,
     "metadata": {},
     "output_type": "execute_result"
    }
   ],
   "source": [
    "# Getting more fancy [start:end:step]\n",
    "x[0, 3:8:2]"
   ]
  },
  {
   "cell_type": "code",
   "execution_count": 226,
   "id": "348c30d8",
   "metadata": {},
   "outputs": [
    {
     "name": "stdout",
     "output_type": "stream",
     "text": [
      "[[ 1  2  3  4  5  6  7  8  9 10]\n",
      " [10  9  8  7  6  5  4  3 80  1]]\n"
     ]
    }
   ],
   "source": [
    "# Change values\n",
    "x[1, 8] = 80\n",
    "print(x)"
   ]
  },
  {
   "cell_type": "code",
   "execution_count": 227,
   "id": "8ca9ce97",
   "metadata": {},
   "outputs": [
    {
     "name": "stdout",
     "output_type": "stream",
     "text": [
      "[[ 1  4  3  4  5  6  7  8  9 10]\n",
      " [10  4  8  7  6  5  4  3 80  1]]\n",
      "\n",
      "[[ 1  4  3 -1  5  6  7  8  9 10]\n",
      " [10  4  8 -2  6  5  4  3 80  1]]\n"
     ]
    }
   ],
   "source": [
    "# Change specific columnns or rows\n",
    "x[:, 1] = 4\n",
    "print(x)\n",
    "\n",
    "print()\n",
    "\n",
    "x[:, 3] = [-1, -2]\n",
    "print(x)"
   ]
  },
  {
   "cell_type": "markdown",
   "id": "466230ca",
   "metadata": {},
   "source": [
    "*3D Example*"
   ]
  },
  {
   "cell_type": "code",
   "execution_count": 228,
   "id": "57425b94",
   "metadata": {},
   "outputs": [
    {
     "name": "stdout",
     "output_type": "stream",
     "text": [
      "[[[1 2]\n",
      "  [3 4]]\n",
      "\n",
      " [[5 6]\n",
      "  [7 8]]]\n",
      "(2, 2, 2)\n"
     ]
    }
   ],
   "source": [
    "y = np.array([[[1, 2], [3, 4]], [[5, 6], [7, 8]]])\n",
    "print(y)\n",
    "print(y.shape)"
   ]
  },
  {
   "cell_type": "code",
   "execution_count": 229,
   "id": "5dd6f1ab",
   "metadata": {},
   "outputs": [
    {
     "data": {
      "text/plain": [
       "3"
      ]
     },
     "execution_count": 229,
     "metadata": {},
     "output_type": "execute_result"
    }
   ],
   "source": [
    "# Get specific element (work outside in)\n",
    "y[0, 1, 0]"
   ]
  },
  {
   "cell_type": "code",
   "execution_count": 230,
   "id": "78027f6a",
   "metadata": {},
   "outputs": [
    {
     "data": {
      "text/plain": [
       "array([[[1, 2],\n",
       "        [3, 0]],\n",
       "\n",
       "       [[5, 6],\n",
       "        [9, 2]]])"
      ]
     },
     "execution_count": 230,
     "metadata": {},
     "output_type": "execute_result"
    }
   ],
   "source": [
    "# Change values\n",
    "y[:, 1, :] = [[3, 0], [9, 2]]\n",
    "y"
   ]
  },
  {
   "cell_type": "markdown",
   "id": "48f2a1ae",
   "metadata": {},
   "source": [
    "## Initializing Different Types of Arrays"
   ]
  },
  {
   "cell_type": "code",
   "execution_count": 231,
   "id": "362671f4",
   "metadata": {},
   "outputs": [
    {
     "data": {
      "text/plain": [
       "array([[0., 0., 0., 0.],\n",
       "       [0., 0., 0., 0.]])"
      ]
     },
     "execution_count": 231,
     "metadata": {},
     "output_type": "execute_result"
    }
   ],
   "source": [
    "# All 0s matrix\n",
    "np.zeros((2, 4))"
   ]
  },
  {
   "cell_type": "code",
   "execution_count": 232,
   "id": "86de7498",
   "metadata": {},
   "outputs": [
    {
     "data": {
      "text/plain": [
       "array([[[1, 1, 1, 1]],\n",
       "\n",
       "       [[1, 1, 1, 1]]])"
      ]
     },
     "execution_count": 232,
     "metadata": {},
     "output_type": "execute_result"
    }
   ],
   "source": [
    "# All 1s matrix\n",
    "np.ones((2, 1, 4), dtype = 'int32')"
   ]
  },
  {
   "cell_type": "code",
   "execution_count": 233,
   "id": "c0182cd9",
   "metadata": {},
   "outputs": [
    {
     "data": {
      "text/plain": [
       "array([[-1, -1, -1],\n",
       "       [-1, -1, -1],\n",
       "       [-1, -1, -1]])"
      ]
     },
     "execution_count": 233,
     "metadata": {},
     "output_type": "execute_result"
    }
   ],
   "source": [
    "# Any other number matrix\n",
    "np.full((3, 3), -1)"
   ]
  },
  {
   "cell_type": "code",
   "execution_count": 234,
   "id": "c34e1bbb",
   "metadata": {},
   "outputs": [
    {
     "data": {
      "text/plain": [
       "array([[[100, 100],\n",
       "        [100, 100]],\n",
       "\n",
       "       [[100, 100],\n",
       "        [100, 100]]])"
      ]
     },
     "execution_count": 234,
     "metadata": {},
     "output_type": "execute_result"
    }
   ],
   "source": [
    "# Any other number but the shape of another array\n",
    "np.full_like(y, 100)"
   ]
  },
  {
   "cell_type": "code",
   "execution_count": 235,
   "id": "ffb819ea",
   "metadata": {},
   "outputs": [
    {
     "data": {
      "text/plain": [
       "array([[0.89795435],\n",
       "       [0.90824199],\n",
       "       [0.65949925],\n",
       "       [0.06737468]])"
      ]
     },
     "execution_count": 235,
     "metadata": {},
     "output_type": "execute_result"
    }
   ],
   "source": [
    "# Random decimal numbers\n",
    "np.random.rand(4, 1)"
   ]
  },
  {
   "cell_type": "code",
   "execution_count": 236,
   "id": "6aa8e698",
   "metadata": {},
   "outputs": [
    {
     "data": {
      "text/plain": [
       "array([[[0.68193347, 0.88056649],\n",
       "        [0.06431896, 0.00772166]],\n",
       "\n",
       "       [[0.64494252, 0.23718601],\n",
       "        [0.35852828, 0.02980817]]])"
      ]
     },
     "execution_count": 236,
     "metadata": {},
     "output_type": "execute_result"
    }
   ],
   "source": [
    "# Random numbers but shape of another array\n",
    "np.random.random_sample(y.shape)"
   ]
  },
  {
   "cell_type": "code",
   "execution_count": 237,
   "id": "dfd530db",
   "metadata": {},
   "outputs": [
    {
     "data": {
      "text/plain": [
       "array([[-1,  3,  1,  4],\n",
       "       [ 1,  1, -2,  2],\n",
       "       [ 1,  0, -1, -2]])"
      ]
     },
     "execution_count": 237,
     "metadata": {},
     "output_type": "execute_result"
    }
   ],
   "source": [
    "# Random integer numbers\n",
    "np.random.randint(-2, 5, size = (3, 4))"
   ]
  },
  {
   "cell_type": "code",
   "execution_count": 238,
   "id": "eb1dcf8d",
   "metadata": {},
   "outputs": [
    {
     "data": {
      "text/plain": [
       "array([[1, 0, 0],\n",
       "       [0, 1, 0],\n",
       "       [0, 0, 1]])"
      ]
     },
     "execution_count": 238,
     "metadata": {},
     "output_type": "execute_result"
    }
   ],
   "source": [
    "# Identity matrix\n",
    "np.identity(3, dtype = 'int32')"
   ]
  },
  {
   "cell_type": "code",
   "execution_count": 239,
   "id": "9c387c6c",
   "metadata": {},
   "outputs": [
    {
     "name": "stdout",
     "output_type": "stream",
     "text": [
      "[[2 3 4]\n",
      " [2 3 4]\n",
      " [2 3 4]]\n",
      "[[2 2 3 3 4 4]]\n",
      "[2 2 3 3 4 4]\n"
     ]
    }
   ],
   "source": [
    "# Repeat an array\n",
    "arr = np.array([[2, 3, 4]])\n",
    "\n",
    "print(np.repeat(arr, 3, axis = 0))\n",
    "print(np.repeat(arr, 2, axis = 1))\n",
    "print(np.repeat(arr, 2))"
   ]
  },
  {
   "cell_type": "code",
   "execution_count": 240,
   "id": "b0769f96",
   "metadata": {},
   "outputs": [
    {
     "name": "stdout",
     "output_type": "stream",
     "text": [
      "[[1 1 1 1 1]\n",
      " [1 0 0 0 1]\n",
      " [1 0 9 0 1]\n",
      " [1 0 0 0 1]\n",
      " [1 1 1 1 1]]\n"
     ]
    }
   ],
   "source": [
    "# Exercise\n",
    "ex = np.ones((5, 5), dtype = 'int32')\n",
    "\n",
    "ex[1:4, 1:4] = np.zeros((3, 3), dtype = 'int32')\n",
    "\n",
    "ex[2, 2] = 9\n",
    "print(ex)"
   ]
  },
  {
   "cell_type": "markdown",
   "id": "cb926fc2",
   "metadata": {},
   "source": [
    "###### Be careful when copying arrays!!!"
   ]
  },
  {
   "cell_type": "code",
   "execution_count": 241,
   "id": "40667da6",
   "metadata": {},
   "outputs": [
    {
     "name": "stdout",
     "output_type": "stream",
     "text": [
      "[  1   2 100]\n",
      "[  1   2 100]\n",
      "[1 2 3]\n"
     ]
    }
   ],
   "source": [
    "r = np.array([1, 2, 3])\n",
    "t = r\n",
    "s = r.copy()\n",
    "\n",
    "t[2] = 100\n",
    "print(t)\n",
    "print(r)\n",
    "print(s)"
   ]
  },
  {
   "cell_type": "markdown",
   "id": "71e62eec",
   "metadata": {},
   "source": [
    "## Mathematics"
   ]
  },
  {
   "cell_type": "code",
   "execution_count": 242,
   "id": "8e6db017",
   "metadata": {},
   "outputs": [
    {
     "name": "stdout",
     "output_type": "stream",
     "text": [
      "[1 2 3 4 5]\n"
     ]
    }
   ],
   "source": [
    "a = np.array([1, 2, 3, 4, 5])\n",
    "print(a)"
   ]
  },
  {
   "cell_type": "code",
   "execution_count": 243,
   "id": "2a14d431",
   "metadata": {},
   "outputs": [
    {
     "data": {
      "text/plain": [
       "array([3, 4, 5, 6, 7])"
      ]
     },
     "execution_count": 243,
     "metadata": {},
     "output_type": "execute_result"
    }
   ],
   "source": [
    "a + 2"
   ]
  },
  {
   "cell_type": "code",
   "execution_count": 244,
   "id": "2b7a9470",
   "metadata": {},
   "outputs": [
    {
     "data": {
      "text/plain": [
       "array([ 3,  6,  9, 12, 15])"
      ]
     },
     "execution_count": 244,
     "metadata": {},
     "output_type": "execute_result"
    }
   ],
   "source": [
    "a * 3"
   ]
  },
  {
   "cell_type": "code",
   "execution_count": 245,
   "id": "3ee0a69d",
   "metadata": {},
   "outputs": [
    {
     "data": {
      "text/plain": [
       "array([0.2, 0.4, 0.6, 0.8, 1. ])"
      ]
     },
     "execution_count": 245,
     "metadata": {},
     "output_type": "execute_result"
    }
   ],
   "source": [
    "a / 5"
   ]
  },
  {
   "cell_type": "code",
   "execution_count": 246,
   "id": "fcce681a",
   "metadata": {},
   "outputs": [
    {
     "data": {
      "text/plain": [
       "array([ 1,  4,  9, 16, 25])"
      ]
     },
     "execution_count": 246,
     "metadata": {},
     "output_type": "execute_result"
    }
   ],
   "source": [
    "a ** 2"
   ]
  },
  {
   "cell_type": "code",
   "execution_count": 247,
   "id": "41a2ac5f",
   "metadata": {},
   "outputs": [
    {
     "name": "stdout",
     "output_type": "stream",
     "text": [
      "[2 3 4 5 6]\n"
     ]
    }
   ],
   "source": [
    "b = np.array([2, 3, 4, 5, 6])\n",
    "print(b)"
   ]
  },
  {
   "cell_type": "code",
   "execution_count": 248,
   "id": "b1e43353",
   "metadata": {},
   "outputs": [
    {
     "data": {
      "text/plain": [
       "array([ 3,  5,  7,  9, 11])"
      ]
     },
     "execution_count": 248,
     "metadata": {},
     "output_type": "execute_result"
    }
   ],
   "source": [
    "a + b"
   ]
  },
  {
   "cell_type": "code",
   "execution_count": 249,
   "id": "0f4b8ecb",
   "metadata": {},
   "outputs": [
    {
     "data": {
      "text/plain": [
       "array([ 0.84147098,  0.90929743,  0.14112001, -0.7568025 , -0.95892427])"
      ]
     },
     "execution_count": 249,
     "metadata": {},
     "output_type": "execute_result"
    }
   ],
   "source": [
    "# Take sine \n",
    "np.sin(a)"
   ]
  },
  {
   "cell_type": "markdown",
   "id": "f33fb645",
   "metadata": {},
   "source": [
    "##### For a lot more: https://docs.scipy.org/doc/numpy/reference/routines.math.html"
   ]
  },
  {
   "cell_type": "markdown",
   "id": "0555b823",
   "metadata": {},
   "source": [
    "### Linear Algebra"
   ]
  },
  {
   "cell_type": "code",
   "execution_count": 250,
   "id": "9c86d53b",
   "metadata": {},
   "outputs": [
    {
     "name": "stdout",
     "output_type": "stream",
     "text": [
      "[[1 1 1]\n",
      " [1 1 1]]\n",
      "[[2 2]\n",
      " [2 2]\n",
      " [2 2]]\n"
     ]
    },
    {
     "data": {
      "text/plain": [
       "array([[6, 6],\n",
       "       [6, 6]])"
      ]
     },
     "execution_count": 250,
     "metadata": {},
     "output_type": "execute_result"
    }
   ],
   "source": [
    "a = np.ones((2, 3), dtype = 'int32')\n",
    "print(a)\n",
    "\n",
    "b = np.full((3, 2), 2)\n",
    "print(b)\n",
    "\n",
    "# Matrix multiplication\n",
    "np.matmul(a, b)"
   ]
  },
  {
   "cell_type": "code",
   "execution_count": 251,
   "id": "4242597c",
   "metadata": {},
   "outputs": [
    {
     "name": "stdout",
     "output_type": "stream",
     "text": [
      "[[1. 0. 0. 0.]\n",
      " [0. 1. 0. 0.]\n",
      " [0. 0. 1. 0.]\n",
      " [0. 0. 0. 1.]]\n"
     ]
    },
    {
     "data": {
      "text/plain": [
       "1.0"
      ]
     },
     "execution_count": 251,
     "metadata": {},
     "output_type": "execute_result"
    }
   ],
   "source": [
    "# Find the Determinant\n",
    "c = np.identity(4)\n",
    "print(c)\n",
    "\n",
    "np.linalg.det(c)"
   ]
  },
  {
   "cell_type": "markdown",
   "id": "0727b166",
   "metadata": {},
   "source": [
    "### Reference Docs: https://docs.scipy.org/doc/numpy/reference/routines.linalg.html\n",
    "\n",
    "1. Determinant\n",
    "2. Trace\n",
    "3. Singular Vector Decomposition\n",
    "4. Eigen values\n",
    "5. Matrix Norm\n",
    "6. Inverse\n",
    "7. Dot Product"
   ]
  },
  {
   "cell_type": "markdown",
   "id": "690dce9d",
   "metadata": {},
   "source": [
    "### Statistics"
   ]
  },
  {
   "cell_type": "code",
   "execution_count": 252,
   "id": "6bb81724",
   "metadata": {},
   "outputs": [
    {
     "name": "stdout",
     "output_type": "stream",
     "text": [
      "[[1 2 3]\n",
      " [4 5 6]]\n"
     ]
    }
   ],
   "source": [
    "stats = np.array([[1, 2, 3], [4, 5, 6]])\n",
    "print(stats)"
   ]
  },
  {
   "cell_type": "code",
   "execution_count": 253,
   "id": "24c94118",
   "metadata": {},
   "outputs": [
    {
     "data": {
      "text/plain": [
       "1"
      ]
     },
     "execution_count": 253,
     "metadata": {},
     "output_type": "execute_result"
    }
   ],
   "source": [
    "np.min(stats)"
   ]
  },
  {
   "cell_type": "code",
   "execution_count": 254,
   "id": "af38061a",
   "metadata": {},
   "outputs": [
    {
     "data": {
      "text/plain": [
       "array([3, 6])"
      ]
     },
     "execution_count": 254,
     "metadata": {},
     "output_type": "execute_result"
    }
   ],
   "source": [
    "np.max(stats, axis = 1)"
   ]
  },
  {
   "cell_type": "code",
   "execution_count": 255,
   "id": "4b96eb0e",
   "metadata": {},
   "outputs": [
    {
     "data": {
      "text/plain": [
       "21"
      ]
     },
     "execution_count": 255,
     "metadata": {},
     "output_type": "execute_result"
    }
   ],
   "source": [
    "np.sum(stats)"
   ]
  },
  {
   "cell_type": "code",
   "execution_count": 256,
   "id": "7a193e9c",
   "metadata": {},
   "outputs": [
    {
     "data": {
      "text/plain": [
       "3.5"
      ]
     },
     "execution_count": 256,
     "metadata": {},
     "output_type": "execute_result"
    }
   ],
   "source": [
    "np.median(stats)"
   ]
  },
  {
   "cell_type": "code",
   "execution_count": 257,
   "id": "a7f16304",
   "metadata": {},
   "outputs": [
    {
     "data": {
      "text/plain": [
       "3.5"
      ]
     },
     "execution_count": 257,
     "metadata": {},
     "output_type": "execute_result"
    }
   ],
   "source": [
    "np.mean(stats)"
   ]
  },
  {
   "cell_type": "markdown",
   "id": "dbfdccca",
   "metadata": {},
   "source": [
    "### Reorganizing Arrays"
   ]
  },
  {
   "cell_type": "code",
   "execution_count": 258,
   "id": "4d2b95e7",
   "metadata": {},
   "outputs": [
    {
     "name": "stdout",
     "output_type": "stream",
     "text": [
      "[[1 2 3 4]\n",
      " [5 6 7 8]]\n",
      "[[1]\n",
      " [2]\n",
      " [3]\n",
      " [4]\n",
      " [5]\n",
      " [6]\n",
      " [7]\n",
      " [8]]\n",
      "[[[1 2]\n",
      "  [3 4]]\n",
      "\n",
      " [[5 6]\n",
      "  [7 8]]]\n"
     ]
    }
   ],
   "source": [
    "before = np.array([[1, 2, 3, 4], [5, 6, 7, 8]])\n",
    "print(before)\n",
    "\n",
    "after = before.reshape((8, 1))\n",
    "print(after)\n",
    "\n",
    "print(before.reshape(2, 2, 2))"
   ]
  },
  {
   "cell_type": "code",
   "execution_count": 259,
   "id": "14d9471a",
   "metadata": {},
   "outputs": [
    {
     "data": {
      "text/plain": [
       "array([[1, 2, 3, 4],\n",
       "       [5, 6, 7, 8],\n",
       "       [1, 2, 3, 4]])"
      ]
     },
     "execution_count": 259,
     "metadata": {},
     "output_type": "execute_result"
    }
   ],
   "source": [
    "# Vertically stacking vectors\n",
    "v1 = np.array([1, 2, 3, 4])\n",
    "v2 = np.array([5, 6, 7, 8])\n",
    "\n",
    "np.vstack([v1, v2, v1])"
   ]
  },
  {
   "cell_type": "code",
   "execution_count": 260,
   "id": "adcf198c",
   "metadata": {},
   "outputs": [
    {
     "data": {
      "text/plain": [
       "array([0, 0, 0, 0, 0, 1, 1, 1, 1, 1, 1, 1, 1, 1, 1, 0, 0, 0, 0, 0])"
      ]
     },
     "execution_count": 260,
     "metadata": {},
     "output_type": "execute_result"
    }
   ],
   "source": [
    "# Horizontally stacking vectors\n",
    "h1 = np.zeros(5, dtype = 'int16')\n",
    "h2 = np.ones(5, dtype = 'int32')\n",
    "\n",
    "np.hstack((h1, h2, h2, h1))"
   ]
  },
  {
   "cell_type": "markdown",
   "id": "0ebd1f3e",
   "metadata": {},
   "source": [
    "## Miscellaneous"
   ]
  },
  {
   "cell_type": "markdown",
   "id": "4f48ce6d",
   "metadata": {},
   "source": [
    "#### Load data from file"
   ]
  },
  {
   "cell_type": "code",
   "execution_count": 261,
   "id": "2fa3beb7",
   "metadata": {},
   "outputs": [
    {
     "name": "stdout",
     "output_type": "stream",
     "text": [
      "[[   1    3    5    2    5    5   12   32   52]\n",
      " [   5    2   23   55   23    2    5    4   -2]\n",
      " [1000  323   23  -23  -43   40   89   92  138]]\n"
     ]
    }
   ],
   "source": [
    "fileData = np.genfromtxt('data.txt', delimiter = ',').astype('int32')\n",
    "print(fileData)"
   ]
  },
  {
   "cell_type": "markdown",
   "id": "40114ec3",
   "metadata": {},
   "source": [
    "#### Boolean Masking and Advanced Indexing"
   ]
  },
  {
   "cell_type": "code",
   "execution_count": 262,
   "id": "61f8a9c4",
   "metadata": {},
   "outputs": [
    {
     "data": {
      "text/plain": [
       "array([[False, False, False, False, False, False, False,  True,  True],\n",
       "       [False, False,  True,  True,  True, False, False, False, False],\n",
       "       [ True,  True,  True, False, False,  True,  True,  True,  True]])"
      ]
     },
     "execution_count": 262,
     "metadata": {},
     "output_type": "execute_result"
    }
   ],
   "source": [
    "fileData > 20"
   ]
  },
  {
   "cell_type": "code",
   "execution_count": 263,
   "id": "d788c2e8",
   "metadata": {},
   "outputs": [
    {
     "data": {
      "text/plain": [
       "array([  32,   52,   55, 1000,  323,   40,   89,   92,  138])"
      ]
     },
     "execution_count": 263,
     "metadata": {},
     "output_type": "execute_result"
    }
   ],
   "source": [
    "fileData[fileData > 30]"
   ]
  },
  {
   "cell_type": "code",
   "execution_count": 264,
   "id": "63219862",
   "metadata": {},
   "outputs": [
    {
     "data": {
      "text/plain": [
       "array([2, 3, 9])"
      ]
     },
     "execution_count": 264,
     "metadata": {},
     "output_type": "execute_result"
    }
   ],
   "source": [
    "# Indexing with a list\n",
    "v = np.array([1, 2, 3, 4, 5, 6, 7, 8, 9])\n",
    "v[[1, 2, 8]]"
   ]
  },
  {
   "cell_type": "code",
   "execution_count": 265,
   "id": "142fa7df",
   "metadata": {},
   "outputs": [
    {
     "data": {
      "text/plain": [
       "array([ True,  True, False,  True, False, False,  True,  True,  True])"
      ]
     },
     "execution_count": 265,
     "metadata": {},
     "output_type": "execute_result"
    }
   ],
   "source": [
    "# Any value in column satisfies condition\n",
    "np.any(fileData > 50, axis = 0)"
   ]
  },
  {
   "cell_type": "code",
   "execution_count": 266,
   "id": "541262d1",
   "metadata": {},
   "outputs": [
    {
     "data": {
      "text/plain": [
       "array([False, False, False, False, False, False, False, False, False])"
      ]
     },
     "execution_count": 266,
     "metadata": {},
     "output_type": "execute_result"
    }
   ],
   "source": [
    "# All values in column satisfies condition\n",
    "np.all(fileData > 50, axis = 0)"
   ]
  },
  {
   "cell_type": "code",
   "execution_count": 267,
   "id": "959d28e6",
   "metadata": {},
   "outputs": [
    {
     "data": {
      "text/plain": [
       "array([[False, False,  True, False,  True,  True,  True, False, False],\n",
       "       [ True, False, False, False, False, False,  True, False, False],\n",
       "       [False, False, False, False, False, False, False, False, False]])"
      ]
     },
     "execution_count": 267,
     "metadata": {},
     "output_type": "execute_result"
    }
   ],
   "source": [
    "# Check conditions for each value\n",
    "((fileData < 20) & (fileData >= 5))"
   ]
  },
  {
   "cell_type": "code",
   "execution_count": 268,
   "id": "ca8b5694",
   "metadata": {},
   "outputs": [
    {
     "data": {
      "text/plain": [
       "array([[ True,  True, False,  True, False, False, False,  True,  True],\n",
       "       [False,  True,  True,  True,  True,  True, False,  True,  True],\n",
       "       [ True,  True,  True,  True,  True,  True,  True,  True,  True]])"
      ]
     },
     "execution_count": 268,
     "metadata": {},
     "output_type": "execute_result"
    }
   ],
   "source": [
    "~((fileData < 20) & (fileData >= 5))"
   ]
  }
 ],
 "metadata": {
  "kernelspec": {
   "display_name": "Python 3 (ipykernel)",
   "language": "python",
   "name": "python3"
  },
  "language_info": {
   "codemirror_mode": {
    "name": "ipython",
    "version": 3
   },
   "file_extension": ".py",
   "mimetype": "text/x-python",
   "name": "python",
   "nbconvert_exporter": "python",
   "pygments_lexer": "ipython3",
   "version": "3.11.3"
  }
 },
 "nbformat": 4,
 "nbformat_minor": 5
}

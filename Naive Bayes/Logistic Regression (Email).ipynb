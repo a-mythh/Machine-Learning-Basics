{
 "cells": [
  {
   "cell_type": "markdown",
   "id": "bfe40e5b",
   "metadata": {},
   "source": [
    "## Implementing Logistic Regression Manually"
   ]
  },
  {
   "cell_type": "markdown",
   "id": "dd3aad51",
   "metadata": {},
   "source": [
    "#### Load the necessary libraries"
   ]
  },
  {
   "cell_type": "code",
   "execution_count": 43,
   "id": "06f355fe",
   "metadata": {},
   "outputs": [],
   "source": [
    "import pandas as pd\n",
    "import numpy as np\n",
    "import matplotlib.pyplot as plt\n",
    "import copy"
   ]
  },
  {
   "cell_type": "markdown",
   "id": "2a9a4e0e",
   "metadata": {},
   "source": [
    "#### Load the dataset"
   ]
  },
  {
   "cell_type": "code",
   "execution_count": 31,
   "id": "0981b289",
   "metadata": {},
   "outputs": [
    {
     "data": {
      "text/html": [
       "<div>\n",
       "<style scoped>\n",
       "    .dataframe tbody tr th:only-of-type {\n",
       "        vertical-align: middle;\n",
       "    }\n",
       "\n",
       "    .dataframe tbody tr th {\n",
       "        vertical-align: top;\n",
       "    }\n",
       "\n",
       "    .dataframe thead th {\n",
       "        text-align: right;\n",
       "    }\n",
       "</style>\n",
       "<table border=\"1\" class=\"dataframe\">\n",
       "  <thead>\n",
       "    <tr style=\"text-align: right;\">\n",
       "      <th></th>\n",
       "      <th>x0</th>\n",
       "      <th>x1</th>\n",
       "      <th>x2</th>\n",
       "      <th>x3</th>\n",
       "      <th>x4</th>\n",
       "      <th>x5</th>\n",
       "      <th>class</th>\n",
       "    </tr>\n",
       "  </thead>\n",
       "  <tbody>\n",
       "    <tr>\n",
       "      <th>0</th>\n",
       "      <td>1</td>\n",
       "      <td>1</td>\n",
       "      <td>1</td>\n",
       "      <td>0</td>\n",
       "      <td>1</td>\n",
       "      <td>1</td>\n",
       "      <td>1</td>\n",
       "    </tr>\n",
       "    <tr>\n",
       "      <th>1</th>\n",
       "      <td>1</td>\n",
       "      <td>0</td>\n",
       "      <td>0</td>\n",
       "      <td>1</td>\n",
       "      <td>1</td>\n",
       "      <td>0</td>\n",
       "      <td>0</td>\n",
       "    </tr>\n",
       "    <tr>\n",
       "      <th>2</th>\n",
       "      <td>1</td>\n",
       "      <td>0</td>\n",
       "      <td>1</td>\n",
       "      <td>1</td>\n",
       "      <td>0</td>\n",
       "      <td>0</td>\n",
       "      <td>1</td>\n",
       "    </tr>\n",
       "    <tr>\n",
       "      <th>3</th>\n",
       "      <td>1</td>\n",
       "      <td>1</td>\n",
       "      <td>0</td>\n",
       "      <td>0</td>\n",
       "      <td>1</td>\n",
       "      <td>0</td>\n",
       "      <td>0</td>\n",
       "    </tr>\n",
       "    <tr>\n",
       "      <th>4</th>\n",
       "      <td>1</td>\n",
       "      <td>1</td>\n",
       "      <td>0</td>\n",
       "      <td>1</td>\n",
       "      <td>0</td>\n",
       "      <td>1</td>\n",
       "      <td>1</td>\n",
       "    </tr>\n",
       "  </tbody>\n",
       "</table>\n",
       "</div>"
      ],
      "text/plain": [
       "   x0  x1  x2  x3  x4  x5  class\n",
       "0   1   1   1   0   1   1      1\n",
       "1   1   0   0   1   1   0      0\n",
       "2   1   0   1   1   0   0      1\n",
       "3   1   1   0   0   1   0      0\n",
       "4   1   1   0   1   0   1      1"
      ]
     },
     "execution_count": 31,
     "metadata": {},
     "output_type": "execute_result"
    }
   ],
   "source": [
    "data = pd.read_csv('email.csv')\n",
    "data.head()"
   ]
  },
  {
   "cell_type": "markdown",
   "id": "c76f2dd4",
   "metadata": {},
   "source": [
    "#### Separate features and class"
   ]
  },
  {
   "cell_type": "code",
   "execution_count": 32,
   "id": "b6aabeed",
   "metadata": {},
   "outputs": [],
   "source": [
    "# shuffle the dataset\n",
    "data = data.sample(frac = 1)\n",
    "\n",
    "x = data.iloc[:, 1:6]\n",
    "y = data.iloc[:, -1:]"
   ]
  },
  {
   "cell_type": "markdown",
   "id": "d098f7f1",
   "metadata": {},
   "source": [
    "#### Separate training and testing dataset"
   ]
  },
  {
   "cell_type": "code",
   "execution_count": 33,
   "id": "1f6078dd",
   "metadata": {},
   "outputs": [
    {
     "data": {
      "text/plain": [
       "array([[0, 0, 1, 1, 0],\n",
       "       [1, 1, 1, 1, 0],\n",
       "       [1, 0, 1, 0, 1],\n",
       "       [1, 0, 1, 0, 1],\n",
       "       [1, 1, 0, 1, 1],\n",
       "       [1, 0, 0, 1, 0],\n",
       "       [0, 1, 1, 0, 0],\n",
       "       [0, 0, 1, 1, 0],\n",
       "       [1, 0, 1, 1, 0],\n",
       "       [1, 1, 0, 1, 1],\n",
       "       [1, 0, 1, 1, 0],\n",
       "       [1, 0, 0, 1, 0]], dtype=int64)"
      ]
     },
     "execution_count": 33,
     "metadata": {},
     "output_type": "execute_result"
    }
   ],
   "source": [
    "train_size = int(0.7 * len(x))\n",
    "test_size = len(x) - train_size\n",
    "\n",
    "x_train, y_train = x.iloc[:train_size], y.iloc[:train_size]\n",
    "x_test, y_test = x.iloc[train_size:], y.iloc[train_size:]\n",
    "\n",
    "# training data set\n",
    "x_train = x_train.values\n",
    "y_train = y_train.values.flatten()\n",
    "\n",
    "# testing data set\n",
    "x_test = x_test.values\n",
    "y_test = y_test.values.flatten()\n",
    "\n",
    "x_train"
   ]
  },
  {
   "cell_type": "markdown",
   "id": "607b1715",
   "metadata": {},
   "source": [
    "#### Define the sigmoid function"
   ]
  },
  {
   "cell_type": "code",
   "execution_count": 34,
   "id": "38186d14",
   "metadata": {},
   "outputs": [],
   "source": [
    "def sigmoid(z):\n",
    "    g = 1 / (1 + np.exp(-z))\n",
    "    return g"
   ]
  },
  {
   "cell_type": "markdown",
   "id": "d1b615e4",
   "metadata": {},
   "source": [
    "#### Define the cost function\n",
    "\n",
    "$$loss(f(\\mathbf{x}^{(i)}), y^{(i)}) = -y^{(i)} \\log\\left(f\\left( \\mathbf{x}^{(i)} \\right) \\right) - \\left( 1 - y^{(i)}\\right) \\log \\left( 1 - f\\left( \\mathbf{x}^{(i)} \\right) \\right) $$"
   ]
  },
  {
   "cell_type": "code",
   "execution_count": 35,
   "id": "275bb844",
   "metadata": {},
   "outputs": [],
   "source": [
    "def compute_cost(x, y, w, b):\n",
    "    cost = 0\n",
    "    m = len(y)\n",
    "    \n",
    "    for i in range(m):\n",
    "        z_i = np.dot(x[i], w) + b\n",
    "        y_hat = sigmoid(z_i)\n",
    "        \n",
    "        cost += -y[i] * np.log10(y_hat) + (1 - y[i]) * np.log10(1 - y_hat)\n",
    "    \n",
    "    cost = cost / m\n",
    "    \n",
    "    return cost"
   ]
  },
  {
   "cell_type": "markdown",
   "id": "22e9c29c",
   "metadata": {},
   "source": [
    "#### Compute Gradient\n",
    "\n",
    "$$\\begin{align*}\n",
    "\\frac{\\partial J(\\mathbf{w},b)}{\\partial w_j}  &= \\frac{1}{m} \\sum\\limits_{i = 0}^{m-1} (f_{\\mathbf{w},b}(\\mathbf{x}^{(i)}) - y^{(i)})x_{j}^{(i)} \\\\\n",
    "\\frac{\\partial J(\\mathbf{w},b)}{\\partial b}  &= \\frac{1}{m} \\sum\\limits_{i = 0}^{m-1} (f_{\\mathbf{w},b}(\\mathbf{x}^{(i)}) - y^{(i)})\n",
    "\\end{align*}$$"
   ]
  },
  {
   "cell_type": "code",
   "execution_count": 36,
   "id": "3d521430",
   "metadata": {},
   "outputs": [],
   "source": [
    "def compute_gradient(x, y, w, b):\n",
    "    m, n = x.shape\n",
    "    dj_dw = np.zeros((n, ))\n",
    "    dj_db = 0\n",
    "    \n",
    "    for i in range(m):\n",
    "        f_i = sigmoid(np.dot(x[i], w) + b)\n",
    "        err_i = f_i - y[i]\n",
    "        \n",
    "        for j in range(n):\n",
    "            dj_dw[j] = dj_dw[j] + err_i * x[i, j]\n",
    "        \n",
    "        dj_db = dj_db + err_i\n",
    "        \n",
    "    dj_dw = dj_dw / m\n",
    "    dj_db = dj_db / m\n",
    "    \n",
    "    return dj_db, dj_dw"
   ]
  },
  {
   "cell_type": "markdown",
   "id": "78104952",
   "metadata": {},
   "source": [
    "#### Implement Gradient Descent\n",
    "\n",
    "$$\\begin{align*}\n",
    "&\\text{repeat until convergence:} \\; \\lbrace \\\\\n",
    "&  \\; \\; \\;w_j = w_j -  \\alpha \\frac{\\partial J(\\mathbf{w},b)}{\\partial w_j}  \\; & \\text{for j := 0..n-1} \\\\ \n",
    "&  \\; \\; \\;  \\; \\;b = b -  \\alpha \\frac{\\partial J(\\mathbf{w},b)}{\\partial b} \\\\\n",
    "&\\rbrace\n",
    "\\end{align*}$$"
   ]
  },
  {
   "cell_type": "code",
   "execution_count": 37,
   "id": "150b55f7",
   "metadata": {},
   "outputs": [],
   "source": [
    "def gradient_descent(x, y, w_in, b_in, alpha, epochs):\n",
    "    \n",
    "    cost_history = []\n",
    "    w = copy.deepcopy(w_in)\n",
    "    b = b_in\n",
    "    \n",
    "    for i in range(epochs):\n",
    "        \n",
    "        # calculate gradient and update parameters\n",
    "        dj_db, dj_dw = compute_gradient(x, y, w, b)\n",
    "        \n",
    "        # update parameters\n",
    "        w = w - alpha * dj_dw\n",
    "        b = b - alpha * dj_db\n",
    "        \n",
    "        cost_history.append(compute_cost(x, y, w, b))\n",
    "        \n",
    "        # print cost after iterations\n",
    "        if (i % math.ceil(epochs / 10)) == 0:\n",
    "            print(\"Iteration\", i, \": Cost\", cost_history[-1])\n",
    "            \n",
    "    return w, b, cost_history"
   ]
  },
  {
   "cell_type": "markdown",
   "id": "4feeff59",
   "metadata": {},
   "source": [
    "#### Run gradient descent on training set"
   ]
  },
  {
   "cell_type": "code",
   "execution_count": 38,
   "id": "8c63a888",
   "metadata": {},
   "outputs": [
    {
     "name": "stdout",
     "output_type": "stream",
     "text": [
      "Iteration 0 : Cost -0.04493619060897102\n",
      "Iteration 100 : Cost 0.004990705677793\n",
      "Iteration 200 : Cost 0.003046855490899157\n",
      "Iteration 300 : Cost 0.0023646915786415513\n",
      "Iteration 400 : Cost 0.002008043742488879\n",
      "Iteration 500 : Cost 0.0017813494469775765\n",
      "Iteration 600 : Cost 0.0016195263851390854\n",
      "Iteration 700 : Cost 0.0014949971098055877\n",
      "Iteration 800 : Cost 0.0013942191171873984\n",
      "Iteration 900 : Cost 0.0013097877156859163\n",
      "\n",
      "Updated Parameters :\n",
      "w = [-0.37718249  2.38965929 -0.56101955 -3.52826194  4.18477583] \n",
      "b = 0.20577045645435854\n"
     ]
    }
   ],
   "source": [
    "# initialize the weights\n",
    "w_tmp = np.zeros_like(x_train[0])\n",
    "b_tmp = 0\n",
    "\n",
    "alpha = 0.1\n",
    "epochs = 1000\n",
    "\n",
    "w_out, b_out, _ = gradient_descent(x_train, y_train, w_tmp, b_tmp, alpha, epochs)\n",
    "\n",
    "print(\"\\nUpdated Parameters :\\nw =\", w_out, \"\\nb =\", b_out)"
   ]
  },
  {
   "cell_type": "markdown",
   "id": "c117ced5",
   "metadata": {},
   "source": [
    "#### Predict the probability"
   ]
  },
  {
   "cell_type": "code",
   "execution_count": 39,
   "id": "af457d31",
   "metadata": {},
   "outputs": [],
   "source": [
    "def predict(x, w, b):\n",
    "    predictions = []\n",
    "    m = x.shape[0]\n",
    "    \n",
    "    for i in range(m):\n",
    "        z = np.dot(x[i], w) + b\n",
    "        predictions.append(sigmoid(z))\n",
    "        \n",
    "    return np.array(predictions)"
   ]
  },
  {
   "cell_type": "markdown",
   "id": "39a81b02",
   "metadata": {},
   "source": [
    "#### Predict values for test dataset"
   ]
  },
  {
   "cell_type": "code",
   "execution_count": 40,
   "id": "7bcd6b20",
   "metadata": {},
   "outputs": [],
   "source": [
    "y_predict = predict(x_test, w_out, b_out)\n",
    "\n",
    "# round off to nearest integer for binary classification\n",
    "y_predict = np.rint(y_predict).astype(int)"
   ]
  },
  {
   "cell_type": "markdown",
   "id": "12003352",
   "metadata": {},
   "source": [
    "#### Find accuracy of predictions"
   ]
  },
  {
   "cell_type": "code",
   "execution_count": 41,
   "id": "ca333008",
   "metadata": {},
   "outputs": [],
   "source": [
    "def calculate_accuracy(y, y_hat):\n",
    "    m = len(y)\n",
    "    count = 0\n",
    "    \n",
    "    for i in range(m):\n",
    "        if (y[i] == y_hat[i]):\n",
    "            count += 1\n",
    "            \n",
    "    accuracy = count / m * 100\n",
    "    print(\"Accuracy =\", accuracy, \"%\")"
   ]
  },
  {
   "cell_type": "code",
   "execution_count": 42,
   "id": "481374d7",
   "metadata": {},
   "outputs": [
    {
     "name": "stdout",
     "output_type": "stream",
     "text": [
      "Accuracy = 100.0 %\n"
     ]
    }
   ],
   "source": [
    "calculate_accuracy(y_test, y_predict)"
   ]
  },
  {
   "cell_type": "markdown",
   "id": "5f00348c",
   "metadata": {},
   "source": [
    "## Implementing Logistic Regression using sklearn"
   ]
  },
  {
   "cell_type": "markdown",
   "id": "27f11e8d",
   "metadata": {},
   "source": [
    "#### Load necessary libraries"
   ]
  },
  {
   "cell_type": "code",
   "execution_count": 44,
   "id": "489845f9",
   "metadata": {},
   "outputs": [],
   "source": [
    "from sklearn.linear_model import LogisticRegression"
   ]
  },
  {
   "cell_type": "markdown",
   "id": "d67a0407",
   "metadata": {},
   "source": [
    "#### Build the model"
   ]
  },
  {
   "cell_type": "code",
   "execution_count": 46,
   "id": "4c50934d",
   "metadata": {},
   "outputs": [
    {
     "data": {
      "text/html": [
       "<style>#sk-container-id-1 {color: black;background-color: white;}#sk-container-id-1 pre{padding: 0;}#sk-container-id-1 div.sk-toggleable {background-color: white;}#sk-container-id-1 label.sk-toggleable__label {cursor: pointer;display: block;width: 100%;margin-bottom: 0;padding: 0.3em;box-sizing: border-box;text-align: center;}#sk-container-id-1 label.sk-toggleable__label-arrow:before {content: \"▸\";float: left;margin-right: 0.25em;color: #696969;}#sk-container-id-1 label.sk-toggleable__label-arrow:hover:before {color: black;}#sk-container-id-1 div.sk-estimator:hover label.sk-toggleable__label-arrow:before {color: black;}#sk-container-id-1 div.sk-toggleable__content {max-height: 0;max-width: 0;overflow: hidden;text-align: left;background-color: #f0f8ff;}#sk-container-id-1 div.sk-toggleable__content pre {margin: 0.2em;color: black;border-radius: 0.25em;background-color: #f0f8ff;}#sk-container-id-1 input.sk-toggleable__control:checked~div.sk-toggleable__content {max-height: 200px;max-width: 100%;overflow: auto;}#sk-container-id-1 input.sk-toggleable__control:checked~label.sk-toggleable__label-arrow:before {content: \"▾\";}#sk-container-id-1 div.sk-estimator input.sk-toggleable__control:checked~label.sk-toggleable__label {background-color: #d4ebff;}#sk-container-id-1 div.sk-label input.sk-toggleable__control:checked~label.sk-toggleable__label {background-color: #d4ebff;}#sk-container-id-1 input.sk-hidden--visually {border: 0;clip: rect(1px 1px 1px 1px);clip: rect(1px, 1px, 1px, 1px);height: 1px;margin: -1px;overflow: hidden;padding: 0;position: absolute;width: 1px;}#sk-container-id-1 div.sk-estimator {font-family: monospace;background-color: #f0f8ff;border: 1px dotted black;border-radius: 0.25em;box-sizing: border-box;margin-bottom: 0.5em;}#sk-container-id-1 div.sk-estimator:hover {background-color: #d4ebff;}#sk-container-id-1 div.sk-parallel-item::after {content: \"\";width: 100%;border-bottom: 1px solid gray;flex-grow: 1;}#sk-container-id-1 div.sk-label:hover label.sk-toggleable__label {background-color: #d4ebff;}#sk-container-id-1 div.sk-serial::before {content: \"\";position: absolute;border-left: 1px solid gray;box-sizing: border-box;top: 0;bottom: 0;left: 50%;z-index: 0;}#sk-container-id-1 div.sk-serial {display: flex;flex-direction: column;align-items: center;background-color: white;padding-right: 0.2em;padding-left: 0.2em;position: relative;}#sk-container-id-1 div.sk-item {position: relative;z-index: 1;}#sk-container-id-1 div.sk-parallel {display: flex;align-items: stretch;justify-content: center;background-color: white;position: relative;}#sk-container-id-1 div.sk-item::before, #sk-container-id-1 div.sk-parallel-item::before {content: \"\";position: absolute;border-left: 1px solid gray;box-sizing: border-box;top: 0;bottom: 0;left: 50%;z-index: -1;}#sk-container-id-1 div.sk-parallel-item {display: flex;flex-direction: column;z-index: 1;position: relative;background-color: white;}#sk-container-id-1 div.sk-parallel-item:first-child::after {align-self: flex-end;width: 50%;}#sk-container-id-1 div.sk-parallel-item:last-child::after {align-self: flex-start;width: 50%;}#sk-container-id-1 div.sk-parallel-item:only-child::after {width: 0;}#sk-container-id-1 div.sk-dashed-wrapped {border: 1px dashed gray;margin: 0 0.4em 0.5em 0.4em;box-sizing: border-box;padding-bottom: 0.4em;background-color: white;}#sk-container-id-1 div.sk-label label {font-family: monospace;font-weight: bold;display: inline-block;line-height: 1.2em;}#sk-container-id-1 div.sk-label-container {text-align: center;}#sk-container-id-1 div.sk-container {/* jupyter's `normalize.less` sets `[hidden] { display: none; }` but bootstrap.min.css set `[hidden] { display: none !important; }` so we also need the `!important` here to be able to override the default hidden behavior on the sphinx rendered scikit-learn.org. See: https://github.com/scikit-learn/scikit-learn/issues/21755 */display: inline-block !important;position: relative;}#sk-container-id-1 div.sk-text-repr-fallback {display: none;}</style><div id=\"sk-container-id-1\" class=\"sk-top-container\"><div class=\"sk-text-repr-fallback\"><pre>LogisticRegression()</pre><b>In a Jupyter environment, please rerun this cell to show the HTML representation or trust the notebook. <br />On GitHub, the HTML representation is unable to render, please try loading this page with nbviewer.org.</b></div><div class=\"sk-container\" hidden><div class=\"sk-item\"><div class=\"sk-estimator sk-toggleable\"><input class=\"sk-toggleable__control sk-hidden--visually\" id=\"sk-estimator-id-1\" type=\"checkbox\" checked><label for=\"sk-estimator-id-1\" class=\"sk-toggleable__label sk-toggleable__label-arrow\">LogisticRegression</label><div class=\"sk-toggleable__content\"><pre>LogisticRegression()</pre></div></div></div></div></div>"
      ],
      "text/plain": [
       "LogisticRegression()"
      ]
     },
     "execution_count": 46,
     "metadata": {},
     "output_type": "execute_result"
    }
   ],
   "source": [
    "classifier = LogisticRegression()\n",
    "\n",
    "classifier.fit(x_train, y_train)"
   ]
  },
  {
   "cell_type": "markdown",
   "id": "856cf4fd",
   "metadata": {},
   "source": [
    "#### Predict the values of test dataset"
   ]
  },
  {
   "cell_type": "code",
   "execution_count": 47,
   "id": "8e4871e4",
   "metadata": {},
   "outputs": [],
   "source": [
    "y_predictions = classifier.predict(x_test)"
   ]
  },
  {
   "cell_type": "markdown",
   "id": "a1a8b94e",
   "metadata": {},
   "source": [
    "#### Find the accuracy"
   ]
  },
  {
   "cell_type": "code",
   "execution_count": 50,
   "id": "01abc040",
   "metadata": {},
   "outputs": [
    {
     "name": "stdout",
     "output_type": "stream",
     "text": [
      "Accuracy = 100.0 %\n"
     ]
    }
   ],
   "source": [
    "calculate_accuracy(y_test, y_predictions)"
   ]
  }
 ],
 "metadata": {
  "kernelspec": {
   "display_name": "Python 3 (ipykernel)",
   "language": "python",
   "name": "python3"
  },
  "language_info": {
   "codemirror_mode": {
    "name": "ipython",
    "version": 3
   },
   "file_extension": ".py",
   "mimetype": "text/x-python",
   "name": "python",
   "nbconvert_exporter": "python",
   "pygments_lexer": "ipython3",
   "version": "3.11.3"
  }
 },
 "nbformat": 4,
 "nbformat_minor": 5
}
